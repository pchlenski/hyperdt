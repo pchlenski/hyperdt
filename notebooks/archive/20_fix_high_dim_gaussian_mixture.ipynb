{
 "cells": [
  {
   "cell_type": "markdown",
   "metadata": {},
   "source": [
    "# Fix high dimensional gaussian mixture\n",
    "> Why does my script break past ~8 dimensions?"
   ]
  },
  {
   "cell_type": "code",
   "execution_count": 1,
   "metadata": {},
   "outputs": [],
   "source": [
    "%load_ext autoreload\n",
    "%autoreload 2"
   ]
  },
  {
   "cell_type": "code",
   "execution_count": 3,
   "metadata": {},
   "outputs": [
    {
     "name": "stderr",
     "output_type": "stream",
     "text": [
      "INFO: Using numpy backend\n"
     ]
    }
   ],
   "source": [
    "import numpy as np\n",
    "from geomstats.geometry.hyperbolic import Hyperbolic"
   ]
  },
  {
   "cell_type": "code",
   "execution_count": 4,
   "metadata": {},
   "outputs": [],
   "source": [
    "# Reference code:\n",
    "\n",
    "\n",
    "def wrapped_normal_mixture(\n",
    "    num_points: int,\n",
    "    num_classes: int,\n",
    "    noise_std: float = 1.0,\n",
    "    n_dim: int = 2,\n",
    "    default_coords_type: str = \"extrinsic\",\n",
    "    seed: int = None,\n",
    ") -> np.ndarray:\n",
    "    \"\"\"Generate points from a mixture of Gaussians on the hyperboloid\"\"\"\n",
    "\n",
    "    # Set seed\n",
    "    if seed is not None:\n",
    "        np.random.seed(seed)\n",
    "\n",
    "    # Make manifold\n",
    "    hyp = Hyperbolic(dim=n_dim, default_coords_type=default_coords_type)\n",
    "    origin = np.array([1.0] + [0.0] * n_dim)\n",
    "\n",
    "    # Generate random means; parallel transport from origin\n",
    "    means = np.concatenate(\n",
    "        [\n",
    "            np.zeros(shape=(num_classes, 1)),\n",
    "            np.random.normal(size=(num_classes, n_dim)),\n",
    "        ],\n",
    "        axis=1,\n",
    "    )\n",
    "    means = hyp.metric.exp(tangent_vec=means, base_point=origin)\n",
    "\n",
    "    # Generate random covariance matrices\n",
    "    covs = np.zeros((num_classes, n_dim, n_dim))\n",
    "    for i in range(num_classes):\n",
    "        covs[i] = np.random.normal(size=(n_dim, n_dim))\n",
    "        covs[i] = covs[i] @ covs[i].T\n",
    "    covs = noise_std * covs\n",
    "\n",
    "    # Generate random class probabilities\n",
    "    probs = np.random.uniform(size=num_classes)\n",
    "    probs = probs / np.sum(probs)\n",
    "\n",
    "    # First, determine class assignments\n",
    "    classes = np.random.choice(num_classes, size=num_points, p=probs)\n",
    "\n",
    "    # Sample the appropriate covariance matrix and make tangent vectors\n",
    "    vecs = [np.random.multivariate_normal(np.zeros(n_dim), covs[c]) for c in classes]\n",
    "    tangent_vecs = np.concatenate([np.zeros(shape=(num_points, 1)), vecs], axis=1)\n",
    "\n",
    "    # Transport each tangent vector to its corresponding mean on the hyperboloid\n",
    "    tangent_vecs_transported = hyp.metric.parallel_transport(\n",
    "        tangent_vec=tangent_vecs, base_point=origin, end_point=means[classes]\n",
    "    )\n",
    "\n",
    "    # Exponential map to hyperboloid at the class mean\n",
    "    tangent_vecs_transported = tangent_vecs_transported[~np.isclose(hyp.metric.norm(tangent_vecs_transported), 0)]\n",
    "    points = hyp.metric.exp(tangent_vec=tangent_vecs_transported, base_point=means[classes])\n",
    "\n",
    "    return points, classes"
   ]
  },
  {
   "cell_type": "code",
   "execution_count": 15,
   "metadata": {},
   "outputs": [
    {
     "ename": "ValueError",
     "evalue": "Cannot project a vector of norm 0. in the Minkowski space to the hyperboloid",
     "output_type": "error",
     "traceback": [
      "\u001b[0;31m---------------------------------------------------------------------------\u001b[0m",
      "\u001b[0;31mValueError\u001b[0m                                Traceback (most recent call last)",
      "\u001b[1;32m/home/phil/hdt/20_fix_high_dim_gaussian_mixture.ipynb Cell 5\u001b[0m line \u001b[0;36m4\n\u001b[1;32m     <a href='vscode-notebook-cell://ssh-remote%2Beumaeus/home/phil/hdt/20_fix_high_dim_gaussian_mixture.ipynb#W5sdnNjb2RlLXJlbW90ZQ%3D%3D?line=43'>44</a>\u001b[0m \u001b[39m# Exponential map to hyperboloid at the class mean\u001b[39;00m\n\u001b[1;32m     <a href='vscode-notebook-cell://ssh-remote%2Beumaeus/home/phil/hdt/20_fix_high_dim_gaussian_mixture.ipynb#W5sdnNjb2RlLXJlbW90ZQ%3D%3D?line=44'>45</a>\u001b[0m tangent_vecs_transported \u001b[39m=\u001b[39m tangent_vecs_transported[\u001b[39m~\u001b[39mnp\u001b[39m.\u001b[39misclose(hyp\u001b[39m.\u001b[39mmetric\u001b[39m.\u001b[39mnorm(tangent_vecs_transported), \u001b[39m0\u001b[39m)]\n\u001b[0;32m---> <a href='vscode-notebook-cell://ssh-remote%2Beumaeus/home/phil/hdt/20_fix_high_dim_gaussian_mixture.ipynb#W5sdnNjb2RlLXJlbW90ZQ%3D%3D?line=45'>46</a>\u001b[0m points \u001b[39m=\u001b[39m hyp\u001b[39m.\u001b[39mmetric\u001b[39m.\u001b[39mexp(tangent_vec\u001b[39m=\u001b[39mtangent_vecs_transported, base_point\u001b[39m=\u001b[39mmeans[classes])\n",
      "File \u001b[0;32m~/mambaforge/envs/hdt/lib/python3.11/site-packages/geomstats/geometry/hyperboloid.py:284\u001b[0m, in \u001b[0;36mHyperboloidMetric.exp\u001b[0;34m(self, tangent_vec, base_point)\u001b[0m\n\u001b[1;32m    276\u001b[0m coef_2 \u001b[39m=\u001b[39m utils\u001b[39m.\u001b[39mtaylor_exp_even_func(\n\u001b[1;32m    277\u001b[0m     sq_norm_tangent_vec, utils\u001b[39m.\u001b[39msinch_close_0, order\u001b[39m=\u001b[39m\u001b[39m5\u001b[39m\n\u001b[1;32m    278\u001b[0m )\n\u001b[1;32m    280\u001b[0m exp \u001b[39m=\u001b[39m gs\u001b[39m.\u001b[39meinsum(\u001b[39m\"\u001b[39m\u001b[39m...,...j->...j\u001b[39m\u001b[39m\"\u001b[39m, coef_1, base_point) \u001b[39m+\u001b[39m gs\u001b[39m.\u001b[39meinsum(\n\u001b[1;32m    281\u001b[0m     \u001b[39m\"\u001b[39m\u001b[39m...,...j->...j\u001b[39m\u001b[39m\"\u001b[39m, coef_2, tangent_vec\n\u001b[1;32m    282\u001b[0m )\n\u001b[0;32m--> 284\u001b[0m \u001b[39mreturn\u001b[39;00m \u001b[39mself\u001b[39m\u001b[39m.\u001b[39m_space\u001b[39m.\u001b[39mregularize(exp)\n",
      "File \u001b[0;32m~/mambaforge/envs/hdt/lib/python3.11/site-packages/geomstats/geometry/hyperboloid.py:111\u001b[0m, in \u001b[0;36mHyperboloid.regularize\u001b[0;34m(self, point)\u001b[0m\n\u001b[1;32m    109\u001b[0m sq_norm \u001b[39m=\u001b[39m \u001b[39mself\u001b[39m\u001b[39m.\u001b[39membedding_space\u001b[39m.\u001b[39mmetric\u001b[39m.\u001b[39msquared_norm(point)\n\u001b[1;32m    110\u001b[0m \u001b[39mif\u001b[39;00m \u001b[39mnot\u001b[39;00m gs\u001b[39m.\u001b[39mall(sq_norm):\n\u001b[0;32m--> 111\u001b[0m     \u001b[39mraise\u001b[39;00m \u001b[39mValueError\u001b[39;00m(\n\u001b[1;32m    112\u001b[0m         \u001b[39m\"\u001b[39m\u001b[39mCannot project a vector of norm 0. in the \u001b[39m\u001b[39m\"\u001b[39m\n\u001b[1;32m    113\u001b[0m         \u001b[39m\"\u001b[39m\u001b[39mMinkowski space to the hyperboloid\u001b[39m\u001b[39m\"\u001b[39m\n\u001b[1;32m    114\u001b[0m     )\n\u001b[1;32m    115\u001b[0m real_norm \u001b[39m=\u001b[39m gs\u001b[39m.\u001b[39msqrt(gs\u001b[39m.\u001b[39mabs(sq_norm))\n\u001b[1;32m    116\u001b[0m projected_point \u001b[39m=\u001b[39m gs\u001b[39m.\u001b[39meinsum(\u001b[39m\"\u001b[39m\u001b[39m...i,...->...i\u001b[39m\u001b[39m\"\u001b[39m, point, \u001b[39m1.0\u001b[39m \u001b[39m/\u001b[39m real_norm)\n",
      "\u001b[0;31mValueError\u001b[0m: Cannot project a vector of norm 0. in the Minkowski space to the hyperboloid"
     ]
    }
   ],
   "source": [
    "n_dim = 64\n",
    "num_classes = 2\n",
    "noise_std = 0.1\n",
    "num_points = 1000\n",
    "\n",
    "np.random.seed(15)\n",
    "\n",
    "hyp = Hyperbolic(dim=n_dim, default_coords_type=\"extrinsic\")\n",
    "origin = np.array([1.0] + [0.0] * n_dim)\n",
    "\n",
    "# Generate random means; parallel transport from origin\n",
    "means = np.concatenate(\n",
    "    [\n",
    "        np.zeros(shape=(num_classes, 1)),\n",
    "        np.random.normal(size=(num_classes, n_dim)),\n",
    "    ],\n",
    "    axis=1,\n",
    ")\n",
    "means = hyp.metric.exp(tangent_vec=means, base_point=origin)\n",
    "\n",
    "# Generate random covariance matrices\n",
    "covs = np.zeros((num_classes, n_dim, n_dim))\n",
    "for i in range(num_classes):\n",
    "    covs[i] = np.random.normal(size=(n_dim, n_dim))\n",
    "    covs[i] = covs[i] @ covs[i].T\n",
    "covs = noise_std * covs\n",
    "\n",
    "# Generate random class probabilities\n",
    "probs = np.random.uniform(size=num_classes)\n",
    "probs = probs / np.sum(probs)\n",
    "\n",
    "# First, determine class assignments\n",
    "classes = np.random.choice(num_classes, size=num_points, p=probs)\n",
    "\n",
    "# Sample the appropriate covariance matrix and make tangent vectors\n",
    "vecs = [np.random.multivariate_normal(np.zeros(n_dim), covs[c]) for c in classes]\n",
    "tangent_vecs = np.concatenate([np.zeros(shape=(num_points, 1)), vecs], axis=1)\n",
    "\n",
    "# Transport each tangent vector to its corresponding mean on the hyperboloid\n",
    "tangent_vecs_transported = hyp.metric.parallel_transport(\n",
    "    tangent_vec=tangent_vecs, base_point=origin, end_point=means[classes]\n",
    ")\n",
    "\n",
    "# Exponential map to hyperboloid at the class mean\n",
    "tangent_vecs_transported = tangent_vecs_transported[~np.isclose(hyp.metric.norm(tangent_vecs_transported), 0)]\n",
    "points = hyp.metric.exp(tangent_vec=tangent_vecs_transported, base_point=means[classes])"
   ]
  },
  {
   "cell_type": "code",
   "execution_count": 43,
   "metadata": {},
   "outputs": [
    {
     "data": {
      "text/plain": [
       "192.90119575336576"
      ]
     },
     "execution_count": 43,
     "metadata": {},
     "output_type": "execute_result"
    }
   ],
   "source": [
    "(np.sum(tangent_vecs_transported[:, 1:] ** 2, axis=1) - tangent_vecs_transported[:, 0] ** 2).min()"
   ]
  },
  {
   "cell_type": "code",
   "execution_count": 66,
   "metadata": {},
   "outputs": [],
   "source": [
    "for i, (vec, label) in enumerate(zip(tangent_vecs_transported, classes)):\n",
    "    try:\n",
    "        hyp.metric.exp(tangent_vec=vec, base_point=means[label])\n",
    "    except ValueError as e:\n",
    "        print(e, i, label, hyp.embedding_space.metric.squared_norm(vec))"
   ]
  },
  {
   "cell_type": "code",
   "execution_count": 68,
   "metadata": {},
   "outputs": [
    {
     "ename": "ValueError",
     "evalue": "Cannot project a vector of norm 0. in the Minkowski space to the hyperboloid",
     "output_type": "error",
     "traceback": [
      "\u001b[0;31m---------------------------------------------------------------------------\u001b[0m",
      "\u001b[0;31mValueError\u001b[0m                                Traceback (most recent call last)",
      "\u001b[1;32m/home/phil/hdt/20_fix_high_dim_gaussian_mixture.ipynb Cell 8\u001b[0m line \u001b[0;36m1\n\u001b[0;32m----> <a href='vscode-notebook-cell://ssh-remote%2Beumaeus/home/phil/hdt/20_fix_high_dim_gaussian_mixture.ipynb#X21sdnNjb2RlLXJlbW90ZQ%3D%3D?line=0'>1</a>\u001b[0m hyp\u001b[39m.\u001b[39mmetric\u001b[39m.\u001b[39mexp(tangent_vec\u001b[39m=\u001b[39mtangent_vecs_transported, base_point\u001b[39m=\u001b[39mmeans[classes])\n",
      "File \u001b[0;32m~/mambaforge/envs/hdt/lib/python3.11/site-packages/geomstats/geometry/hyperboloid.py:284\u001b[0m, in \u001b[0;36mHyperboloidMetric.exp\u001b[0;34m(self, tangent_vec, base_point)\u001b[0m\n\u001b[1;32m    276\u001b[0m coef_2 \u001b[39m=\u001b[39m utils\u001b[39m.\u001b[39mtaylor_exp_even_func(\n\u001b[1;32m    277\u001b[0m     sq_norm_tangent_vec, utils\u001b[39m.\u001b[39msinch_close_0, order\u001b[39m=\u001b[39m\u001b[39m5\u001b[39m\n\u001b[1;32m    278\u001b[0m )\n\u001b[1;32m    280\u001b[0m exp \u001b[39m=\u001b[39m gs\u001b[39m.\u001b[39meinsum(\u001b[39m\"\u001b[39m\u001b[39m...,...j->...j\u001b[39m\u001b[39m\"\u001b[39m, coef_1, base_point) \u001b[39m+\u001b[39m gs\u001b[39m.\u001b[39meinsum(\n\u001b[1;32m    281\u001b[0m     \u001b[39m\"\u001b[39m\u001b[39m...,...j->...j\u001b[39m\u001b[39m\"\u001b[39m, coef_2, tangent_vec\n\u001b[1;32m    282\u001b[0m )\n\u001b[0;32m--> 284\u001b[0m \u001b[39mreturn\u001b[39;00m \u001b[39mself\u001b[39m\u001b[39m.\u001b[39m_space\u001b[39m.\u001b[39mregularize(exp)\n",
      "File \u001b[0;32m~/mambaforge/envs/hdt/lib/python3.11/site-packages/geomstats/geometry/hyperboloid.py:111\u001b[0m, in \u001b[0;36mHyperboloid.regularize\u001b[0;34m(self, point)\u001b[0m\n\u001b[1;32m    109\u001b[0m sq_norm \u001b[39m=\u001b[39m \u001b[39mself\u001b[39m\u001b[39m.\u001b[39membedding_space\u001b[39m.\u001b[39mmetric\u001b[39m.\u001b[39msquared_norm(point)\n\u001b[1;32m    110\u001b[0m \u001b[39mif\u001b[39;00m \u001b[39mnot\u001b[39;00m gs\u001b[39m.\u001b[39mall(sq_norm):\n\u001b[0;32m--> 111\u001b[0m     \u001b[39mraise\u001b[39;00m \u001b[39mValueError\u001b[39;00m(\n\u001b[1;32m    112\u001b[0m         \u001b[39m\"\u001b[39m\u001b[39mCannot project a vector of norm 0. in the \u001b[39m\u001b[39m\"\u001b[39m\n\u001b[1;32m    113\u001b[0m         \u001b[39m\"\u001b[39m\u001b[39mMinkowski space to the hyperboloid\u001b[39m\u001b[39m\"\u001b[39m\n\u001b[1;32m    114\u001b[0m     )\n\u001b[1;32m    115\u001b[0m real_norm \u001b[39m=\u001b[39m gs\u001b[39m.\u001b[39msqrt(gs\u001b[39m.\u001b[39mabs(sq_norm))\n\u001b[1;32m    116\u001b[0m projected_point \u001b[39m=\u001b[39m gs\u001b[39m.\u001b[39meinsum(\u001b[39m\"\u001b[39m\u001b[39m...i,...->...i\u001b[39m\u001b[39m\"\u001b[39m, point, \u001b[39m1.0\u001b[39m \u001b[39m/\u001b[39m real_norm)\n",
      "\u001b[0;31mValueError\u001b[0m: Cannot project a vector of norm 0. in the Minkowski space to the hyperboloid"
     ]
    }
   ],
   "source": [
    "hyp.metric.exp(tangent_vec=tangent_vecs_transported, base_point=means[classes])"
   ]
  },
  {
   "cell_type": "code",
   "execution_count": 63,
   "metadata": {},
   "outputs": [],
   "source": [
    "for point, label in zip(tangent_vecs_transported, classes):\n",
    "    try:\n",
    "        # hyp.regularize(point)\n",
    "        hyp.metric.exp(tangent_vec=point, base_point=means[label])\n",
    "    except Exception as e:\n",
    "        print(e)"
   ]
  },
  {
   "cell_type": "code",
   "execution_count": 51,
   "metadata": {},
   "outputs": [
    {
     "data": {
      "text/plain": [
       "18.65048089240135"
      ]
     },
     "execution_count": 51,
     "metadata": {},
     "output_type": "execute_result"
    }
   ],
   "source": [
    "hyp.embedding_space.metric.norm(tangent_vecs_transported[0])"
   ]
  },
  {
   "cell_type": "code",
   "execution_count": 89,
   "metadata": {},
   "outputs": [],
   "source": [
    "# # hyp.embedding_space.metric.squared_norm(tangent_vecs_transported)\n",
    "import geomstats.backend as gs\n",
    "import geomstats.algebra_utils as utils\n",
    "import math\n",
    "\n",
    "# geomstats.backend.all(hyp.embedding_space.metric.squared_norm(tangent_vecs_transported))\n",
    "\n",
    "sq_norm_tangent_vec = hyp.embedding_space.metric.squared_norm(tangent_vecs_transported)\n",
    "sq_norm_tangent_vec = gs.clip(sq_norm_tangent_vec, 0, math.inf)\n",
    "\n",
    "coef_1 = utils.taylor_exp_even_func(sq_norm_tangent_vec, utils.cosh_close_0, order=5)\n",
    "coef_2 = utils.taylor_exp_even_func(sq_norm_tangent_vec, utils.sinch_close_0, order=5)\n",
    "\n",
    "exp = gs.einsum(\"...,...j->...j\", coef_1, means[classes]) + gs.einsum(\"...,...j->...j\", coef_2, tangent_vecs_transported)"
   ]
  },
  {
   "cell_type": "code",
   "execution_count": 95,
   "metadata": {},
   "outputs": [
    {
     "data": {
      "text/plain": [
       "54"
      ]
     },
     "execution_count": 95,
     "metadata": {},
     "output_type": "execute_result"
    }
   ],
   "source": [
    "(hyp.metric.squared_norm(exp) == 0).sum()"
   ]
  },
  {
   "cell_type": "code",
   "execution_count": 111,
   "metadata": {},
   "outputs": [
    {
     "data": {
      "text/plain": [
       "torch.Size([942, 64])"
      ]
     },
     "execution_count": 111,
     "metadata": {},
     "output_type": "execute_result"
    }
   ],
   "source": [
    "get_training_data(64, 15)[0].shape"
   ]
  },
  {
   "cell_type": "code",
   "execution_count": 99,
   "metadata": {},
   "outputs": [
    {
     "data": {
      "text/plain": [
       "(946, 65)"
      ]
     },
     "execution_count": 99,
     "metadata": {},
     "output_type": "execute_result"
    }
   ],
   "source": [
    "def bad_points(points, base_points, manifold):\n",
    "    \"\"\"Avoid the 'Minkowski norm of 0' error by using this\"\"\"\n",
    "    sq_norm_tangent_vec = manifold.embedding_space.metric.squared_norm(points)\n",
    "    sq_norm_tangent_vec = gs.clip(sq_norm_tangent_vec, 0, math.inf)\n",
    "\n",
    "    coef_1 = utils.taylor_exp_even_func(sq_norm_tangent_vec, utils.cosh_close_0, order=5)\n",
    "    coef_2 = utils.taylor_exp_even_func(sq_norm_tangent_vec, utils.sinch_close_0, order=5)\n",
    "\n",
    "    exp = gs.einsum(\"...,...j->...j\", coef_1, base_points) + gs.einsum(\"...,...j->...j\", coef_2, points)\n",
    "    return manifold.metric.squared_norm(exp) == 0\n",
    "\n",
    "tangent_vecs_transported[~bad_points(tangent_vecs_transported, means[classes], hyp)].shape"
   ]
  },
  {
   "cell_type": "code",
   "execution_count": 100,
   "metadata": {},
   "outputs": [
    {
     "data": {
      "text/plain": [
       "(946, 65)"
      ]
     },
     "execution_count": 100,
     "metadata": {},
     "output_type": "execute_result"
    }
   ],
   "source": [
    "tangent_vecs_transported2 = tangent_vecs_transported[~bad_points(tangent_vecs_transported, means[classes], hyp)]\n",
    "tangent_vecs_transported2.shape"
   ]
  },
  {
   "cell_type": "code",
   "execution_count": 101,
   "metadata": {},
   "outputs": [
    {
     "data": {
      "text/plain": [
       "array([[-5670.1751055 ,  -400.25542215,  1196.82434557, ...,\n",
       "          323.11737232,   -92.98165705,    72.12281409],\n",
       "       [-3037.42596521,   123.74230691,  -131.13113219, ...,\n",
       "          560.41341165,   149.04898875,   277.49645436],\n",
       "       [ -233.29444934,     6.48489997,   -11.76087079, ...,\n",
       "           43.47037884,    10.98657061,    20.94913861],\n",
       "       ...,\n",
       "       [-1536.56102285,    57.51152286,   -68.82297809, ...,\n",
       "          286.56082874,    73.26821937,   141.97004085],\n",
       "       [ 1172.51912655,   -44.2880561 ,    49.18392844, ...,\n",
       "         -221.56405413,   -56.07035489,  -113.98474097],\n",
       "       [-1233.09270212,    52.25547833,   -54.08108901, ...,\n",
       "          229.73819891,    58.59252182,   115.84326846]])"
      ]
     },
     "execution_count": 101,
     "metadata": {},
     "output_type": "execute_result"
    }
   ],
   "source": [
    "tangent_vecs_transported2"
   ]
  }
 ],
 "metadata": {
  "kernelspec": {
   "display_name": "hdt",
   "language": "python",
   "name": "python3"
  },
  "language_info": {
   "codemirror_mode": {
    "name": "ipython",
    "version": 3
   },
   "file_extension": ".py",
   "mimetype": "text/x-python",
   "name": "python",
   "nbconvert_exporter": "python",
   "pygments_lexer": "ipython3",
   "version": "3.11.4"
  },
  "orig_nbformat": 4
 },
 "nbformat": 4,
 "nbformat_minor": 2
}
