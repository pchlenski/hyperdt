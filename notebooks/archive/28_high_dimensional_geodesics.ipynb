{
 "cells": [
  {
   "cell_type": "markdown",
   "metadata": {},
   "source": [
    "# High dimensional geodesics\n",
    "> Generalizing the geodesic function to higher dimensions"
   ]
  },
  {
   "cell_type": "code",
   "execution_count": 2,
   "metadata": {},
   "outputs": [],
   "source": [
    "%load_ext autoreload\n",
    "%autoreload 2"
   ]
  },
  {
   "cell_type": "markdown",
   "metadata": {},
   "source": [
    "To-do list:\n",
    "* Generalize geodesics to arbitrary curvature (recompute $\\alpha$ as a function of $K$ and $theta$)\n",
    "* Generalize geodesics to higher dimensions:\n",
    "    * Computational sanity check: do we keep on hyperboloid?\n",
    "\n",
    "Recall, here is where we are currently:\n",
    "* Based on assumption that we intersect with only $x_0$ and $x_d$ nonzero, $\\alpha = \\sqrt{-\\sec(2\\theta)}$\n",
    "* This means that our 2-plane intersects $\\mathbb{H}^2$ at:\n",
    "$$\n",
    "    \\langle v_0 = \\alpha\\sin(\\theta), \\ldots v_d, = \\alpha\\cos(\\theta), \\ldots \\rangle\n",
    "$$\n",
    "* Based on the parameterization of a geodesics by vectors $u$ spacelike and $v$ on the hyperboloid, (mutually orthogonal),\n",
    "we have:\n",
    "$$\n",
    "\\begin{align}\n",
    "    g_0(t) = \\cosh(t)\\alpha\\sin(\\theta)\\\\\n",
    "    g_d(t) = \\cosh(t)\\alpha\\cos(\\theta)\\\\\n",
    "    g_{d'}(t) = \\sinh(t)\n",
    "\\end{align}\n",
    "$$\n",
    "\n",
    "We want to generalize this so that $\\alpha$ hits any hyperboloid of arbitrary curvature, and $g$ can vary across 2+ dimensions"
   ]
  },
  {
   "cell_type": "code",
   "execution_count": 4,
   "metadata": {},
   "outputs": [],
   "source": [
    "import numpy as np\n",
    "import matplotlib.pyplot as plt"
   ]
  },
  {
   "cell_type": "code",
   "execution_count": 106,
   "metadata": {},
   "outputs": [
    {
     "name": "stdout",
     "output_type": "stream",
     "text": [
      "True\n",
      "True\n"
     ]
    }
   ],
   "source": [
    "# Sanity check 1: we stay on the hyperboloid in the 2-d, -1 curvature case\n",
    "\n",
    "\n",
    "def alpha(theta):\n",
    "    \"\"\"sqrt(-sec(2 * theta))\"\"\"\n",
    "    return np.sqrt(-1 / np.cos(2 * theta))\n",
    "\n",
    "\n",
    "def get_vector(theta, d, num_dimensions):\n",
    "    vector = np.zeros(num_dimensions + 1)\n",
    "    vector[d + 1] = alpha(theta) * np.cos(theta)  # Need to shift this over by 1\n",
    "    vector[0] = alpha(theta) * np.sin(theta)\n",
    "    return vector\n",
    "\n",
    "\n",
    "def get_geodesic(u, d_prime, n_points=100):\n",
    "    t = np.linspace(-1, 1, n_points)\n",
    "    v = np.zeros(u.shape[0])\n",
    "    v[d_prime + 1] = 1\n",
    "    return np.cosh(t)[:, None] * u + np.sinh(t)[:, None] * v\n",
    "\n",
    "\n",
    "def minkowski_norm(points):\n",
    "    if points.ndim == 1:\n",
    "        points = points[None, :]\n",
    "    return np.sum(points[:, 1:] ** 2, axis=1) - points[:, 0] ** 2\n",
    "\n",
    "\n",
    "def is_on_hyperboloid(points):\n",
    "    if points.ndim == 1:\n",
    "        points = points[None, :]\n",
    "    return np.allclose(minkowski_norm(points), -1)\n",
    "\n",
    "\n",
    "u = get_vector(np.pi / 3, 1, 10)\n",
    "geo = get_geodesic(u, 2)\n",
    "\n",
    "print(is_on_hyperboloid(u))\n",
    "print(is_on_hyperboloid(geo))"
   ]
  },
  {
   "cell_type": "markdown",
   "metadata": {},
   "source": [
    "## Generalizing to changes in curvature\n",
    "\n",
    "The original derivation was based on the assumption that $x_d^2 - x_0^2 = - 1$. Let's do a new more general one:\n",
    "\n",
    "$$\n",
    "\\begin{align}\n",
    "x_d^2 - x_0^2 & = -1/K\\\\\n",
    "x^2d &= -1/K + x_0^2\\\\\n",
    "\\alpha^2\\cos^2(\\theta) &= -1/K + \\alpha^2\\sin^2(\\theta)\\\\\n",
    "\\alpha^2(\\cos^2(\\theta) - \\sin^2(\\theta)) &= -1/K\\\\\n",
    "K\\alpha^2 &= \\frac{-1}{\\cos^2(\\theta) - \\sin^2(\\theta)}\\\\\n",
    "\\ldots\n",
    "\\end{align}\n",
    "$$\n",
    "\n",
    "The rest is the same, so we conclude $\\sqrt{K}\\alpha = \\sqrt{-\\sec(2\\theta)}$, i.e. \n",
    "$$\n",
    "\\alpha = \\frac{\\sqrt{-\\sec(2\\theta)}}{\\sqrt{K}}\n",
    "$$\n",
    "\n",
    "Here we demonstrate numerically that this corresponds to geodesics parameterized by\n",
    "\n",
    "$$\n",
    "\\begin{align}\n",
    "    g_0(t) = \\frac{\\cosh(t)\\alpha\\sin(\\theta)}{\\sqrt{K}}\\\\\n",
    "    g_d(t) = \\frac{\\cosh(t)\\alpha\\cos(\\theta)}{\\sqrt{K}}\\\\\n",
    "    g_{d'}(t) = \\frac{\\sinh(t)}{\\sqrt{K}}\n",
    "\\end{align}\n",
    "$$\n",
    "\n",
    "Here we use the same formulation $\\alpha = \\sqrt{-\\sec(2\\theta)}$ as above, to preserve similarity and highlight the role played by $\\sqrt{K}$"
   ]
  },
  {
   "cell_type": "code",
   "execution_count": 107,
   "metadata": {},
   "outputs": [
    {
     "name": "stdout",
     "output_type": "stream",
     "text": [
      "False\n",
      "True\n",
      "True\n"
     ]
    }
   ],
   "source": [
    "# Sanity check 1: we stay on the hyperboloid in the 2-d, -1 curvature case\n",
    "\n",
    "\n",
    "def get_geodesic(u, d_prime, K=1, n_points=100):\n",
    "    t = np.linspace(-1, 1, n_points)\n",
    "    v = np.zeros(u.shape[0])\n",
    "    v[d_prime + 1] = 1\n",
    "    return (np.cosh(t)[:, None] * u + np.sinh(t)[:, None] * v) / np.sqrt(K)\n",
    "\n",
    "\n",
    "def is_on_hyperboloid(points, K=1):\n",
    "    K = np.abs(K)\n",
    "    return np.allclose(minkowski_norm(points), -1 / K)\n",
    "\n",
    "\n",
    "def change_curvature(points, K=1):\n",
    "    K = np.abs(K)\n",
    "    current_norm = minkowski_norm(points)\n",
    "    return points * np.sqrt(np.abs(current_norm / K))\n",
    "\n",
    "\n",
    "u = get_vector(np.pi / 3, 1, 10)\n",
    "geo = get_geodesic(u, 2, K=0.5)\n",
    "\n",
    "print(is_on_hyperboloid(u, K=0.5))  # This will be False because we don't rescale yet\n",
    "print(is_on_hyperboloid(change_curvature(u, K=0.5), K=0.5))\n",
    "print(is_on_hyperboloid(geo, K=0.5))"
   ]
  },
  {
   "cell_type": "markdown",
   "metadata": {},
   "source": [
    "## Generalizing to $\\mathbb{H}^3$\n",
    "\n",
    "So, we've determined that we can start with this point:\n",
    "\n",
    "$$\n",
    "    v = \\left\\langle x_0 = \\frac{\\alpha\\sin(\\theta)}{\\sqrt{K}}, \\ldots, x_d = \\frac{\\alpha\\cos(\\theta)}{\\sqrt{K}}, \\ldots \\right\\rangle\n",
    "$$\n",
    "\n",
    "Where all other dimensions are 0, and extend it to a 2-d geodesic by picking a direction and rescaling it:\n",
    "$$\n",
    "    \\gamma(t) = \\cosh(t)u + \\frac{\\sinh(t)v}{\\sqrt{K}},\n",
    "$$\n",
    "where $v$ is a one-hot vector in a spacelike dimension that isn't $d$. So let's say we wanted to add a new parameter $t'$ in a new dimension, $d'$. What are some options?\n",
    "\n",
    "$$\n",
    "    \\gamma(t,t') = \\cosh(t)\\cosh(t')u + \\frac{\\cosh(t')\\sinh(t)v}{\\sqrt{K}} + \\frac{\\cosh(t)\\sinh(t')v'}{\\sqrt{K}}\n",
    "$$\n",
    "^ This is my best guess so far. Let's try it?"
   ]
  },
  {
   "cell_type": "markdown",
   "metadata": {},
   "source": [
    "### Hypothesis 1"
   ]
  },
  {
   "cell_type": "markdown",
   "metadata": {},
   "source": [
    "## "
   ]
  },
  {
   "cell_type": "code",
   "execution_count": 179,
   "metadata": {},
   "outputs": [
    {
     "name": "stdout",
     "output_type": "stream",
     "text": [
      "True\n",
      "False\n"
     ]
    }
   ],
   "source": [
    "# First attempt at a geodesic\n",
    "\n",
    "\n",
    "def get_geodesic_hypothesis1(u, d_prime, d_prime_prime, K=1, n_points=101):\n",
    "    t1 = np.linspace(-1, 1, n_points)\n",
    "    v1 = np.zeros(u.shape[0])\n",
    "    v1[d_prime + 1] = 1\n",
    "\n",
    "    t2 = np.linspace(-1, 1, n_points)\n",
    "    v2 = np.zeros(u.shape[0])\n",
    "    v2[d_prime_prime + 1] = 1\n",
    "\n",
    "    tt1, tt2 = np.meshgrid(t1, t2)\n",
    "    tt1 = tt1.flatten()\n",
    "    tt2 = tt2.flatten()\n",
    "\n",
    "    out = np.zeros((n_points**2, u.shape[0]))\n",
    "\n",
    "    # cosh(t)cosh(t')u + sinh(t)cosh(t')v + cosh(t)sinh(t')v'\n",
    "    out += np.cosh(tt1)[:, None] * np.cosh(tt2)[:, None] * u\n",
    "    out += np.sinh(tt1)[:, None] * np.cosh(tt2)[:, None] * v1\n",
    "    out += np.cosh(tt1)[:, None] * np.sinh(tt2)[:, None] * v2\n",
    "\n",
    "    out = out / np.sqrt(K)\n",
    "\n",
    "    return out\n",
    "\n",
    "\n",
    "def is_on_hyperboloid(points, K=1):\n",
    "    K = np.abs(K)\n",
    "    return np.allclose(minkowski_norm(points), -1 / K)\n",
    "\n",
    "\n",
    "def change_curvature(points, K=1):\n",
    "    K = np.abs(K)\n",
    "    current_norm = minkowski_norm(points)\n",
    "    return points * np.sqrt(np.abs(current_norm / K))\n",
    "\n",
    "\n",
    "u = get_vector(np.pi / 3, 1, 10)\n",
    "geo = get_geodesic_hypothesis1(u=u, d_prime=2, d_prime_prime=3, K=1, n_points=101)\n",
    "\n",
    "print(is_on_hyperboloid(u, K=1))  # This will be False because we don't rescale yet\n",
    "print(is_on_hyperboloid(geo, K=1))"
   ]
  },
  {
   "cell_type": "code",
   "execution_count": 180,
   "metadata": {},
   "outputs": [
    {
     "data": {
      "text/plain": [
       "<matplotlib.image.AxesImage at 0x7fdde1c421d0>"
      ]
     },
     "execution_count": 180,
     "metadata": {},
     "output_type": "execute_result"
    },
    {
     "data": {
      "image/png": "[encoded data removed]",
      "text/plain": [
       "<Figure size 480x480 with 1 Axes>"
      ]
     },
     "metadata": {},
     "output_type": "display_data"
    }
   ],
   "source": [
    "# Ok, so it looks like this doesn't really work: we get good behavior when t or t' is 0, but then it breaks down\n",
    "\n",
    "plt.matshow(np.isclose(minkowski_norm(geo), -1, atol=1e-20).reshape(101, 101))"
   ]
  },
  {
   "cell_type": "code",
   "execution_count": 181,
   "metadata": {},
   "outputs": [
    {
     "data": {
      "text/plain": [
       "<matplotlib.colorbar.Colorbar at 0x7fdde1c42c90>"
      ]
     },
     "execution_count": 181,
     "metadata": {},
     "output_type": "execute_result"
    },
    {
     "data": {
      "image/png": "[encoded data removed]",
      "text/plain": [
       "<Figure size 480x480 with 2 Axes>"
      ]
     },
     "metadata": {},
     "output_type": "display_data"
    }
   ],
   "source": [
    "# In particular, it seems like the timelike dimension grows too quickly... we need to penalize this\n",
    "\n",
    "plt.matshow(minkowski_norm(geo).reshape(101, 101))\n",
    "plt.colorbar()"
   ]
  },
  {
   "cell_type": "markdown",
   "metadata": {},
   "source": [
    "### Hypothesis 2\n",
    "\n",
    "We observe that geodesic points are on the hyperboloid, and therefore have Minkowski norm $-1/K$. This means we can\n",
    "continue to iterate in the manner of the first geodesic construction: let $u$ be another basis vector that is orthogonal\n",
    "to $0$, $d$, and $d'$, and do the same thing:\n",
    "\n",
    "$$\n",
    "\\begin{align}\n",
    "\\gamma'(t, t') &= \\cosh(t')\\gamma(t) + \\sinh(t')\\\\\n",
    "&= \\cosh(t')\\left( \\cosh(t)u + \\sinh(t)v \\right) + \\sinh(t')v'\\\\\n",
    "&= \\cosh(t')\\cosh(t)u + \\cosh(t')\\sinh(t)v + \\sinh(t')v'\n",
    "\\end{align}\n",
    "$$\n",
    "\n",
    "Presumably you should be able to iterate this until you run out of basis vectors."
   ]
  },
  {
   "cell_type": "code",
   "execution_count": 195,
   "metadata": {},
   "outputs": [
    {
     "name": "stdout",
     "output_type": "stream",
     "text": [
      "True\n",
      "True\n"
     ]
    }
   ],
   "source": [
    "# Next attempt: just compose things\n",
    "\n",
    "\n",
    "def get_geodesic_hypothesis2(u, d_prime, d_prime_prime, K=1, n_points=101):\n",
    "    t1 = np.linspace(-1, 1, n_points)\n",
    "    v1 = np.zeros(u.shape[0])\n",
    "    v1[d_prime + 1] = 1\n",
    "\n",
    "    t2 = np.linspace(-1, 1, n_points)\n",
    "    v2 = np.zeros(u.shape[0])\n",
    "    v2[d_prime_prime + 1] = 1\n",
    "\n",
    "    tt1, tt2 = np.meshgrid(t1, t2)\n",
    "    tt1 = tt1.flatten()[:, None]\n",
    "    tt2 = tt2.flatten()[:, None]\n",
    "\n",
    "    out = np.zeros((n_points**2, u.shape[0]))\n",
    "\n",
    "    # cosh(t')[cosh(t)u + sinh(t)v] + sinh(t')v'\n",
    "    # out = np.cosh(tt1)[:, None] * u\n",
    "    # out += np.sinh(tt1)[:, None] * v1\n",
    "    # out *= np.cosh(tt2)[:, None]\n",
    "    # out += np.sinh(tt2)[:, None] * v2\n",
    "\n",
    "    # Or, alternatively, cosh(t')cosh(t)u + cosh(t')sinh(t)v + sinh(t')v'\n",
    "    out = np.cosh(tt2) * np.cosh(tt1) * u + np.cosh(tt2) * np.sinh(tt1) * v1 + np.sinh(tt2) * v2\n",
    "\n",
    "    return out / np.sqrt(K)\n",
    "\n",
    "\n",
    "def is_on_hyperboloid(points, K=1):\n",
    "    K = np.abs(K)\n",
    "    return np.allclose(minkowski_norm(points), -1 / K)\n",
    "\n",
    "\n",
    "def change_curvature(points, K=1):\n",
    "    K = np.abs(K)\n",
    "    current_norm = minkowski_norm(points)\n",
    "    return points * np.sqrt(np.abs(current_norm / K))\n",
    "\n",
    "\n",
    "u = get_vector(np.pi / 3, 1, 10)\n",
    "geo = get_geodesic_hypothesis1(u=u, d_prime=2, d_prime_prime=3, K=1, n_points=101)\n",
    "\n",
    "print(is_on_hyperboloid(u, K=1))  # This will be False because we don't rescale yet\n",
    "print(is_on_hyperboloid(geo, K=1))"
   ]
  },
  {
   "cell_type": "code",
   "execution_count": 231,
   "metadata": {},
   "outputs": [
    {
     "name": "stdout",
     "output_type": "stream",
     "text": [
      "True\n"
     ]
    }
   ],
   "source": [
    "# Let's just try this for a bunch of different angles and curvatures, I guess\n",
    "\n",
    "def add_dim(u, d):\n",
    "    t = np.linspace(-1, 1, 100)\n",
    "    v = np.zeros(u.shape[-1])\n",
    "    v[d + 1] = 1\n",
    "    u_expanded = np.expand_dims(u, axis=-2)  # Add a new axis second to last\n",
    "    v_expanded = np.expand_dims(v, axis=0)   # Add a new axis at the beginning\n",
    "    result = np.cosh(t)[:, None] * u_expanded + np.sinh(t)[:, None] * v_expanded\n",
    "    return result\n",
    "\n",
    "def geodesic_submanifold_iterative(theta, K, total_dims=10):\n",
    "    u = get_vector(theta, 1, total_dims)\n",
    "    for d in range(2, total_dims):\n",
    "        u = add_dim(u, d)\n",
    "    return u.reshape(-1, total_dims + 1) / np.sqrt(K)\n",
    "\n",
    "k = 0.5\n",
    "big_manifold = geodesic_submanifold_iterative(np.pi / 3, K=k, total_dims=6) # 6 dims takes ~ 30s\n",
    "print(is_on_hyperboloid(big_manifold, K=k))"
   ]
  },
  {
   "cell_type": "code",
   "execution_count": 233,
   "metadata": {},
   "outputs": [
    {
     "name": "stdout",
     "output_type": "stream",
     "text": [
      "True\n"
     ]
    }
   ],
   "source": [
    "# Let's just do a \"biggish\" sanity check here: this takes 43.4 seconds on Eumaeus\n",
    "\n",
    "all_true = True \n",
    "for angle in np.linspace(np.pi / 4 + 0.01, 3 * np.pi / 4 - 0.01, 100):\n",
    "    for curvature in [0.25, 0.5, 1, 2, 4, 8, 16, 32]:\n",
    "        big_manifold = geodesic_submanifold_iterative(theta=angle, K=curvature, total_dims=5) # 6 dims takes ~ 30s\n",
    "        all_true = all_true and is_on_hyperboloid(big_manifold, K=curvature)\n",
    "    \n",
    "print(all_true)"
   ]
  },
  {
   "cell_type": "code",
   "execution_count": null,
   "metadata": {},
   "outputs": [],
   "source": []
  }
 ],
 "metadata": {
  "kernelspec": {
   "display_name": "hdt",
   "language": "python",
   "name": "python3"
  },
  "language_info": {
   "codemirror_mode": {
    "name": "ipython",
    "version": 3
   },
   "file_extension": ".py",
   "mimetype": "text/x-python",
   "name": "python",
   "nbconvert_exporter": "python",
   "pygments_lexer": "ipython3",
   "version": "3.11.4"
  },
  "orig_nbformat": 4
 },
 "nbformat": 4,
 "nbformat_minor": 2
}
