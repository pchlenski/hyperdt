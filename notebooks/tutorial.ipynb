{
 "cells": [
  {
   "cell_type": "code",
   "execution_count": 1,
   "metadata": {},
   "outputs": [],
   "source": [
    "# HyperDT tutorial"
   ]
  },
  {
   "cell_type": "code",
   "execution_count": 2,
   "metadata": {},
   "outputs": [
    {
     "ename": "ModuleNotFoundError",
     "evalue": "No module named 'hyperdt'",
     "output_type": "error",
     "traceback": [
      "\u001b[0;31m---------------------------------------------------------------------------\u001b[0m",
      "\u001b[0;31mModuleNotFoundError\u001b[0m                       Traceback (most recent call last)",
      "Cell \u001b[0;32mIn[2], line 1\u001b[0m\n\u001b[0;32m----> 1\u001b[0m \u001b[38;5;28;01mfrom\u001b[39;00m \u001b[38;5;21;01mhyperdt\u001b[39;00m\u001b[38;5;21;01m.\u001b[39;00m\u001b[38;5;21;01mtree\u001b[39;00m \u001b[38;5;28;01mimport\u001b[39;00m DecisionTreeClassifier \u001b[38;5;28;01mas\u001b[39;00m ControlDT, HyperbolicDecisionTreeClassifier \u001b[38;5;28;01mas\u001b[39;00m HyperDT\n\u001b[1;32m      2\u001b[0m \u001b[38;5;28;01mfrom\u001b[39;00m \u001b[38;5;21;01msklearn\u001b[39;00m\u001b[38;5;21;01m.\u001b[39;00m\u001b[38;5;21;01mtree\u001b[39;00m \u001b[38;5;28;01mimport\u001b[39;00m DecisionTreeClassifier \u001b[38;5;28;01mas\u001b[39;00m SklearnDT\n\u001b[1;32m      4\u001b[0m \u001b[38;5;28;01mfrom\u001b[39;00m \u001b[38;5;21;01mhyperdt\u001b[39;00m\u001b[38;5;21;01m.\u001b[39;00m\u001b[38;5;21;01mensemble\u001b[39;00m \u001b[38;5;28;01mimport\u001b[39;00m RandomForestClassifier \u001b[38;5;28;01mas\u001b[39;00m ControlRF, HyperbolicRandomForestClassifier \u001b[38;5;28;01mas\u001b[39;00m HyperRF\n",
      "\u001b[0;31mModuleNotFoundError\u001b[0m: No module named 'hyperdt'"
     ]
    }
   ],
   "source": [
    "from hyperdt.tree import DecisionTreeClassifier as ControlDT, HyperbolicDecisionTreeClassifier as HyperDT\n",
    "from sklearn.tree import DecisionTreeClassifier as SklearnDT\n",
    "\n",
    "from hyperdt.ensemble import RandomForestClassifier as ControlRF, HyperbolicRandomForestClassifier as HyperRF\n",
    "from sklearn.ensemble import RandomForestClassifier as SklearnRF\n",
    "\n",
    "from hyperdt.toy_data import wrapped_normal_mixture\n",
    "from hyperdt.visualization import plot_tree"
   ]
  },
  {
   "cell_type": "code",
   "execution_count": null,
   "metadata": {},
   "outputs": [],
   "source": []
  }
 ],
 "metadata": {
  "kernelspec": {
   "display_name": "hdt",
   "language": "python",
   "name": "python3"
  },
  "language_info": {
   "codemirror_mode": {
    "name": "ipython",
    "version": 3
   },
   "file_extension": ".py",
   "mimetype": "text/x-python",
   "name": "python",
   "nbconvert_exporter": "python",
   "pygments_lexer": "ipython3",
   "version": "3.11.4"
  }
 },
 "nbformat": 4,
 "nbformat_minor": 2
}
