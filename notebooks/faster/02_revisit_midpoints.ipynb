{
 "cells": [
  {
   "cell_type": "markdown",
   "metadata": {},
   "source": [
    "# Revisiting midpoints\n",
    "> Were my midpoint assumptions mistaken in the hyperDT paper?"
   ]
  },
  {
   "cell_type": "code",
   "execution_count": 1,
   "metadata": {},
   "outputs": [],
   "source": [
    "%load_ext autoreload\n",
    "%autoreload 2\n"
   ]
  },
  {
   "cell_type": "code",
   "execution_count": 2,
   "metadata": {},
   "outputs": [],
   "source": [
    "import numpy as np\n",
    "import matplotlib.pyplot as plt\n",
    "\n",
    "from hyperdt.hyperbolic_trig import get_midpoint\n",
    "from geomstats.geometry.hyperboloid import Hyperboloid"
   ]
  },
  {
   "cell_type": "markdown",
   "metadata": {},
   "source": [
    "## Confirm initial midpoint correctness\n",
    "\n",
    "The `get_midpoint` function implements the midpoint computation from the hyperDT paper.\n",
    "\n",
    "First things first, we should verify that:\n",
    "* The point $\\sqrt{-\\sec(2\\theta)}$ actually puts you on the hyperboloid\n",
    "* For sparse vectors defined as $\\langle \\alpha\\sin(\\theta), \\ldots, \\alpha\\cos(\\theta)$, their midpoaint is:\n",
    "  * Equidistant\n",
    "  * On the hyperboloid"
   ]
  },
  {
   "cell_type": "code",
   "execution_count": 3,
   "metadata": {},
   "outputs": [],
   "source": [
    "# Things we will reuse\n",
    "H = Hyperboloid(dim=2)\n",
    "thetas = np.linspace(np.pi/4 + .05, 3*np.pi/4 - .05, 100)"
   ]
  },
  {
   "cell_type": "code",
   "execution_count": 4,
   "metadata": {},
   "outputs": [],
   "source": [
    "# Confirm point on hyperboloid\n",
    "def angle_coef(theta: float) -> float:\n",
    "    \"\"\" alpha(theta, K) = sqrt(-sec(2theta) / K)\"\"\"\n",
    "    return np.sqrt(-1 / np.cos(2 * theta))\n",
    "\n",
    "def angle_to_hyperboloid(theta: float, dims: int = 2) -> np.ndarray:\n",
    "    return  angle_coef(theta) * np.array([np.sin(theta), np.cos(theta)] + [0] * (dims - 1))\n",
    "\n",
    "for theta in thetas:\n",
    "    point = angle_to_hyperboloid(theta)\n",
    "    assert H.belongs(point)\n"
   ]
  },
  {
   "cell_type": "markdown",
   "metadata": {},
   "source": [
    "This next cell uncovers* an interesting imbalance when $\\theta_1 + \\theta_2 \\approx \\pi$, likely due to some numerical issues\n",
    "\n",
    "* = uncover/ed/; we have added a patch to `_hyperbolic_midpoint` to fix this."
   ]
  },
  {
   "cell_type": "code",
   "execution_count": 8,
   "metadata": {},
   "outputs": [
    {
     "data": {
      "text/plain": [
       "Text(0.5, 1.0, 'Dist')"
      ]
     },
     "execution_count": 8,
     "metadata": {},
     "output_type": "execute_result"
    },
    {
     "data": {
      "image/png": "[encoded data removed]",
      "text/plain": [
       "<Figure size 1000x500 with 2 Axes>"
      ]
     },
     "metadata": {},
     "output_type": "display_data"
    }
   ],
   "source": [
    "# Confirm midpoint properties\n",
    "results_belongs = np.zeros((len(thetas), len(thetas)))\n",
    "results_dist = np.zeros((len(thetas), len(thetas)))\n",
    "for i, theta1 in enumerate(thetas):\n",
    "    for j, theta2 in enumerate(thetas):\n",
    "        midpoint = get_midpoint(theta1, theta2)\n",
    "        p1 = angle_to_hyperboloid(theta1)\n",
    "        p2 = angle_to_hyperboloid(theta2)\n",
    "        p_mid = angle_to_hyperboloid(midpoint)\n",
    "        results_belongs[i, j] = H.belongs(p_mid)\n",
    "        results_dist[i, j] = np.isclose(H.metric.dist(p1, p_mid), H.metric.dist(p2, p_mid))\n",
    "        if not results_belongs[i, j]:\n",
    "            print(theta1 + theta2)\n",
    "\n",
    "fig, axs = plt.subplots(1, 2, figsize=(10, 5))\n",
    "axs[0].imshow(results_belongs, cmap='gray')\n",
    "axs[0].set_title('Belongs')\n",
    "axs[1].imshow(results_dist, cmap='gray')\n",
    "axs[1].set_title('Dist')\n"
   ]
  },
  {
   "cell_type": "code",
   "execution_count": null,
   "metadata": {},
   "outputs": [],
   "source": [
    "H.metric.dist"
   ]
  }
 ],
 "metadata": {
  "kernelspec": {
   "display_name": "base",
   "language": "python",
   "name": "python3"
  },
  "language_info": {
   "codemirror_mode": {
    "name": "ipython",
    "version": 3
   },
   "file_extension": ".py",
   "mimetype": "text/x-python",
   "name": "python",
   "nbconvert_exporter": "python",
   "pygments_lexer": "ipython3",
   "version": "3.12.2"
  }
 },
 "nbformat": 4,
 "nbformat_minor": 2
}
