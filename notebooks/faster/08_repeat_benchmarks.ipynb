{
 "cells": [
  {
   "cell_type": "code",
   "execution_count": 1,
   "id": "4a3fb596",
   "metadata": {},
   "outputs": [],
   "source": [
    "%load_ext autoreload\n",
    "%autoreload 2"
   ]
  },
  {
   "cell_type": "code",
   "execution_count": 19,
   "id": "ab7a0212",
   "metadata": {},
   "outputs": [],
   "source": [
    "def extract_sklearn_splits(clf):\n",
    "    tree = clf.tree_\n",
    "    splits = []\n",
    "\n",
    "    def traverse(node_id):\n",
    "        if tree.feature[node_id] != -2:  # -2 indicates a leaf node\n",
    "            feature = tree.feature[node_id]\n",
    "            threshold = tree.threshold[node_id]\n",
    "            samples = tree.weighted_n_node_samples[node_id]\n",
    "\n",
    "            # Get impurity decrease\n",
    "            left = tree.children_left[node_id]\n",
    "            right = tree.children_right[node_id]\n",
    "            n = tree.n_node_samples[node_id]\n",
    "            impurity = tree.impurity[node_id]\n",
    "            impurity_left = tree.impurity[left]\n",
    "            impurity_right = tree.impurity[right]\n",
    "            n_left = tree.n_node_samples[left]\n",
    "            n_right = tree.n_node_samples[right]\n",
    "            weighted_impurity = (n_left / n) * impurity_left + (n_right / n) * impurity_right\n",
    "            impurity_decrease = impurity - weighted_impurity\n",
    "\n",
    "            splits.append((feature, threshold, impurity_decrease, min(n_left, n_right)))\n",
    "            traverse(tree.children_left[node_id])\n",
    "            traverse(tree.children_right[node_id])\n",
    "\n",
    "    traverse(0)  # Start from the root node\n",
    "    return splits\n",
    "\n",
    "def extract_hyperdt_splits(node):\n",
    "    splits = []\n",
    "\n",
    "    def traverse(n):\n",
    "        if n.feature is not None:\n",
    "            splits.append((n.feature, n.theta, n.score))\n",
    "            traverse(n.left)\n",
    "            traverse(n.right)\n",
    "\n",
    "    traverse(node)\n",
    "    return splits\n",
    "\n",
    "# def compare_trees(fhdt, hdt, verbose=0, adjust_for_depth=False):\n",
    "#     fhdt_splits = extract_sklearn_splits(fhdt.estimator_)\n",
    "#     hdt_splits = extract_hyperdt_splits(hdt.tree)\n",
    "\n",
    "#     out, out_ig = [], []\n",
    "#     for i, (fhdt_split, hdt_split) in enumerate(zip(fhdt_splits, hdt_splits)):\n",
    "#         fhdt_feature, fhdt_threshold, impurity_decrease, samples = fhdt_split\n",
    "#         hdt_feature, hdt_threshold, hdt_score = hdt_split\n",
    "\n",
    "#         # Convert to Klein model\n",
    "#         fhdt_feature = fhdt_feature + 1\n",
    "#         fhdt_threshold = np.arctan2(1, fhdt_threshold)\n",
    "#         match_bool = fhdt_feature == hdt_feature and np.isclose(fhdt_threshold, hdt_threshold, atol=1e-4)\n",
    "#         imp_match_bool = np.isclose(impurity_decrease, hdt_score, atol=1e-4)\n",
    "\n",
    "#         out.append(match_bool)\n",
    "#         out_ig.append(imp_match_bool)\n",
    "#         if verbose > 0:\n",
    "#             if verbose > 1 or not match_bool:\n",
    "#                 print(f\"Node {i}:\")\n",
    "#                 print(f\"  Faster       -> Feature: {fhdt_feature}, Threshold: {fhdt_threshold}\")\n",
    "#                 print(f\"  HyperDT      -> Feature: {hdt_feature}, Threshold: {hdt_threshold}\")\n",
    "#                 print(f\"  Impurity: {impurity_decrease:.5f}; HyperDT score: {hdt_score:.5f}; Samples: {int(samples)}\")\n",
    "#                 print(f\"  Agreement    -> {'Match' if match_bool else 'No Match'}\")\n",
    "#                 print(f\"  Impurity Match: {'Match' if imp_match_bool else 'No Match'}\")\n",
    "#                 print()\n",
    "\n",
    "#     if adjust_for_depth and len(fhdt_splits) != len(hdt_splits):\n",
    "#         out += [False] * abs(len(fhdt_splits) - len(hdt_splits))\n",
    "#         out_ig += [False] * abs(len(fhdt_splits) - len(hdt_splits))\n",
    "#     if out and out_ig:\n",
    "#         return np.array(out).mean(), np.array(out_ig).mean()\n",
    "#     else:\n",
    "#         return 1, 1\n",
    "\n",
    "def compare_trees(fhdt, hdt, atol=1e-4, verbose=0):\n",
    "    \"\"\"Return (feature/threshold agreement, impurity‑gain agreement).\"\"\"\n",
    "\n",
    "    sk_tree = fhdt.estimator_.tree_\n",
    "\n",
    "    def feature_map(f_idx):\n",
    "        # sklearn’s dim→HyperDT dim conversion (assumes timelike_dim==0)\n",
    "        return f_idx + 1\n",
    "\n",
    "    def angle_from_threshold(th):\n",
    "        return np.arctan2(1.0, th)     # cot‑1(th)\n",
    "\n",
    "    agree, agree_ig = [], []\n",
    "\n",
    "    def walk(sk_id, hd_node, depth=0):\n",
    "        # Both are leaves → nothing to compare\n",
    "        if sk_tree.feature[sk_id] == -2 and hd_node.feature is None:\n",
    "            return\n",
    "\n",
    "        # Either one is a leaf → mismatch\n",
    "        if sk_tree.feature[sk_id] == -2 or hd_node.feature is None:\n",
    "            agree.append(False)\n",
    "            agree_ig.append(False)\n",
    "            return\n",
    "\n",
    "        # Compare current split\n",
    "        sk_feat   = feature_map(sk_tree.feature[sk_id])\n",
    "        sk_theta  = angle_from_threshold(sk_tree.threshold[sk_id])\n",
    "        hd_feat   = hd_node.feature\n",
    "        hd_theta  = hd_node.theta\n",
    "\n",
    "        match     = (sk_feat == hd_feat) and np.isclose(sk_theta, hd_theta, atol=atol)\n",
    "        imp_match = np.isclose(\n",
    "            sk_tree.impurity[sk_id] -\n",
    "            ((sk_tree.n_node_samples[sk_tree.children_left[sk_id]]  / sk_tree.n_node_samples[sk_id]) *\n",
    "             sk_tree.impurity[sk_tree.children_left[sk_id]] +\n",
    "             (sk_tree.n_node_samples[sk_tree.children_right[sk_id]] / sk_tree.n_node_samples[sk_id]) *\n",
    "             sk_tree.impurity[sk_tree.children_right[sk_id]]),\n",
    "            hd_node.score, atol=atol\n",
    "        )\n",
    "\n",
    "        agree.append(match)\n",
    "        agree_ig.append(imp_match)\n",
    "\n",
    "        if verbose and (not match or verbose > 1):\n",
    "            print(f\"{'  '*depth}Depth {depth}: \"\n",
    "                  f\"sk({sk_feat=}, {sk_theta:.4f})  vs  \"\n",
    "                  f\"hd({hd_feat=}, {hd_theta:.4f})  →  \"\n",
    "                  f\"{'OK' if match else 'DIFF'}\")\n",
    "\n",
    "        # Descend only if this node matched; otherwise subtrees are incomparable\n",
    "        if match:\n",
    "            walk(sk_tree.children_left[sk_id],  hd_node.left,  depth+1)\n",
    "            walk(sk_tree.children_right[sk_id], hd_node.right, depth+1)\n",
    "\n",
    "    walk(0, hdt.tree)\n",
    "\n",
    "    return np.mean(agree) if agree else 1.0, np.mean(agree_ig) if agree_ig else 1.0\n",
    "\n",
    "def compare_predictions(hdt, fhdt, X, y=None):\n",
    "    y_pred_hdt = hdt.predict(X)\n",
    "    y_pred_fhdt = fhdt.predict(X)\n",
    "    \n",
    "    if y is not None:\n",
    "        accuracy_hdt = accuracy_score(y, y_pred_hdt)\n",
    "        accuracy_fhdt = accuracy_score(y, y_pred_fhdt)\n",
    "    else:\n",
    "        accuracy_hdt = None\n",
    "        accuracy_fhdt = None\n",
    "    \n",
    "    return (y_pred_hdt == y_pred_fhdt).mean(), accuracy_hdt, accuracy_fhdt"
   ]
  },
  {
   "cell_type": "code",
   "execution_count": 4,
   "id": "e35ffdb8",
   "metadata": {},
   "outputs": [
    {
     "name": "stderr",
     "output_type": "stream",
     "text": [
      "  0%|          | 0/10000 [00:00<?, ?it/s]"
     ]
    },
    {
     "name": "stderr",
     "output_type": "stream",
     "text": [
      "  2%|▏         | 222/10000 [00:53<39:43,  4.10it/s]"
     ]
    },
    {
     "name": "stdout",
     "output_type": "stream",
     "text": [
      "Node 0:\n",
      "  Faster       -> Feature: 2, Threshold: 1.9665381936768642\n",
      "  HyperDT      -> Feature: 2, Threshold: 1.9880820238665975\n",
      "  Impurity: 0.18965; HyperDT score: 0.18815; Samples: 166\n",
      "  Agreement    -> No Match\n",
      "  Impurity Match: No Match\n",
      "\n"
     ]
    },
    {
     "name": "stderr",
     "output_type": "stream",
     "text": [
      "  3%|▎         | 267/10000 [01:04<39:20,  4.12it/s]"
     ]
    },
    {
     "name": "stdout",
     "output_type": "stream",
     "text": [
      "Node 0:\n",
      "  Faster       -> Feature: 2, Threshold: 2.1357338810455557\n",
      "  HyperDT      -> Feature: 2, Threshold: 2.193448337970202\n",
      "  Impurity: 0.46219; HyperDT score: 0.46219; Samples: 290\n",
      "  Agreement    -> No Match\n",
      "  Impurity Match: Match\n",
      "\n"
     ]
    },
    {
     "name": "stderr",
     "output_type": "stream",
     "text": [
      "  3%|▎         | 285/10000 [01:09<38:18,  4.23it/s]"
     ]
    },
    {
     "name": "stdout",
     "output_type": "stream",
     "text": [
      "Node 0:\n",
      "  Faster       -> Feature: 2, Threshold: 2.279162087607126\n",
      "  HyperDT      -> Feature: 2, Threshold: 2.2794572987328734\n",
      "  Impurity: 0.11296; HyperDT score: 0.11296; Samples: 104\n",
      "  Agreement    -> No Match\n",
      "  Impurity Match: Match\n",
      "\n"
     ]
    },
    {
     "name": "stderr",
     "output_type": "stream",
     "text": [
      "  3%|▎         | 325/10000 [01:18<39:14,  4.11it/s]"
     ]
    },
    {
     "name": "stdout",
     "output_type": "stream",
     "text": [
      "Node 0:\n",
      "  Faster       -> Feature: 1, Threshold: 2.0282711857173092\n",
      "  HyperDT      -> Feature: 1, Threshold: 2.0296198268309857\n",
      "  Impurity: 0.00279; HyperDT score: 0.00279; Samples: 51\n",
      "  Agreement    -> No Match\n",
      "  Impurity Match: Match\n",
      "\n"
     ]
    },
    {
     "name": "stderr",
     "output_type": "stream",
     "text": [
      "  5%|▍         | 473/10000 [01:54<38:43,  4.10it/s]"
     ]
    },
    {
     "name": "stdout",
     "output_type": "stream",
     "text": [
      "Node 0:\n",
      "  Faster       -> Feature: 1, Threshold: 0.8674869624195228\n",
      "  HyperDT      -> Feature: 1, Threshold: 0.8679422030953684\n",
      "  Impurity: 0.35357; HyperDT score: 0.35357; Samples: 191\n",
      "  Agreement    -> No Match\n",
      "  Impurity Match: Match\n",
      "\n"
     ]
    },
    {
     "name": "stderr",
     "output_type": "stream",
     "text": [
      "  5%|▍         | 479/10000 [01:56<38:18,  4.14it/s]"
     ]
    },
    {
     "name": "stdout",
     "output_type": "stream",
     "text": [
      "Node 0:\n",
      "  Faster       -> Feature: 2, Threshold: 2.3487691770349977\n",
      "  HyperDT      -> Feature: 2, Threshold: 2.3489547444029766\n",
      "  Impurity: 0.49258; HyperDT score: 0.49258; Samples: 374\n",
      "  Agreement    -> No Match\n",
      "  Impurity Match: Match\n",
      "\n"
     ]
    },
    {
     "name": "stderr",
     "output_type": "stream",
     "text": [
      "  5%|▌         | 542/10000 [02:11<38:38,  4.08it/s]"
     ]
    },
    {
     "name": "stdout",
     "output_type": "stream",
     "text": [
      "Node 0:\n",
      "  Faster       -> Feature: 2, Threshold: 1.0424405880390148\n",
      "  HyperDT      -> Feature: 2, Threshold: 1.0392963549424363\n",
      "  Impurity: 0.08546; HyperDT score: 0.08534; Samples: 157\n",
      "  Agreement    -> No Match\n",
      "  Impurity Match: No Match\n",
      "\n"
     ]
    },
    {
     "name": "stderr",
     "output_type": "stream",
     "text": [
      " 11%|█         | 1089/10000 [04:24<37:05,  4.00it/s]"
     ]
    },
    {
     "name": "stdout",
     "output_type": "stream",
     "text": [
      "Node 0:\n",
      "  Faster       -> Feature: 2, Threshold: 1.5495496798603068\n",
      "  HyperDT      -> Feature: 2, Threshold: 1.5127319705417726\n",
      "  Impurity: 0.28302; HyperDT score: 0.28277; Samples: 163\n",
      "  Agreement    -> No Match\n",
      "  Impurity Match: No Match\n",
      "\n"
     ]
    },
    {
     "name": "stderr",
     "output_type": "stream",
     "text": [
      " 11%|█         | 1099/10000 [04:27<37:10,  3.99it/s]"
     ]
    },
    {
     "name": "stdout",
     "output_type": "stream",
     "text": [
      "Node 0:\n",
      "  Faster       -> Feature: 1, Threshold: 1.9384652933771245\n",
      "  HyperDT      -> Feature: 1, Threshold: 1.9704865798824445\n",
      "  Impurity: 0.33612; HyperDT score: 0.33612; Samples: 171\n",
      "  Agreement    -> No Match\n",
      "  Impurity Match: Match\n",
      "\n"
     ]
    },
    {
     "name": "stderr",
     "output_type": "stream",
     "text": [
      " 13%|█▎        | 1344/10000 [05:26<35:30,  4.06it/s]"
     ]
    },
    {
     "name": "stdout",
     "output_type": "stream",
     "text": [
      "Node 0:\n",
      "  Faster       -> Feature: 1, Threshold: 2.234661061915797\n",
      "  HyperDT      -> Feature: 1, Threshold: 2.239021749782626\n",
      "  Impurity: 0.49750; HyperDT score: 0.49750; Samples: 398\n",
      "  Agreement    -> No Match\n",
      "  Impurity Match: Match\n",
      "\n"
     ]
    },
    {
     "name": "stderr",
     "output_type": "stream",
     "text": [
      " 15%|█▍        | 1499/10000 [06:04<35:08,  4.03it/s]"
     ]
    },
    {
     "name": "stdout",
     "output_type": "stream",
     "text": [
      "Node 0:\n",
      "  Faster       -> Feature: 1, Threshold: 1.3098619165286525\n",
      "  HyperDT      -> Feature: 1, Threshold: 1.3100558713339885\n",
      "  Impurity: 0.18125; HyperDT score: 0.18125; Samples: 171\n",
      "  Agreement    -> No Match\n",
      "  Impurity Match: Match\n",
      "\n"
     ]
    },
    {
     "name": "stderr",
     "output_type": "stream",
     "text": [
      " 16%|█▌        | 1622/10000 [06:34<34:02,  4.10it/s]"
     ]
    },
    {
     "name": "stdout",
     "output_type": "stream",
     "text": [
      "Node 0:\n",
      "  Faster       -> Feature: 2, Threshold: 1.220934015585366\n",
      "  HyperDT      -> Feature: 2, Threshold: 1.2240179695393363\n",
      "  Impurity: 0.34372; HyperDT score: 0.34171; Samples: 246\n",
      "  Agreement    -> No Match\n",
      "  Impurity Match: No Match\n",
      "\n"
     ]
    },
    {
     "name": "stderr",
     "output_type": "stream",
     "text": [
      " 20%|██        | 2007/10000 [08:07<33:25,  3.99it/s]"
     ]
    },
    {
     "name": "stdout",
     "output_type": "stream",
     "text": [
      "Node 0:\n",
      "  Faster       -> Feature: 1, Threshold: 1.694476832597221\n",
      "  HyperDT      -> Feature: 1, Threshold: 1.6962625898009827\n",
      "  Impurity: 0.40566; HyperDT score: 0.40566; Samples: 306\n",
      "  Agreement    -> No Match\n",
      "  Impurity Match: Match\n",
      "\n"
     ]
    },
    {
     "name": "stderr",
     "output_type": "stream",
     "text": [
      " 21%|██        | 2056/10000 [08:19<29:29,  4.49it/s]"
     ]
    },
    {
     "name": "stdout",
     "output_type": "stream",
     "text": [
      "Node 0:\n",
      "  Faster       -> Feature: 1, Threshold: 2.2068652564311315\n",
      "  HyperDT      -> Feature: 2, Threshold: 1.2230375917769964\n",
      "  Impurity: 0.31350; HyperDT score: 0.31249; Samples: 340\n",
      "  Agreement    -> No Match\n",
      "  Impurity Match: No Match\n",
      "\n"
     ]
    },
    {
     "name": "stderr",
     "output_type": "stream",
     "text": [
      " 22%|██▏       | 2217/10000 [08:58<31:48,  4.08it/s]"
     ]
    },
    {
     "name": "stdout",
     "output_type": "stream",
     "text": [
      "Node 0:\n",
      "  Faster       -> Feature: 1, Threshold: 1.8484137052466711\n",
      "  HyperDT      -> Feature: 1, Threshold: 1.854840675685011\n",
      "  Impurity: 0.39417; HyperDT score: 0.39417; Samples: 395\n",
      "  Agreement    -> No Match\n",
      "  Impurity Match: Match\n",
      "\n"
     ]
    },
    {
     "name": "stderr",
     "output_type": "stream",
     "text": [
      " 23%|██▎       | 2329/10000 [09:25<31:43,  4.03it/s]"
     ]
    },
    {
     "name": "stdout",
     "output_type": "stream",
     "text": [
      "Node 0:\n",
      "  Faster       -> Feature: 2, Threshold: 1.0899439519784924\n",
      "  HyperDT      -> Feature: 2, Threshold: 1.102544869966649\n",
      "  Impurity: 0.21329; HyperDT score: 0.21209; Samples: 373\n",
      "  Agreement    -> No Match\n",
      "  Impurity Match: No Match\n",
      "\n"
     ]
    },
    {
     "name": "stderr",
     "output_type": "stream",
     "text": [
      " 26%|██▌       | 2568/10000 [10:23<30:16,  4.09it/s]"
     ]
    },
    {
     "name": "stdout",
     "output_type": "stream",
     "text": [
      "Node 0:\n",
      "  Faster       -> Feature: 2, Threshold: 1.5506731899173207\n",
      "  HyperDT      -> Feature: 2, Threshold: 1.5438501996278515\n",
      "  Impurity: 0.13016; HyperDT score: 0.12840; Samples: 102\n",
      "  Agreement    -> No Match\n",
      "  Impurity Match: No Match\n",
      "\n"
     ]
    },
    {
     "name": "stderr",
     "output_type": "stream",
     "text": [
      " 26%|██▋       | 2637/10000 [10:40<29:00,  4.23it/s]"
     ]
    },
    {
     "name": "stdout",
     "output_type": "stream",
     "text": [
      "Node 0:\n",
      "  Faster       -> Feature: 2, Threshold: 2.317982963730245\n",
      "  HyperDT      -> Feature: 2, Threshold: 2.317723705005032\n",
      "  Impurity: 0.09320; HyperDT score: 0.09307; Samples: 308\n",
      "  Agreement    -> No Match\n",
      "  Impurity Match: No Match\n",
      "\n"
     ]
    },
    {
     "name": "stderr",
     "output_type": "stream",
     "text": [
      " 29%|██▊       | 2863/10000 [11:35<29:06,  4.09it/s]"
     ]
    },
    {
     "name": "stdout",
     "output_type": "stream",
     "text": [
      "Node 0:\n",
      "  Faster       -> Feature: 2, Threshold: 1.185245044189103\n",
      "  HyperDT      -> Feature: 2, Threshold: 1.1855981796703767\n",
      "  Impurity: 0.26411; HyperDT score: 0.26411; Samples: 324\n",
      "  Agreement    -> No Match\n",
      "  Impurity Match: Match\n",
      "\n"
     ]
    },
    {
     "name": "stderr",
     "output_type": "stream",
     "text": [
      " 30%|██▉       | 2976/10000 [12:03<28:09,  4.16it/s]"
     ]
    },
    {
     "name": "stdout",
     "output_type": "stream",
     "text": [
      "Node 0:\n",
      "  Faster       -> Feature: 2, Threshold: 2.3387491031123075\n",
      "  HyperDT      -> Feature: 2, Threshold: 2.3495966312567003\n",
      "  Impurity: 0.18399; HyperDT score: 0.18399; Samples: 82\n",
      "  Agreement    -> No Match\n",
      "  Impurity Match: Match\n",
      "\n"
     ]
    },
    {
     "name": "stderr",
     "output_type": "stream",
     "text": [
      " 32%|███▏      | 3177/10000 [12:52<25:33,  4.45it/s]"
     ]
    },
    {
     "name": "stdout",
     "output_type": "stream",
     "text": [
      "Node 0:\n",
      "  Faster       -> Feature: 2, Threshold: 1.757957709519394\n",
      "  HyperDT      -> Feature: 2, Threshold: 1.741086289709299\n",
      "  Impurity: 0.11834; HyperDT score: 0.11819; Samples: 345\n",
      "  Agreement    -> No Match\n",
      "  Impurity Match: No Match\n",
      "\n"
     ]
    },
    {
     "name": "stderr",
     "output_type": "stream",
     "text": [
      " 32%|███▏      | 3218/10000 [13:02<28:24,  3.98it/s]"
     ]
    },
    {
     "name": "stdout",
     "output_type": "stream",
     "text": [
      "Node 0:\n",
      "  Faster       -> Feature: 1, Threshold: 2.1176055345033014\n",
      "  HyperDT      -> Feature: 1, Threshold: 2.0729645687810545\n",
      "  Impurity: 0.20666; HyperDT score: 0.20656; Samples: 220\n",
      "  Agreement    -> No Match\n",
      "  Impurity Match: Match\n",
      "\n"
     ]
    },
    {
     "name": "stderr",
     "output_type": "stream",
     "text": [
      " 33%|███▎      | 3275/10000 [13:16<28:08,  3.98it/s]"
     ]
    },
    {
     "name": "stdout",
     "output_type": "stream",
     "text": [
      "Node 0:\n",
      "  Faster       -> Feature: 1, Threshold: 1.9193902764862532\n",
      "  HyperDT      -> Feature: 1, Threshold: 1.9231167801839886\n",
      "  Impurity: 0.20727; HyperDT score: 0.20727; Samples: 184\n",
      "  Agreement    -> No Match\n",
      "  Impurity Match: Match\n",
      "\n"
     ]
    },
    {
     "name": "stderr",
     "output_type": "stream",
     "text": [
      " 33%|███▎      | 3298/10000 [13:22<25:40,  4.35it/s]"
     ]
    },
    {
     "name": "stdout",
     "output_type": "stream",
     "text": [
      "Node 0:\n",
      "  Faster       -> Feature: 2, Threshold: 1.9979932504712106\n",
      "  HyperDT      -> Feature: 2, Threshold: 1.9989156333559803\n",
      "  Impurity: 0.38096; HyperDT score: 0.38096; Samples: 360\n",
      "  Agreement    -> No Match\n",
      "  Impurity Match: Match\n",
      "\n"
     ]
    },
    {
     "name": "stderr",
     "output_type": "stream",
     "text": [
      " 35%|███▍      | 3468/10000 [14:03<27:11,  4.00it/s]"
     ]
    },
    {
     "name": "stdout",
     "output_type": "stream",
     "text": [
      "Node 0:\n",
      "  Faster       -> Feature: 1, Threshold: 0.9908687662403957\n",
      "  HyperDT      -> Feature: 1, Threshold: 0.9916851731961469\n",
      "  Impurity: 0.20560; HyperDT score: 0.20560; Samples: 136\n",
      "  Agreement    -> No Match\n",
      "  Impurity Match: Match\n",
      "\n"
     ]
    },
    {
     "name": "stderr",
     "output_type": "stream",
     "text": [
      " 38%|███▊      | 3765/10000 [15:11<25:26,  4.08it/s]"
     ]
    },
    {
     "name": "stdout",
     "output_type": "stream",
     "text": [
      "Node 0:\n",
      "  Faster       -> Feature: 1, Threshold: 2.055410744296545\n",
      "  HyperDT      -> Feature: 1, Threshold: 2.0598261497237127\n",
      "  Impurity: 0.49939; HyperDT score: 0.49939; Samples: 386\n",
      "  Agreement    -> No Match\n",
      "  Impurity Match: Match\n",
      "\n"
     ]
    },
    {
     "name": "stderr",
     "output_type": "stream",
     "text": [
      " 38%|███▊      | 3843/10000 [15:30<25:21,  4.05it/s]"
     ]
    },
    {
     "name": "stdout",
     "output_type": "stream",
     "text": [
      "Node 0:\n",
      "  Faster       -> Feature: 2, Threshold: 1.6372399330286034\n",
      "  HyperDT      -> Feature: 2, Threshold: 1.6385261440195718\n",
      "  Impurity: 0.19726; HyperDT score: 0.19726; Samples: 299\n",
      "  Agreement    -> No Match\n",
      "  Impurity Match: Match\n",
      "\n"
     ]
    },
    {
     "name": "stderr",
     "output_type": "stream",
     "text": [
      " 39%|███▉      | 3887/10000 [15:41<24:38,  4.13it/s]"
     ]
    },
    {
     "name": "stdout",
     "output_type": "stream",
     "text": [
      "Node 0:\n",
      "  Faster       -> Feature: 2, Threshold: 2.243415769350429\n",
      "  HyperDT      -> Feature: 2, Threshold: 2.3390393713764\n",
      "  Impurity: 0.39762; HyperDT score: 0.39762; Samples: 219\n",
      "  Agreement    -> No Match\n",
      "  Impurity Match: Match\n",
      "\n"
     ]
    },
    {
     "name": "stderr",
     "output_type": "stream",
     "text": [
      " 39%|███▉      | 3918/10000 [15:48<25:13,  4.02it/s]"
     ]
    },
    {
     "name": "stdout",
     "output_type": "stream",
     "text": [
      "Node 0:\n",
      "  Faster       -> Feature: 1, Threshold: 2.0576122733139575\n",
      "  HyperDT      -> Feature: 1, Threshold: 1.951730022404191\n",
      "  Impurity: 0.22344; HyperDT score: 0.22282; Samples: 329\n",
      "  Agreement    -> No Match\n",
      "  Impurity Match: No Match\n",
      "\n"
     ]
    },
    {
     "name": "stderr",
     "output_type": "stream",
     "text": [
      " 40%|███▉      | 3978/10000 [16:03<25:34,  3.92it/s]"
     ]
    },
    {
     "name": "stdout",
     "output_type": "stream",
     "text": [
      "Node 0:\n",
      "  Faster       -> Feature: 2, Threshold: 2.294230656154703\n",
      "  HyperDT      -> Feature: 2, Threshold: 2.294624992228919\n",
      "  Impurity: 0.10672; HyperDT score: 0.10672; Samples: 362\n",
      "  Agreement    -> No Match\n",
      "  Impurity Match: Match\n",
      "\n"
     ]
    },
    {
     "name": "stderr",
     "output_type": "stream",
     "text": [
      " 40%|████      | 4035/10000 [16:17<24:33,  4.05it/s]"
     ]
    },
    {
     "name": "stdout",
     "output_type": "stream",
     "text": [
      "Node 0:\n",
      "  Faster       -> Feature: 1, Threshold: 1.555724178261209\n",
      "  HyperDT      -> Feature: 1, Threshold: 1.5582969295052338\n",
      "  Impurity: 0.12676; HyperDT score: 0.12676; Samples: 347\n",
      "  Agreement    -> No Match\n",
      "  Impurity Match: Match\n",
      "\n"
     ]
    },
    {
     "name": "stderr",
     "output_type": "stream",
     "text": [
      " 41%|████      | 4064/10000 [16:23<24:08,  4.10it/s]"
     ]
    },
    {
     "name": "stdout",
     "output_type": "stream",
     "text": [
      "Node 0:\n",
      "  Faster       -> Feature: 1, Threshold: 0.8440988122621574\n",
      "  HyperDT      -> Feature: 1, Threshold: 0.8452204301305897\n",
      "  Impurity: 0.20891; HyperDT score: 0.20891; Samples: 393\n",
      "  Agreement    -> No Match\n",
      "  Impurity Match: Match\n",
      "\n"
     ]
    },
    {
     "name": "stderr",
     "output_type": "stream",
     "text": [
      " 41%|████      | 4084/10000 [16:28<21:31,  4.58it/s]"
     ]
    },
    {
     "name": "stdout",
     "output_type": "stream",
     "text": [
      "Node 0:\n",
      "  Faster       -> Feature: 1, Threshold: 0.826976105142264\n",
      "  HyperDT      -> Feature: 1, Threshold: 0.8278825699569364\n",
      "  Impurity: 0.15075; HyperDT score: 0.15075; Samples: 294\n",
      "  Agreement    -> No Match\n",
      "  Impurity Match: Match\n",
      "\n"
     ]
    },
    {
     "name": "stderr",
     "output_type": "stream",
     "text": [
      " 42%|████▏     | 4230/10000 [17:00<23:03,  4.17it/s]"
     ]
    },
    {
     "name": "stdout",
     "output_type": "stream",
     "text": [
      "Node 0:\n",
      "  Faster       -> Feature: 2, Threshold: 2.1031056129235854\n",
      "  HyperDT      -> Feature: 2, Threshold: 2.1230021481358827\n",
      "  Impurity: 0.15114; HyperDT score: 0.14989; Samples: 133\n",
      "  Agreement    -> No Match\n",
      "  Impurity Match: No Match\n",
      "\n"
     ]
    },
    {
     "name": "stderr",
     "output_type": "stream",
     "text": [
      " 45%|████▍     | 4482/10000 [18:02<23:06,  3.98it/s]"
     ]
    },
    {
     "name": "stdout",
     "output_type": "stream",
     "text": [
      "Node 0:\n",
      "  Faster       -> Feature: 2, Threshold: 1.6560271059812552\n",
      "  HyperDT      -> Feature: 2, Threshold: 1.6566823617990776\n",
      "  Impurity: 0.12685; HyperDT score: 0.12685; Samples: 66\n",
      "  Agreement    -> No Match\n",
      "  Impurity Match: Match\n",
      "\n"
     ]
    },
    {
     "name": "stderr",
     "output_type": "stream",
     "text": [
      " 45%|████▍     | 4490/10000 [18:04<22:21,  4.11it/s]"
     ]
    },
    {
     "name": "stdout",
     "output_type": "stream",
     "text": [
      "Error on trial 4489: Points must lie on a hyperboloid: Minkowski norm must equal -1/curvature.\n"
     ]
    },
    {
     "name": "stderr",
     "output_type": "stream",
     "text": [
      " 49%|████▉     | 4901/10000 [19:34<20:26,  4.16it/s]"
     ]
    },
    {
     "name": "stdout",
     "output_type": "stream",
     "text": [
      "Node 0:\n",
      "  Faster       -> Feature: 1, Threshold: 2.1457603141875534\n",
      "  HyperDT      -> Feature: 1, Threshold: 2.1459097080766987\n",
      "  Impurity: 0.10910; HyperDT score: 0.10910; Samples: 314\n",
      "  Agreement    -> No Match\n",
      "  Impurity Match: Match\n",
      "\n"
     ]
    },
    {
     "name": "stderr",
     "output_type": "stream",
     "text": [
      " 53%|█████▎    | 5318/10000 [21:08<16:57,  4.60it/s]"
     ]
    },
    {
     "name": "stdout",
     "output_type": "stream",
     "text": [
      "Node 0:\n",
      "  Faster       -> Feature: 1, Threshold: 0.9064097153486227\n",
      "  HyperDT      -> Feature: 1, Threshold: 0.9096802655183968\n",
      "  Impurity: 0.26486; HyperDT score: 0.26486; Samples: 361\n",
      "  Agreement    -> No Match\n",
      "  Impurity Match: Match\n",
      "\n"
     ]
    },
    {
     "name": "stderr",
     "output_type": "stream",
     "text": [
      " 55%|█████▍    | 5479/10000 [21:44<16:26,  4.58it/s]"
     ]
    },
    {
     "name": "stdout",
     "output_type": "stream",
     "text": [
      "Node 0:\n",
      "  Faster       -> Feature: 1, Threshold: 1.7129734597369892\n",
      "  HyperDT      -> Feature: 1, Threshold: 1.8806662314108993\n",
      "  Impurity: 0.18286; HyperDT score: 0.18224; Samples: 233\n",
      "  Agreement    -> No Match\n",
      "  Impurity Match: No Match\n",
      "\n"
     ]
    },
    {
     "name": "stderr",
     "output_type": "stream",
     "text": [
      " 58%|█████▊    | 5786/10000 [22:51<15:09,  4.63it/s]"
     ]
    },
    {
     "name": "stdout",
     "output_type": "stream",
     "text": [
      "Node 0:\n",
      "  Faster       -> Feature: 1, Threshold: 1.6716416077820633\n",
      "  HyperDT      -> Feature: 1, Threshold: 1.664593119384669\n",
      "  Impurity: 0.09094; HyperDT score: 0.09061; Samples: 117\n",
      "  Agreement    -> No Match\n",
      "  Impurity Match: No Match\n",
      "\n"
     ]
    },
    {
     "name": "stderr",
     "output_type": "stream",
     "text": [
      " 59%|█████▉    | 5875/10000 [23:10<14:51,  4.62it/s]"
     ]
    },
    {
     "name": "stdout",
     "output_type": "stream",
     "text": [
      "Node 0:\n",
      "  Faster       -> Feature: 1, Threshold: 2.1424935728459755\n",
      "  HyperDT      -> Feature: 1, Threshold: 2.1645052465659305\n",
      "  Impurity: 0.46068; HyperDT score: 0.46065; Samples: 305\n",
      "  Agreement    -> No Match\n",
      "  Impurity Match: Match\n",
      "\n"
     ]
    },
    {
     "name": "stderr",
     "output_type": "stream",
     "text": [
      " 66%|██████▌   | 6574/10000 [25:42<12:19,  4.63it/s]"
     ]
    },
    {
     "name": "stdout",
     "output_type": "stream",
     "text": [
      "Node 0:\n",
      "  Faster       -> Feature: 2, Threshold: 0.8383671042753712\n",
      "  HyperDT      -> Feature: 2, Threshold: 0.8386386841650753\n",
      "  Impurity: 0.41769; HyperDT score: 0.41569; Samples: 305\n",
      "  Agreement    -> No Match\n",
      "  Impurity Match: No Match\n",
      "\n"
     ]
    },
    {
     "name": "stderr",
     "output_type": "stream",
     "text": [
      " 67%|██████▋   | 6667/10000 [26:03<13:29,  4.12it/s]"
     ]
    },
    {
     "name": "stdout",
     "output_type": "stream",
     "text": [
      "Node 0:\n",
      "  Faster       -> Feature: 2, Threshold: 1.477501750401162\n",
      "  HyperDT      -> Feature: 2, Threshold: 1.4847919288115992\n",
      "  Impurity: 0.16044; HyperDT score: 0.16013; Samples: 220\n",
      "  Agreement    -> No Match\n",
      "  Impurity Match: No Match\n",
      "\n"
     ]
    },
    {
     "name": "stderr",
     "output_type": "stream",
     "text": [
      " 67%|██████▋   | 6708/10000 [26:13<13:22,  4.10it/s]"
     ]
    },
    {
     "name": "stdout",
     "output_type": "stream",
     "text": [
      "Node 0:\n",
      "  Faster       -> Feature: 2, Threshold: 2.083778003487428\n",
      "  HyperDT      -> Feature: 2, Threshold: 2.071455319419842\n",
      "  Impurity: 0.27606; HyperDT score: 0.27578; Samples: 263\n",
      "  Agreement    -> No Match\n",
      "  Impurity Match: No Match\n",
      "\n"
     ]
    },
    {
     "name": "stderr",
     "output_type": "stream",
     "text": [
      " 67%|██████▋   | 6727/10000 [26:18<13:37,  4.00it/s]"
     ]
    },
    {
     "name": "stdout",
     "output_type": "stream",
     "text": [
      "Node 0:\n",
      "  Faster       -> Feature: 2, Threshold: 2.2403422701685565\n",
      "  HyperDT      -> Feature: 2, Threshold: 2.2415373835679855\n",
      "  Impurity: 0.35171; HyperDT score: 0.34997; Samples: 388\n",
      "  Agreement    -> No Match\n",
      "  Impurity Match: No Match\n",
      "\n"
     ]
    },
    {
     "name": "stderr",
     "output_type": "stream",
     "text": [
      " 72%|███████▏  | 7230/10000 [28:12<09:55,  4.65it/s]"
     ]
    },
    {
     "name": "stdout",
     "output_type": "stream",
     "text": [
      "Node 0:\n",
      "  Faster       -> Feature: 1, Threshold: 0.9941265613139562\n",
      "  HyperDT      -> Feature: 1, Threshold: 1.0017871442634103\n",
      "  Impurity: 0.22956; HyperDT score: 0.22951; Samples: 355\n",
      "  Agreement    -> No Match\n",
      "  Impurity Match: Match\n",
      "\n"
     ]
    },
    {
     "name": "stderr",
     "output_type": "stream",
     "text": [
      " 72%|███████▏  | 7232/10000 [28:13<09:55,  4.65it/s]"
     ]
    },
    {
     "name": "stdout",
     "output_type": "stream",
     "text": [
      "Node 0:\n",
      "  Faster       -> Feature: 2, Threshold: 2.1059808464887078\n",
      "  HyperDT      -> Feature: 2, Threshold: 2.107638426951144\n",
      "  Impurity: 0.48586; HyperDT score: 0.48586; Samples: 381\n",
      "  Agreement    -> No Match\n",
      "  Impurity Match: Match\n",
      "\n"
     ]
    },
    {
     "name": "stderr",
     "output_type": "stream",
     "text": [
      " 74%|███████▍  | 7422/10000 [28:54<09:18,  4.61it/s]"
     ]
    },
    {
     "name": "stdout",
     "output_type": "stream",
     "text": [
      "Node 0:\n",
      "  Faster       -> Feature: 1, Threshold: 2.139937637853389\n",
      "  HyperDT      -> Feature: 1, Threshold: 2.2303863118722402\n",
      "  Impurity: 0.49772; HyperDT score: 0.49772; Samples: 373\n",
      "  Agreement    -> No Match\n",
      "  Impurity Match: Match\n",
      "\n"
     ]
    },
    {
     "name": "stderr",
     "output_type": "stream",
     "text": [
      " 75%|███████▌  | 7521/10000 [29:16<08:55,  4.63it/s]"
     ]
    },
    {
     "name": "stdout",
     "output_type": "stream",
     "text": [
      "Node 0:\n",
      "  Faster       -> Feature: 1, Threshold: 2.290250494085216\n",
      "  HyperDT      -> Feature: 1, Threshold: 2.292270735727618\n",
      "  Impurity: 0.13296; HyperDT score: 0.13296; Samples: 59\n",
      "  Agreement    -> No Match\n",
      "  Impurity Match: Match\n",
      "\n"
     ]
    },
    {
     "name": "stderr",
     "output_type": "stream",
     "text": [
      " 80%|███████▉  | 7951/10000 [30:49<06:53,  4.96it/s]"
     ]
    },
    {
     "name": "stdout",
     "output_type": "stream",
     "text": [
      "Node 0:\n",
      "  Faster       -> Feature: 1, Threshold: 2.003952138153427\n",
      "  HyperDT      -> Feature: 1, Threshold: 2.005502743263585\n",
      "  Impurity: 0.23769; HyperDT score: 0.23769; Samples: 193\n",
      "  Agreement    -> No Match\n",
      "  Impurity Match: Match\n",
      "\n"
     ]
    },
    {
     "name": "stderr",
     "output_type": "stream",
     "text": [
      " 80%|███████▉  | 7973/10000 [30:54<07:17,  4.63it/s]"
     ]
    },
    {
     "name": "stdout",
     "output_type": "stream",
     "text": [
      "Node 0:\n",
      "  Faster       -> Feature: 2, Threshold: 1.1960761006224099\n",
      "  HyperDT      -> Feature: 2, Threshold: 1.1965647813353364\n",
      "  Impurity: 0.26770; HyperDT score: 0.26770; Samples: 395\n",
      "  Agreement    -> No Match\n",
      "  Impurity Match: Match\n",
      "\n"
     ]
    },
    {
     "name": "stderr",
     "output_type": "stream",
     "text": [
      " 82%|████████▏ | 8182/10000 [31:43<07:25,  4.08it/s]"
     ]
    },
    {
     "name": "stdout",
     "output_type": "stream",
     "text": [
      "Node 0:\n",
      "  Faster       -> Feature: 1, Threshold: 1.5960040945500686\n",
      "  HyperDT      -> Feature: 1, Threshold: 1.5971620451737112\n",
      "  Impurity: 0.12037; HyperDT score: 0.12037; Samples: 112\n",
      "  Agreement    -> No Match\n",
      "  Impurity Match: Match\n",
      "\n"
     ]
    },
    {
     "name": "stderr",
     "output_type": "stream",
     "text": [
      " 82%|████████▏ | 8209/10000 [31:49<06:29,  4.59it/s]"
     ]
    },
    {
     "name": "stdout",
     "output_type": "stream",
     "text": [
      "Node 0:\n",
      "  Faster       -> Feature: 1, Threshold: 2.10344832622781\n",
      "  HyperDT      -> Feature: 1, Threshold: 2.3142907781067033\n",
      "  Impurity: 0.47580; HyperDT score: 0.47580; Samples: 312\n",
      "  Agreement    -> No Match\n",
      "  Impurity Match: Match\n",
      "\n"
     ]
    },
    {
     "name": "stderr",
     "output_type": "stream",
     "text": [
      " 88%|████████▊ | 8764/10000 [33:49<04:27,  4.62it/s]"
     ]
    },
    {
     "name": "stdout",
     "output_type": "stream",
     "text": [
      "Node 0:\n",
      "  Faster       -> Feature: 1, Threshold: 2.322147020127503\n",
      "  HyperDT      -> Feature: 1, Threshold: 2.322430185011507\n",
      "  Impurity: 0.18423; HyperDT score: 0.18423; Samples: 176\n",
      "  Agreement    -> No Match\n",
      "  Impurity Match: Match\n",
      "\n"
     ]
    },
    {
     "name": "stderr",
     "output_type": "stream",
     "text": [
      " 88%|████████▊ | 8791/10000 [33:55<04:21,  4.61it/s]"
     ]
    },
    {
     "name": "stdout",
     "output_type": "stream",
     "text": [
      "Node 0:\n",
      "  Faster       -> Feature: 1, Threshold: 2.2067942331772588\n",
      "  HyperDT      -> Feature: 1, Threshold: 2.208444586458487\n",
      "  Impurity: 0.40126; HyperDT score: 0.40126; Samples: 239\n",
      "  Agreement    -> No Match\n",
      "  Impurity Match: Match\n",
      "\n"
     ]
    },
    {
     "name": "stderr",
     "output_type": "stream",
     "text": [
      " 88%|████████▊ | 8836/10000 [34:05<04:14,  4.57it/s]"
     ]
    },
    {
     "name": "stdout",
     "output_type": "stream",
     "text": [
      "Node 0:\n",
      "  Faster       -> Feature: 2, Threshold: 1.8410253019420368\n",
      "  HyperDT      -> Feature: 2, Threshold: 1.8421160772052394\n",
      "  Impurity: 0.37458; HyperDT score: 0.37434; Samples: 396\n",
      "  Agreement    -> No Match\n",
      "  Impurity Match: No Match\n",
      "\n"
     ]
    },
    {
     "name": "stderr",
     "output_type": "stream",
     "text": [
      " 89%|████████▉ | 8926/10000 [34:24<03:52,  4.62it/s]"
     ]
    },
    {
     "name": "stdout",
     "output_type": "stream",
     "text": [
      "Node 0:\n",
      "  Faster       -> Feature: 1, Threshold: 1.9189338765626287\n",
      "  HyperDT      -> Feature: 1, Threshold: 1.9259689921959213\n",
      "  Impurity: 0.07572; HyperDT score: 0.07396; Samples: 59\n",
      "  Agreement    -> No Match\n",
      "  Impurity Match: No Match\n",
      "\n"
     ]
    },
    {
     "name": "stderr",
     "output_type": "stream",
     "text": [
      " 89%|████████▉ | 8939/10000 [34:27<03:47,  4.66it/s]"
     ]
    },
    {
     "name": "stdout",
     "output_type": "stream",
     "text": [
      "Node 0:\n",
      "  Faster       -> Feature: 1, Threshold: 2.2777477310996974\n",
      "  HyperDT      -> Feature: 1, Threshold: 2.2778985978389477\n",
      "  Impurity: 0.28999; HyperDT score: 0.28999; Samples: 214\n",
      "  Agreement    -> No Match\n",
      "  Impurity Match: Match\n",
      "\n"
     ]
    },
    {
     "name": "stderr",
     "output_type": "stream",
     "text": [
      " 93%|█████████▎| 9308/10000 [35:52<02:47,  4.13it/s]"
     ]
    },
    {
     "name": "stdout",
     "output_type": "stream",
     "text": [
      "Node 0:\n",
      "  Faster       -> Feature: 2, Threshold: 2.2996780067266216\n",
      "  HyperDT      -> Feature: 2, Threshold: 2.297969834782584\n",
      "  Impurity: 0.08038; HyperDT score: 0.07937; Samples: 134\n",
      "  Agreement    -> No Match\n",
      "  Impurity Match: No Match\n",
      "\n"
     ]
    },
    {
     "name": "stderr",
     "output_type": "stream",
     "text": [
      " 94%|█████████▍| 9414/10000 [36:18<02:26,  4.01it/s]"
     ]
    },
    {
     "name": "stdout",
     "output_type": "stream",
     "text": [
      "Node 0:\n",
      "  Faster       -> Feature: 2, Threshold: 1.1772706301519131\n",
      "  HyperDT      -> Feature: 2, Threshold: 1.1810110389774793\n",
      "  Impurity: 0.22099; HyperDT score: 0.22099; Samples: 182\n",
      "  Agreement    -> No Match\n",
      "  Impurity Match: Match\n",
      "\n"
     ]
    },
    {
     "name": "stderr",
     "output_type": "stream",
     "text": [
      " 94%|█████████▍| 9440/10000 [36:25<02:17,  4.08it/s]"
     ]
    },
    {
     "name": "stdout",
     "output_type": "stream",
     "text": [
      "Node 0:\n",
      "  Faster       -> Feature: 1, Threshold: 2.267583042633631\n",
      "  HyperDT      -> Feature: 1, Threshold: 2.2680099512941165\n",
      "  Impurity: 0.11057; HyperDT score: 0.11057; Samples: 162\n",
      "  Agreement    -> No Match\n",
      "  Impurity Match: Match\n",
      "\n"
     ]
    },
    {
     "name": "stderr",
     "output_type": "stream",
     "text": [
      " 96%|█████████▌| 9603/10000 [37:05<01:36,  4.11it/s]"
     ]
    },
    {
     "name": "stdout",
     "output_type": "stream",
     "text": [
      "Node 0:\n",
      "  Faster       -> Feature: 1, Threshold: 0.8650329972033828\n",
      "  HyperDT      -> Feature: 1, Threshold: 0.8599766809680044\n",
      "  Impurity: 0.47025; HyperDT score: 0.46789; Samples: 370\n",
      "  Agreement    -> No Match\n",
      "  Impurity Match: No Match\n",
      "\n"
     ]
    },
    {
     "name": "stderr",
     "output_type": "stream",
     "text": [
      " 96%|█████████▌| 9610/10000 [37:06<01:36,  4.06it/s]"
     ]
    },
    {
     "name": "stdout",
     "output_type": "stream",
     "text": [
      "Node 0:\n",
      "  Faster       -> Feature: 1, Threshold: 1.1756993833068194\n",
      "  HyperDT      -> Feature: 1, Threshold: 1.1758847951754585\n",
      "  Impurity: 0.21316; HyperDT score: 0.21316; Samples: 284\n",
      "  Agreement    -> No Match\n",
      "  Impurity Match: Match\n",
      "\n"
     ]
    },
    {
     "name": "stderr",
     "output_type": "stream",
     "text": [
      " 96%|█████████▋| 9626/10000 [37:10<01:33,  3.98it/s]"
     ]
    },
    {
     "name": "stdout",
     "output_type": "stream",
     "text": [
      "Node 0:\n",
      "  Faster       -> Feature: 1, Threshold: 2.2703951957476947\n",
      "  HyperDT      -> Feature: 1, Threshold: 2.2708135048167586\n",
      "  Impurity: 0.01598; HyperDT score: 0.01598; Samples: 233\n",
      "  Agreement    -> No Match\n",
      "  Impurity Match: Match\n",
      "\n"
     ]
    },
    {
     "name": "stderr",
     "output_type": "stream",
     "text": [
      " 98%|█████████▊| 9757/10000 [37:43<01:01,  3.98it/s]"
     ]
    },
    {
     "name": "stdout",
     "output_type": "stream",
     "text": [
      "Node 0:\n",
      "  Faster       -> Feature: 2, Threshold: 1.0348041790807785\n",
      "  HyperDT      -> Feature: 2, Threshold: 1.035561206574827\n",
      "  Impurity: 0.30649; HyperDT score: 0.30485; Samples: 296\n",
      "  Agreement    -> No Match\n",
      "  Impurity Match: No Match\n",
      "\n"
     ]
    },
    {
     "name": "stderr",
     "output_type": "stream",
     "text": [
      " 98%|█████████▊| 9808/10000 [37:55<00:47,  4.01it/s]"
     ]
    },
    {
     "name": "stdout",
     "output_type": "stream",
     "text": [
      "Node 0:\n",
      "  Faster       -> Feature: 2, Threshold: 2.129342299797123\n",
      "  HyperDT      -> Feature: 2, Threshold: 2.1322999690340154\n",
      "  Impurity: 0.36920; HyperDT score: 0.36920; Samples: 360\n",
      "  Agreement    -> No Match\n",
      "  Impurity Match: Match\n",
      "\n"
     ]
    },
    {
     "name": "stderr",
     "output_type": "stream",
     "text": [
      "100%|██████████| 10000/10000 [38:43<00:00,  4.30it/s]"
     ]
    },
    {
     "name": "stdout",
     "output_type": "stream",
     "text": [
      "Match: 9934, IG Match: 43, Mismatch: 22 \n"
     ]
    },
    {
     "name": "stderr",
     "output_type": "stream",
     "text": [
      "\n"
     ]
    }
   ],
   "source": [
    "# Testing copilot completions - multiline version\n",
    "import numpy as np\n",
    "import matplotlib.pyplot as plt\n",
    "\n",
    "from hyperdt.legacy.tree import HyperbolicDecisionTreeClassifier as HDT\n",
    "from hyperdt.tree import HyperbolicDecisionTreeClassifier as FastHDT\n",
    "from hyperdt.toy_data import wrapped_normal_mixture\n",
    "from sklearn.model_selection import train_test_split\n",
    "from sklearn.metrics import accuracy_score\n",
    "from tqdm import trange\n",
    "\n",
    "TOTAL_TRIALS = 10_000\n",
    "N_POINTS = 1_000\n",
    "SKLEARN_SEED = 2 \n",
    "\n",
    "np.random.seed(SKLEARN_SEED)\n",
    "assert (np.random.permutation([0, 1]) == [1, 0]).all() # This is what it takes\n",
    "\n",
    "# agreement_split = 1.0\n",
    "# while agreement_split == 1.0:\n",
    "n_match, n_ig_match, n_mismatch = 0, 0, 0\n",
    "seed = -1\n",
    "for i in trange(TOTAL_TRIALS):\n",
    "    seed += 1\n",
    "    try:\n",
    "        X, y = wrapped_normal_mixture(num_points=N_POINTS, seed=seed)\n",
    "        X_train, X_test, y_train, y_test = train_test_split(X, y, test_size=0.2)\n",
    "\n",
    "        dt_args = {\"max_depth\": 1, \"min_samples_leaf\": 1, \"min_samples_split\": 2}\n",
    "\n",
    "        hdt = HDT(**dt_args)\n",
    "        hdt.fit(X_train, y_train)    \n",
    "\n",
    "        fhdt = FastHDT(**dt_args, random_state=SKLEARN_SEED) # Prevent permuting features randomly\n",
    "        fhdt.fit(X_train, y_train)\n",
    "\n",
    "        agreement_train, accuracy_hdt_train, accuracy_fhdt_train = compare_predictions(hdt, fhdt, X_train, y_train)\n",
    "        agreement_test, accuracy_hdt_test, accuracy_fhdt_test = compare_predictions(hdt, fhdt, X_test, y_test)\n",
    "        agreement_split, agreement_ig = compare_trees(fhdt, hdt, verbose=1)\n",
    "\n",
    "        if agreement_split:\n",
    "            n_match += 1\n",
    "        elif agreement_ig:\n",
    "            n_ig_match += 1\n",
    "        else:\n",
    "            n_mismatch += 1\n",
    "    except Exception as e:\n",
    "        print(f\"Error on trial {i}: {e}\")\n",
    "\n",
    "print(f\"Match: {n_match}, IG Match: {n_ig_match}, Mismatch: {n_mismatch} \")\n",
    "    \n",
    "# print(f\"accuracy_hdt_train: {accuracy_hdt_train}, accuracy_fhdt_train: {accuracy_fhdt_train}\")\n",
    "# print(f\"accuracy_hdt_test: {accuracy_hdt_test}, accuracy_fhdt_test: {accuracy_fhdt_test}\")\n",
    "# print(f\"agreement_train: {agreement_train}, agreement_test: {agreement_test}, agreement_split: {agreement_split}\")\n"
   ]
  },
  {
   "cell_type": "code",
   "execution_count": 118,
   "id": "f1daaadb",
   "metadata": {},
   "outputs": [
    {
     "data": {
      "image/png": "[encoded data removed]",
      "text/plain": [
       "<Figure size 1200x300 with 2 Axes>"
      ]
     },
     "metadata": {},
     "output_type": "display_data"
    }
   ],
   "source": [
    "# Track information gain for some set of points\n",
    "mybool = False\n",
    "seed = 71\n",
    "while not mybool:\n",
    "    seed += 1\n",
    "    X, y = wrapped_normal_mixture(num_points=1_000, seed=seed)\n",
    "\n",
    "    feat0_vals_sorted = hdt._get_candidates(X, 1)\n",
    "    feat1_vals_sorted = hdt._get_candidates(X, 2)\n",
    "\n",
    "    feat0_igs, feat1_igs = [], []\n",
    "    for vals, out in zip([feat0_vals_sorted, feat1_vals_sorted], [feat0_igs, feat1_igs]):\n",
    "        for theta in vals:\n",
    "            l, r = hdt._get_split(X, dim=1 if out is feat0_igs else 2, theta=theta)\n",
    "            ig = hdt._information_gain(l, r, y)\n",
    "            out.append(ig)\n",
    "    mybool = np.isclose(max(feat0_igs), max(feat1_igs), atol=1e-3)\n",
    "\n",
    "# Show the data and the splits\n",
    "fig, axs = plt.subplots(1, 2, figsize=(12, 3), constrained_layout=True, gridspec_kw={'width_ratios': [2, 1]})\n",
    "\n",
    "# Get colors from Set1, to match other plots\n",
    "c0, c1, c2, c3 = plt.cm.Set1.colors[:4]\n",
    "\n",
    "# First plot: IGs\n",
    "axs[0].plot(feat0_vals_sorted, feat0_igs, label='Feature 0', c=c2, lw=2)\n",
    "axs[0].plot(feat1_vals_sorted, feat1_igs, label='Feature 1', c=c3, lw=2)\n",
    "axs[0].hlines(y=max(feat0_igs), xmin=np.pi / 4, xmax=3 * np.pi / 4, colors='k', linestyles='dashed', lw=1)\n",
    "axs[0].set_xlim(np.pi / 4, 3 * np.pi / 4)\n",
    "axs[0].set_xticks(np.linspace(np.pi / 4, 3 * np.pi / 4, 3), [\"$\\\\pi/4$\", \"$\\\\pi/2$\", \"$3\\\\pi/4$\"])\n",
    "axs[0].set_ylabel(\"Information Gain\")\n",
    "axs[0].set_xlabel(\"Angle ($\\\\theta$)\")\n",
    "axs[0].set_ylabel(\"Information Gain by Feature\")\n",
    "axs[0].set_xlabel(\"Angle ($\\\\theta$)\")\n",
    "axs[0].set_title(\"Information Gain vs Angle\")\n",
    "\n",
    "# Second plot: splits on the Klein model\n",
    "X_klein_dim0 = X[:, 1] / X[:, 0]\n",
    "X_klein_dim1 = X[:, 2] / X[:, 0]\n",
    "theta_dim0 = 1 / np.tan(feat0_vals_sorted[np.argmax(feat0_igs)])\n",
    "theta_dim1 = 1 / np.tan(feat1_vals_sorted[np.argmax(feat1_igs)])\n",
    "axs[1].scatter(X_klein_dim0, X_klein_dim1, c=[c0 if label == 0 else c1 for label in y], s=9)\n",
    "axs[1].hlines(y=theta_dim1, xmin=-2, xmax=2, colors=c3, lw=2)\n",
    "axs[1].vlines(x=theta_dim0, ymin=-2, ymax=2, colors=c2, lw=2)\n",
    "axs[1].set_xlabel(\"Feature 0\")\n",
    "axs[1].set_ylabel(\"Feature 1\")\n",
    "axs[1].set_title(\"Feature Splits on Klein Model\")\n",
    "\n",
    "# Draw the circle as well\n",
    "_thetas = np.linspace(0, 2 * np.pi, 100)\n",
    "x = np.cos(_thetas)\n",
    "y = np.sin(_thetas)\n",
    "axs[1].plot(x, y, c=\"k\", lw=2)\n",
    "axs[1].axis('equal')\n",
    "axs[1].set_xlim([-1.05, 1.05])\n",
    "axs[1].set_ylim([-1.05, 1.05])\n",
    "\n",
    "# Legend: blue and orange lines for Feature 0/1, red and blue dots for classes\n",
    "artists = [\n",
    "    axs[0].plot([], [], label=\"Max information gain\", color=\"k\", linestyle=\"dashed\", lw=1)[0],\n",
    "    axs[0].plot([], [], label='Feature 0', color=c2, lw=2)[0],\n",
    "    axs[0].plot([], [], label='Feature 1', color=c3, lw=2)[0],\n",
    "    axs[1].scatter([], [], label='Class 0', color=c0, lw=2),\n",
    "    axs[1].scatter([], [], label='Class 1', color=c1, lw=2)\n",
    "]\n",
    "axs[1].legend(\n",
    "    artists,\n",
    "    ['Max IG', 'Feature 0', 'Feature 1', 'Class 0', 'Class 1'],\n",
    "    loc='center right',\n",
    "    bbox_to_anchor=(1.4, 0.5),\n",
    "    shadow=False,\n",
    "    frameon=False\n",
    ")\n",
    "\n",
    "# Remove top and right spines\n",
    "for ax in axs:\n",
    "    ax.spines['top'].set_visible(False)\n",
    "    ax.spines['right'].set_visible(False)\n",
    "\n",
    "# plt.suptitle(f\"Information Gain Analysis ($n=100$, seed={seed})\")\n",
    "# plt.tight_layout()\n",
    "# plt.show()\n",
    "plt.savefig(\"images/information_gain_analysis.pdf\", bbox_inches='tight')"
   ]
  },
  {
   "cell_type": "code",
   "execution_count": 89,
   "id": "6e35ed0a",
   "metadata": {},
   "outputs": [
    {
     "name": "stderr",
     "output_type": "stream",
     "text": [
      "  0%|          | 0/10 [00:00<?, ?it/s]"
     ]
    },
    {
     "name": "stderr",
     "output_type": "stream",
     "text": [
      "100%|██████████| 10/10 [00:02<00:00,  4.48it/s]\n",
      "100%|██████████| 10/10 [00:04<00:00,  2.26it/s]\n",
      " 70%|███████   | 7/10 [00:04<00:02,  1.45it/s]"
     ]
    },
    {
     "name": "stdout",
     "output_type": "stream",
     "text": [
      "      Depth 3: sk(sk_feat=2, 2.2435)  vs  hd(hd_feat=1, 1.7163)  →  DIFF\n"
     ]
    },
    {
     "name": "stderr",
     "output_type": "stream",
     "text": [
      " 80%|████████  | 8/10 [00:05<00:01,  1.44it/s]"
     ]
    },
    {
     "name": "stdout",
     "output_type": "stream",
     "text": [
      "        Depth 4: sk(sk_feat=2, 1.4329)  vs  hd(hd_feat=1, 1.1343)  →  DIFF\n"
     ]
    },
    {
     "name": "stderr",
     "output_type": "stream",
     "text": [
      " 90%|█████████ | 9/10 [00:06<00:00,  1.45it/s]"
     ]
    },
    {
     "name": "stdout",
     "output_type": "stream",
     "text": [
      "    Depth 2: sk(sk_feat=1, 0.8893)  vs  hd(hd_feat=1, 0.8669)  →  DIFF\n",
      "    Depth 2: sk(sk_feat=2, 0.8260)  vs  hd(hd_feat=1, 1.8454)  →  DIFF\n"
     ]
    },
    {
     "name": "stderr",
     "output_type": "stream",
     "text": [
      "100%|██████████| 10/10 [00:06<00:00,  1.54it/s]\n",
      " 10%|█         | 1/10 [00:01<00:09,  1.08s/it]"
     ]
    },
    {
     "name": "stdout",
     "output_type": "stream",
     "text": [
      "  Depth 1: sk(sk_feat=2, 2.1539)  vs  hd(hd_feat=1, 2.3181)  →  DIFF\n"
     ]
    },
    {
     "name": "stderr",
     "output_type": "stream",
     "text": [
      " 20%|██        | 2/10 [00:01<00:07,  1.06it/s]"
     ]
    },
    {
     "name": "stdout",
     "output_type": "stream",
     "text": [
      "    Depth 2: sk(sk_feat=2, 1.4846)  vs  hd(hd_feat=1, 2.0836)  →  DIFF\n"
     ]
    },
    {
     "name": "stderr",
     "output_type": "stream",
     "text": [
      " 30%|███       | 3/10 [00:02<00:06,  1.11it/s]"
     ]
    },
    {
     "name": "stdout",
     "output_type": "stream",
     "text": [
      "          Depth 5: sk(sk_feat=2, 0.8337)  vs  hd(hd_feat=2, 0.7968)  →  DIFF\n"
     ]
    },
    {
     "name": "stderr",
     "output_type": "stream",
     "text": [
      " 40%|████      | 4/10 [00:03<00:04,  1.31it/s]"
     ]
    },
    {
     "name": "stdout",
     "output_type": "stream",
     "text": [
      "      Depth 3: sk(sk_feat=2, 1.3188)  vs  hd(hd_feat=1, 2.1045)  →  DIFF\n",
      "            Depth 6: sk(sk_feat=1, 1.8233)  vs  hd(hd_feat=1, 1.8151)  →  DIFF\n",
      "        Depth 4: sk(sk_feat=2, 2.2437)  vs  hd(hd_feat=1, 1.7480)  →  DIFF\n"
     ]
    },
    {
     "name": "stderr",
     "output_type": "stream",
     "text": [
      " 50%|█████     | 5/10 [00:04<00:03,  1.26it/s]"
     ]
    },
    {
     "name": "stdout",
     "output_type": "stream",
     "text": [
      "          Depth 5: sk(sk_feat=2, 1.9923)  vs  hd(hd_feat=1, 1.4108)  →  DIFF\n"
     ]
    },
    {
     "name": "stderr",
     "output_type": "stream",
     "text": [
      " 60%|██████    | 6/10 [00:05<00:03,  1.18it/s]"
     ]
    },
    {
     "name": "stdout",
     "output_type": "stream",
     "text": [
      "        Depth 4: sk(sk_feat=2, 1.8764)  vs  hd(hd_feat=1, 2.2185)  →  DIFF\n",
      "          Depth 5: sk(sk_feat=2, 1.0053)  vs  hd(hd_feat=1, 1.9371)  →  DIFF\n"
     ]
    },
    {
     "name": "stderr",
     "output_type": "stream",
     "text": [
      " 70%|███████   | 7/10 [00:06<00:02,  1.11it/s]"
     ]
    },
    {
     "name": "stdout",
     "output_type": "stream",
     "text": [
      "          Depth 5: sk(sk_feat=2, 0.8641)  vs  hd(hd_feat=1, 1.4974)  →  DIFF\n"
     ]
    },
    {
     "name": "stderr",
     "output_type": "stream",
     "text": [
      " 80%|████████  | 8/10 [00:07<00:01,  1.12it/s]"
     ]
    },
    {
     "name": "stdout",
     "output_type": "stream",
     "text": [
      "            Depth 6: sk(sk_feat=2, 1.7638)  vs  hd(hd_feat=1, 2.3150)  →  DIFF\n",
      "            Depth 6: sk(sk_feat=2, 1.6129)  vs  hd(hd_feat=1, 2.2323)  →  DIFF\n",
      "        Depth 4: sk(sk_feat=2, 1.5362)  vs  hd(hd_feat=1, 2.1460)  →  DIFF\n"
     ]
    },
    {
     "name": "stderr",
     "output_type": "stream",
     "text": [
      "100%|██████████| 10/10 [00:08<00:00,  1.14it/s]\n"
     ]
    },
    {
     "name": "stdout",
     "output_type": "stream",
     "text": [
      "          Depth 5: sk(sk_feat=2, 0.8999)  vs  hd(hd_feat=1, 1.1405)  →  DIFF\n",
      "        Depth 4: sk(sk_feat=2, 0.8507)  vs  hd(hd_feat=1, 1.5696)  →  DIFF\n",
      "            Depth 6: sk(sk_feat=2, 0.8798)  vs  hd(hd_feat=1, 1.3788)  →  DIFF\n",
      "            Depth 6: sk(sk_feat=2, 1.6478)  vs  hd(hd_feat=1, 0.8776)  →  DIFF\n"
     ]
    },
    {
     "name": "stderr",
     "output_type": "stream",
     "text": [
      " 10%|█         | 1/10 [00:00<00:05,  1.69it/s]"
     ]
    },
    {
     "name": "stdout",
     "output_type": "stream",
     "text": [
      "              Depth 7: sk(sk_feat=1, 2.1397)  vs  hd(hd_feat=1, 2.1270)  →  DIFF\n",
      "                Depth 8: sk(sk_feat=2, 1.2605)  vs  hd(hd_feat=1, 2.0760)  →  DIFF\n"
     ]
    },
    {
     "name": "stderr",
     "output_type": "stream",
     "text": [
      " 30%|███       | 3/10 [00:02<00:06,  1.15it/s]"
     ]
    },
    {
     "name": "stdout",
     "output_type": "stream",
     "text": [
      "                Depth 8: sk(sk_feat=2, 1.2685)  vs  hd(hd_feat=1, 1.3100)  →  DIFF\n"
     ]
    },
    {
     "name": "stderr",
     "output_type": "stream",
     "text": [
      " 40%|████      | 4/10 [00:03<00:05,  1.10it/s]"
     ]
    },
    {
     "name": "stdout",
     "output_type": "stream",
     "text": [
      "      Depth 3: sk(sk_feat=2, 2.1967)  vs  hd(hd_feat=1, 1.0574)  →  DIFF\n",
      "                Depth 8: sk(sk_feat=2, 2.1768)  vs  hd(hd_feat=1, 1.2918)  →  DIFF\n",
      "                Depth 8: sk(sk_feat=2, 2.1868)  vs  hd(hd_feat=1, 0.9657)  →  DIFF\n"
     ]
    },
    {
     "name": "stderr",
     "output_type": "stream",
     "text": [
      " 50%|█████     | 5/10 [00:04<00:05,  1.00s/it]"
     ]
    },
    {
     "name": "stdout",
     "output_type": "stream",
     "text": [
      "            Depth 6: sk(sk_feat=2, 1.6905)  vs  hd(hd_feat=1, 1.4526)  →  DIFF\n"
     ]
    },
    {
     "name": "stderr",
     "output_type": "stream",
     "text": [
      " 60%|██████    | 6/10 [00:05<00:03,  1.03it/s]"
     ]
    },
    {
     "name": "stdout",
     "output_type": "stream",
     "text": [
      "                Depth 8: sk(sk_feat=2, 1.7927)  vs  hd(hd_feat=1, 2.2983)  →  DIFF\n",
      "            Depth 6: sk(sk_feat=1, 2.0571)  vs  hd(hd_feat=1, 1.8819)  →  DIFF\n",
      "                Depth 8: sk(sk_feat=2, 1.5737)  vs  hd(hd_feat=2, 1.4871)  →  DIFF\n",
      "          Depth 5: sk(sk_feat=1, 1.2933)  vs  hd(hd_feat=1, 0.8203)  →  DIFF\n"
     ]
    },
    {
     "name": "stderr",
     "output_type": "stream",
     "text": [
      " 70%|███████   | 7/10 [00:06<00:02,  1.06it/s]"
     ]
    },
    {
     "name": "stdout",
     "output_type": "stream",
     "text": [
      "                Depth 8: sk(sk_feat=1, 2.0025)  vs  hd(hd_feat=1, 1.5106)  →  DIFF\n",
      "                Depth 8: sk(sk_feat=1, 1.3979)  vs  hd(hd_feat=1, 1.3761)  →  DIFF\n",
      "                Depth 8: sk(sk_feat=2, 1.3507)  vs  hd(hd_feat=1, 1.1590)  →  DIFF\n"
     ]
    },
    {
     "name": "stderr",
     "output_type": "stream",
     "text": [
      " 80%|████████  | 8/10 [00:07<00:01,  1.08it/s]"
     ]
    },
    {
     "name": "stdout",
     "output_type": "stream",
     "text": [
      "                Depth 8: sk(sk_feat=2, 0.8912)  vs  hd(hd_feat=1, 1.4114)  →  DIFF\n",
      "              Depth 7: sk(sk_feat=1, 1.5817)  vs  hd(hd_feat=1, 1.5417)  →  DIFF\n"
     ]
    },
    {
     "name": "stderr",
     "output_type": "stream",
     "text": [
      " 90%|█████████ | 9/10 [00:08<00:00,  1.05it/s]"
     ]
    },
    {
     "name": "stdout",
     "output_type": "stream",
     "text": [
      "            Depth 6: sk(sk_feat=1, 2.2842)  vs  hd(hd_feat=1, 2.2048)  →  DIFF\n",
      "            Depth 6: sk(sk_feat=2, 0.8033)  vs  hd(hd_feat=1, 1.6307)  →  DIFF\n"
     ]
    },
    {
     "name": "stderr",
     "output_type": "stream",
     "text": [
      "100%|██████████| 10/10 [00:09<00:00,  1.06it/s]\n"
     ]
    },
    {
     "name": "stdout",
     "output_type": "stream",
     "text": [
      "          Depth 5: sk(sk_feat=2, 2.2531)  vs  hd(hd_feat=1, 1.1114)  →  DIFF\n",
      "        Depth 4: sk(sk_feat=2, 1.5424)  vs  hd(hd_feat=1, 1.7088)  →  DIFF\n"
     ]
    },
    {
     "name": "stderr",
     "output_type": "stream",
     "text": [
      " 10%|█         | 1/10 [00:01<00:14,  1.62s/it]"
     ]
    },
    {
     "name": "stdout",
     "output_type": "stream",
     "text": [
      "    Depth 2: sk(sk_feat=1, 1.4783)  vs  hd(hd_feat=1, 1.3263)  →  DIFF\n",
      "        Depth 4: sk(sk_feat=1, 2.2702)  vs  hd(hd_feat=1, 0.9785)  →  DIFF\n",
      "          Depth 5: sk(sk_feat=1, 2.2244)  vs  hd(hd_feat=1, 2.2267)  →  DIFF\n",
      "      Depth 3: sk(sk_feat=2, 1.5797)  vs  hd(hd_feat=1, 2.3278)  →  DIFF\n",
      "    Depth 2: sk(sk_feat=1, 2.0047)  vs  hd(hd_feat=1, 1.4808)  →  DIFF\n"
     ]
    },
    {
     "name": "stderr",
     "output_type": "stream",
     "text": [
      " 20%|██        | 2/10 [00:02<00:09,  1.15s/it]"
     ]
    },
    {
     "name": "stdout",
     "output_type": "stream",
     "text": [
      "              Depth 7: sk(sk_feat=2, 2.3311)  vs  hd(hd_feat=1, 1.6703)  →  DIFF\n",
      "                        Depth 12: sk(sk_feat=2, 2.1046)  vs  hd(hd_feat=1, 1.7933)  →  DIFF\n",
      "                              Depth 15: sk(sk_feat=2, 2.1256)  vs  hd(hd_feat=1, 1.6618)  →  DIFF\n",
      "                  Depth 9: sk(sk_feat=1, 1.7307)  vs  hd(hd_feat=1, 1.7084)  →  DIFF\n",
      "          Depth 5: sk(sk_feat=2, 1.8736)  vs  hd(hd_feat=1, 1.5700)  →  DIFF\n"
     ]
    },
    {
     "name": "stderr",
     "output_type": "stream",
     "text": [
      " 30%|███       | 3/10 [00:03<00:07,  1.05s/it]"
     ]
    },
    {
     "name": "stdout",
     "output_type": "stream",
     "text": [
      "        Depth 4: sk(sk_feat=1, 1.5364)  vs  hd(hd_feat=1, 1.0894)  →  DIFF\n",
      "          Depth 5: sk(sk_feat=2, 1.2752)  vs  hd(hd_feat=1, 0.8920)  →  DIFF\n"
     ]
    },
    {
     "name": "stderr",
     "output_type": "stream",
     "text": [
      " 40%|████      | 4/10 [00:04<00:05,  1.04it/s]"
     ]
    },
    {
     "name": "stdout",
     "output_type": "stream",
     "text": [
      "      Depth 3: sk(sk_feat=2, 1.7800)  vs  hd(hd_feat=2, 1.7759)  →  DIFF\n",
      "            Depth 6: sk(sk_feat=2, 1.5385)  vs  hd(hd_feat=1, 2.2905)  →  DIFF\n",
      "  Depth 1: sk(sk_feat=1, 2.1632)  vs  hd(hd_feat=1, 2.1648)  →  DIFF\n"
     ]
    },
    {
     "name": "stderr",
     "output_type": "stream",
     "text": [
      " 50%|█████     | 5/10 [00:04<00:04,  1.14it/s]"
     ]
    },
    {
     "name": "stdout",
     "output_type": "stream",
     "text": [
      "                        Depth 12: sk(sk_feat=2, 2.1199)  vs  hd(hd_feat=1, 2.0878)  →  DIFF\n",
      "        Depth 4: sk(sk_feat=2, 1.8493)  vs  hd(hd_feat=1, 2.2628)  →  DIFF\n"
     ]
    },
    {
     "name": "stderr",
     "output_type": "stream",
     "text": [
      " 60%|██████    | 6/10 [00:05<00:03,  1.23it/s]"
     ]
    },
    {
     "name": "stdout",
     "output_type": "stream",
     "text": [
      "          Depth 5: sk(sk_feat=2, 1.7754)  vs  hd(hd_feat=1, 2.1037)  →  DIFF\n"
     ]
    },
    {
     "name": "stderr",
     "output_type": "stream",
     "text": [
      " 70%|███████   | 7/10 [00:06<00:02,  1.07it/s]"
     ]
    },
    {
     "name": "stdout",
     "output_type": "stream",
     "text": [
      "      Depth 3: sk(sk_feat=2, 2.2350)  vs  hd(hd_feat=1, 1.4853)  →  DIFF\n",
      "              Depth 7: sk(sk_feat=2, 1.3881)  vs  hd(hd_feat=1, 1.5455)  →  DIFF\n",
      "          Depth 5: sk(sk_feat=2, 2.2124)  vs  hd(hd_feat=1, 1.2697)  →  DIFF\n",
      "          Depth 5: sk(sk_feat=2, 2.1696)  vs  hd(hd_feat=1, 0.9608)  →  DIFF\n",
      "              Depth 7: sk(sk_feat=1, 0.9799)  vs  hd(hd_feat=1, 0.9222)  →  DIFF\n",
      "                Depth 8: sk(sk_feat=1, 0.9695)  vs  hd(hd_feat=1, 0.9649)  →  DIFF\n",
      "                      Depth 11: sk(sk_feat=2, 1.9340)  vs  hd(hd_feat=1, 0.8939)  →  DIFF\n",
      "                      Depth 11: sk(sk_feat=2, 1.9031)  vs  hd(hd_feat=1, 1.0059)  →  DIFF\n",
      "          Depth 5: sk(sk_feat=2, 1.2169)  vs  hd(hd_feat=1, 1.3988)  →  DIFF\n",
      "                  Depth 9: sk(sk_feat=2, 1.2340)  vs  hd(hd_feat=1, 1.0939)  →  DIFF\n"
     ]
    },
    {
     "name": "stderr",
     "output_type": "stream",
     "text": [
      " 80%|████████  | 8/10 [00:08<00:02,  1.03s/it]"
     ]
    },
    {
     "name": "stdout",
     "output_type": "stream",
     "text": [
      "      Depth 3: sk(sk_feat=2, 1.7863)  vs  hd(hd_feat=1, 2.3432)  →  DIFF\n",
      "                Depth 8: sk(sk_feat=1, 2.3338)  vs  hd(hd_feat=1, 2.3259)  →  DIFF\n",
      "              Depth 7: sk(sk_feat=2, 1.7645)  vs  hd(hd_feat=1, 2.3393)  →  DIFF\n",
      "            Depth 6: sk(sk_feat=1, 2.3171)  vs  hd(hd_feat=1, 2.3043)  →  DIFF\n",
      "                  Depth 9: sk(sk_feat=2, 1.5086)  vs  hd(hd_feat=1, 2.0854)  →  DIFF\n",
      "                    Depth 10: sk(sk_feat=1, 1.9896)  vs  hd(hd_feat=1, 1.9747)  →  DIFF\n",
      "              Depth 7: sk(sk_feat=2, 1.0354)  vs  hd(hd_feat=2, 1.0037)  →  DIFF\n",
      "          Depth 5: sk(sk_feat=2, 0.8516)  vs  hd(hd_feat=1, 1.1433)  →  DIFF\n"
     ]
    },
    {
     "name": "stderr",
     "output_type": "stream",
     "text": [
      " 90%|█████████ | 9/10 [00:09<00:01,  1.02s/it]"
     ]
    },
    {
     "name": "stdout",
     "output_type": "stream",
     "text": [
      "                Depth 8: sk(sk_feat=1, 1.8484)  vs  hd(hd_feat=1, 1.8190)  →  DIFF\n",
      "              Depth 7: sk(sk_feat=2, 2.2842)  vs  hd(hd_feat=1, 1.1912)  →  DIFF\n",
      "                Depth 8: sk(sk_feat=2, 2.2567)  vs  hd(hd_feat=1, 1.1919)  →  DIFF\n",
      "            Depth 6: sk(sk_feat=2, 2.1265)  vs  hd(hd_feat=1, 1.3329)  →  DIFF\n",
      "                Depth 8: sk(sk_feat=2, 1.0865)  vs  hd(hd_feat=1, 2.1376)  →  DIFF\n"
     ]
    },
    {
     "name": "stderr",
     "output_type": "stream",
     "text": [
      "100%|██████████| 10/10 [00:09<00:00,  1.03it/s]"
     ]
    },
    {
     "name": "stdout",
     "output_type": "stream",
     "text": [
      "                  Depth 9: sk(sk_feat=2, 2.2110)  vs  hd(hd_feat=2, 2.2106)  →  DIFF\n",
      "              Depth 7: sk(sk_feat=1, 1.8750)  vs  hd(hd_feat=1, 1.7980)  →  DIFF\n"
     ]
    },
    {
     "name": "stderr",
     "output_type": "stream",
     "text": [
      "\n"
     ]
    }
   ],
   "source": [
    "# Try across depths\n",
    "\n",
    "# Testing copilot completions - multiline version\n",
    "import numpy as np\n",
    "import matplotlib.pyplot as plt\n",
    "\n",
    "from hyperdt.legacy.tree import HyperbolicDecisionTreeClassifier as HDT\n",
    "from hyperdt.tree import HyperbolicDecisionTreeClassifier as FastHDT\n",
    "from hyperdt.toy_data import wrapped_normal_mixture\n",
    "from sklearn.model_selection import train_test_split\n",
    "from sklearn.metrics import accuracy_score\n",
    "from tqdm import trange\n",
    "\n",
    "TOTAL_TRIALS = 10\n",
    "N_POINTS = 1_000\n",
    "SKLEARN_SEED = 2 \n",
    "\n",
    "np.random.seed(SKLEARN_SEED)\n",
    "assert (np.random.permutation([0, 1]) == [1, 0]).all() # This is what it takes\n",
    "\n",
    "# agreement_split = 1.0\n",
    "# while agreement_split == 1.0:\n",
    "\n",
    "match_rates = []\n",
    "\n",
    "seed = -1\n",
    "for max_depth in [1, 3, 5, 7, 9, None]:\n",
    "    # n_match, n_ig_match, n_mismatch = 0, 0, 0\n",
    "    match_rates_depth = []\n",
    "    for i in trange(TOTAL_TRIALS):\n",
    "        seed += 1\n",
    "        try:\n",
    "            X, y = wrapped_normal_mixture(num_points=N_POINTS, seed=seed)\n",
    "            X_train, X_test, y_train, y_test = train_test_split(X, y, test_size=0.2)\n",
    "\n",
    "            dt_args = {\"max_depth\": max_depth, \"min_samples_leaf\": 1, \"min_samples_split\": 2}\n",
    "\n",
    "            hdt = HDT(**dt_args)\n",
    "            hdt.fit(X_train, y_train)    \n",
    "\n",
    "            fhdt = FastHDT(**dt_args, random_state=SKLEARN_SEED) # Prevent permuting features randomly\n",
    "            fhdt.fit(X_train, y_train)\n",
    "\n",
    "            agreement_train, accuracy_hdt_train, accuracy_fhdt_train = compare_predictions(hdt, fhdt, X_train, y_train)\n",
    "            agreement_test, accuracy_hdt_test, accuracy_fhdt_test = compare_predictions(hdt, fhdt, X_test, y_test)\n",
    "            agreement_split, agreement_ig = compare_trees(fhdt, hdt, verbose=1)\n",
    "            match_rates_depth.append((agreement_split, agreement_ig, agreement_train, agreement_test))\n",
    "            \n",
    "        except Exception as e:\n",
    "            print(f\"Error on trial {i}: {e}\")\n",
    "    match_rates.append(match_rates_depth)\n",
    "    \n",
    "    # match_rates.append((n_match, n_ig_match, agreement_train, agreement_test))\n"
   ]
  },
  {
   "cell_type": "code",
   "execution_count": 112,
   "id": "27875305",
   "metadata": {},
   "outputs": [
    {
     "data": {
      "image/png": "[encoded data removed]",
      "text/plain": [
       "<Figure size 1200x300 with 3 Axes>"
      ]
     },
     "metadata": {},
     "output_type": "display_data"
    }
   ],
   "source": [
    "fig, (ax0, ax1, ax2) = plt.subplots(1, 3, figsize=(12, 3), sharey=True)\n",
    "\n",
    "# Process\n",
    "depths = [1, 3, 5, 7, 9, None]\n",
    "matches = [np.mean([trial[0] for trial in match_rates[i]]) for i in range(len(depths))]\n",
    "ig_only_matches = [np.mean([trial[1] - trial[0] for trial in match_rates[i]]) for i in range(len(depths))]\n",
    "train_agreements = [np.mean([trial[2] for trial in match_rates[i]]) for i in range(len(depths))]\n",
    "test_agreements = [np.mean([trial[3] for trial in match_rates[i]]) for i in range(len(depths))]\n",
    "\n",
    "# Create the stacked bar plot\n",
    "depths_labels = ['1', '3', '5', '7', '9', 'None']\n",
    "bottom_bars = ax2.bar(depths_labels, matches, label='Split Match')\n",
    "top_bars = ax2.bar(depths_labels, ig_only_matches, bottom=matches, label='IG Match')\n",
    "\n",
    "# Customize the plot for node values\n",
    "ax2.set_xlabel('Max Depth')\n",
    "ax2.set_title('Node Values')\n",
    "ax2.legend(loc=\"center right\", bbox_to_anchor=(1.4, 0.5), shadow=False, frameon=False)\n",
    "\n",
    "# Add total numbers on top of bars\n",
    "for i in range(len(depths)):\n",
    "    total = matches[i] + ig_only_matches[i]\n",
    "    ax2.text(i, total, f'{total * 100:.1f}%', ha='center', va='bottom', fontsize=8)\n",
    "\n",
    "# Create bar plots for train and test predictions\n",
    "for vals, ax, title in zip([train_agreements, test_agreements],\n",
    "                             [ax0, ax1],\n",
    "                             [\"Train Predictions\", \"Test Predictions\"]):\n",
    "    ax.bar(depths_labels, vals, label=title)\n",
    "    for i in range(len(depths)):\n",
    "        ax.text(i, vals[i], f'{vals[i] * 100:.1f}%', ha='center', va='bottom', fontsize=8)\n",
    "    ax.set_xlabel('Max Depth')\n",
    "    ax.set_title(title)\n",
    "\n",
    "# Remove top and right spines\n",
    "for ax in [ax0, ax1, ax2]:\n",
    "    ax.spines['top'].set_visible(False)\n",
    "    ax.spines['right'].set_visible(False)\n",
    "\n",
    "# Set y-axis as percentages for the train predictions plot\n",
    "ax0.set_ylabel(\"Match Rate\")\n",
    "ax0.set_yticks(np.linspace(0, 1, 11))\n",
    "ax0.set_yticklabels([f'{i}%' for i in range(0, 101, 10)])\n",
    "ax0.set_ylim(0.85, 1.01)\n",
    "\n",
    "plt.tight_layout()\n",
    "plt.savefig(\"images/matches.pdf\", bbox_inches='tight', dpi=300)"
   ]
  },
  {
   "cell_type": "code",
   "execution_count": null,
   "id": "f8a41546",
   "metadata": {},
   "outputs": [],
   "source": []
  }
 ],
 "metadata": {
  "kernelspec": {
   "display_name": "base",
   "language": "python",
   "name": "python3"
  },
  "language_info": {
   "codemirror_mode": {
    "name": "ipython",
    "version": 3
   },
   "file_extension": ".py",
   "mimetype": "text/x-python",
   "name": "python",
   "nbconvert_exporter": "python",
   "pygments_lexer": "ipython3",
   "version": "3.12.2"
  }
 },
 "nbformat": 4,
 "nbformat_minor": 5
}
