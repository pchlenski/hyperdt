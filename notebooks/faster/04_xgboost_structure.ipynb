{
 "cells": [
  {
   "cell_type": "code",
   "execution_count": 1,
   "metadata": {},
   "outputs": [],
   "source": [
    "%load_ext autoreload\n",
    "%autoreload 2"
   ]
  },
  {
   "cell_type": "markdown",
   "metadata": {},
   "source": [
    "## Auditing XGBoost model"
   ]
  },
  {
   "cell_type": "code",
   "execution_count": 8,
   "metadata": {},
   "outputs": [],
   "source": [
    "from pprint import pprint\n",
    "import numpy as np"
   ]
  },
  {
   "cell_type": "code",
   "execution_count": 2,
   "metadata": {},
   "outputs": [],
   "source": [
    "from hyperdt.toy_data import wrapped_normal_mixture\n",
    "\n",
    "X, y = wrapped_normal_mixture(num_points=1_000, num_classes=4, num_dims=2)"
   ]
  },
  {
   "cell_type": "code",
   "execution_count": 3,
   "metadata": {},
   "outputs": [],
   "source": [
    "from sklearn.model_selection import train_test_split\n",
    "\n",
    "X_train, X_test, y_train, y_test = train_test_split(X, y, test_size=0.2)"
   ]
  },
  {
   "cell_type": "code",
   "execution_count": 4,
   "metadata": {},
   "outputs": [
    {
     "name": "stdout",
     "output_type": "stream",
     "text": [
      "0.99\n",
      "0.995\n"
     ]
    }
   ],
   "source": [
    "from xgboost import XGBClassifier\n",
    "from hyperdt import HyperbolicRandomForestClassifier\n",
    "from sklearn.metrics import accuracy_score\n",
    "\n",
    "# We use 50 trees for XGBoost and 100 for RF because 50 trees * 2 classes = 100 total trees, i.e. it's the same\n",
    "clf = XGBClassifier(n_estimators=25, max_depth=3, learning_rate=0.1, validate_parameters=True)\n",
    "clf.fit(X_train, y_train)\n",
    "print(accuracy_score(y_test, clf.predict(X_test)))\n",
    "\n",
    "\n",
    "rf = HyperbolicRandomForestClassifier(n_estimators=100, max_depth=3)\n",
    "rf.fit(X_train, y_train)\n",
    "print(accuracy_score(y_test, rf.predict(X_test)))"
   ]
  },
  {
   "cell_type": "code",
   "execution_count": 5,
   "metadata": {},
   "outputs": [
    {
     "data": {
      "text/plain": [
       "['0:[f2<-0.632465422] yes=1,no=2,missing=2\\n\\t1:[f1<0.672248602] yes=3,no=4,missing=4\\n\\t\\t3:[f1<-0.0802244172] yes=7,no=8,missing=8\\n\\t\\t\\t7:leaf=0.184147462\\n\\t\\t\\t8:leaf=0.140609428\\n\\t\\t4:[f1<3.04906774] yes=9,no=10,missing=10\\n\\t\\t\\t9:leaf=0.0736994222\\n\\t\\t\\t10:leaf=-0.0232121926\\n\\t2:[f0<1.21838093] yes=5,no=6,missing=6\\n\\t\\t5:[f2<-0.0294386204] yes=11,no=12,missing=12\\n\\t\\t\\t11:leaf=0.0747331008\\n\\t\\t\\t12:leaf=-0.047826089\\n\\t\\t6:[f2<-0.436357737] yes=13,no=14,missing=14\\n\\t\\t\\t13:leaf=-0.0149779739\\n\\t\\t\\t14:leaf=-0.0655422136\\n',\n",
       " '0:[f2<-0.750716686] yes=1,no=2,missing=2\\n\\t1:[f1<11.7420912] yes=3,no=4,missing=4\\n\\t\\t3:[f1<2.76864147] yes=7,no=8,missing=8\\n\\t\\t\\t7:leaf=-0.0630697682\\n\\t\\t\\t8:leaf=-0.00403889315\\n\\t\\t4:[f2<-10.0307398] yes=9,no=10,missing=10\\n\\t\\t\\t9:leaf=0.0245161299\\n\\t\\t\\t10:leaf=0.190857157\\n\\t2:[f1<0.234930784] yes=5,no=6,missing=6\\n\\t\\t5:[f1<-0.159134358] yes=11,no=12,missing=12\\n\\t\\t\\t11:leaf=-0.0556823872\\n\\t\\t\\t12:leaf=0.0319597982\\n\\t\\t6:[f1<0.672248602] yes=13,no=14,missing=14\\n\\t\\t\\t13:leaf=0.0975859538\\n\\t\\t\\t14:leaf=0.167982697\\n',\n",
       " '0:[f2<-0.436357737] yes=1,no=2,missing=2\\n\\t1:[f1<0.5440166] yes=3,no=4,missing=4\\n\\t\\t3:[f1<-0.159134358] yes=7,no=8,missing=8\\n\\t\\t\\t7:leaf=-0.0523283742\\n\\t\\t\\t8:leaf=-0.0141732292\\n\\t\\t4:[f1<11.7420912] yes=9,no=10,missing=10\\n\\t\\t\\t9:leaf=0.0452482589\\n\\t\\t\\t10:leaf=-0.0229249019\\n\\t2:[f2<-0.259267956] yes=5,no=6,missing=6\\n\\t\\t5:[f0<1.87131393] yes=11,no=12,missing=12\\n\\t\\t\\t11:leaf=-0.0236024838\\n\\t\\t\\t12:leaf=-0.0630136952\\n\\t\\t6:leaf=-0.06637609\\n',\n",
       " '0:[f2<0.443885833] yes=1,no=2,missing=2\\n\\t1:[f0<1.13413525] yes=3,no=4,missing=4\\n\\t\\t3:[f2<0.241670951] yes=7,no=8,missing=8\\n\\t\\t\\t7:leaf=-0.0427586213\\n\\t\\t\\t8:leaf=0.0361445807\\n\\t\\t4:[f0<1.6258353] yes=9,no=10,missing=10\\n\\t\\t\\t9:leaf=-0.0589720495\\n\\t\\t\\t10:leaf=-0.0666186437\\n\\t2:[f1<0.234930784] yes=5,no=6,missing=6\\n\\t\\t5:[f0<1.90857232] yes=11,no=12,missing=12\\n\\t\\t\\t11:leaf=0.0782931373\\n\\t\\t\\t12:leaf=0.183689326\\n\\t\\t6:[f1<0.672248602] yes=13,no=14,missing=14\\n\\t\\t\\t13:leaf=0.0381039195\\n\\t\\t\\t14:leaf=-0.0322580636\\n',\n",
       " '0:[f2<-0.556766093] yes=1,no=2,missing=2\\n\\t1:[f1<1.09841287] yes=3,no=4,missing=4\\n\\t\\t3:[f1<0.252359748] yes=7,no=8,missing=8\\n\\t\\t\\t7:leaf=0.149467081\\n\\t\\t\\t8:leaf=0.0997160897\\n\\t\\t4:[f2<-3.9096415] yes=9,no=10,missing=10\\n\\t\\t\\t9:leaf=0.0612777881\\n\\t\\t\\t10:leaf=-0.0181652438\\n\\t2:[f0<1.16631067] yes=5,no=6,missing=6\\n\\t\\t5:[f2<-0.0294386204] yes=11,no=12,missing=12\\n\\t\\t\\t11:leaf=0.0658447668\\n\\t\\t\\t12:leaf=-0.0421836115\\n\\t\\t6:[f2<0.0671385303] yes=13,no=14,missing=14\\n\\t\\t\\t13:leaf=-0.0391833633\\n\\t\\t\\t14:leaf=-0.0646595582\\n',\n",
       " '0:[f2<-0.805716455] yes=1,no=2,missing=2\\n\\t1:[f1<11.7420912] yes=3,no=4,missing=4\\n\\t\\t3:[f1<2.76864147] yes=7,no=8,missing=8\\n\\t\\t\\t7:leaf=-0.0617482662\\n\\t\\t\\t8:leaf=-0.00709766662\\n\\t\\t4:[f2<-8.9564867] yes=9,no=10,missing=10\\n\\t\\t\\t9:leaf=0.028533427\\n\\t\\t\\t10:leaf=0.165635452\\n\\t2:[f1<0.196823969] yes=5,no=6,missing=6\\n\\t\\t5:[f1<-0.159134358] yes=11,no=12,missing=12\\n\\t\\t\\t11:leaf=-0.0541986823\\n\\t\\t\\t12:leaf=0.0254206061\\n\\t\\t6:[f1<1.34180272] yes=13,no=14,missing=14\\n\\t\\t\\t13:leaf=0.105267085\\n\\t\\t\\t14:leaf=0.148408413\\n',\n",
       " '0:[f2<-0.436357737] yes=1,no=2,missing=2\\n\\t1:[f1<0.5440166] yes=3,no=4,missing=4\\n\\t\\t3:[f1<-0.159134358] yes=7,no=8,missing=8\\n\\t\\t\\t7:leaf=-0.0505146496\\n\\t\\t\\t8:leaf=-0.0130484644\\n\\t\\t4:[f2<-1.01785076] yes=9,no=10,missing=10\\n\\t\\t\\t9:leaf=0.0416316949\\n\\t\\t\\t10:leaf=-0.0223309174\\n\\t2:[f2<-0.259267956] yes=5,no=6,missing=6\\n\\t\\t5:[f0<1.87131393] yes=11,no=12,missing=12\\n\\t\\t\\t11:leaf=-0.0221611653\\n\\t\\t\\t12:leaf=-0.0616718493\\n\\t\\t6:leaf=-0.0648819357\\n',\n",
       " '0:[f2<0.443885833] yes=1,no=2,missing=2\\n\\t1:[f0<1.13413525] yes=3,no=4,missing=4\\n\\t\\t3:[f2<0.277508199] yes=7,no=8,missing=8\\n\\t\\t\\t7:leaf=-0.0398222096\\n\\t\\t\\t8:leaf=0.0386780426\\n\\t\\t4:[f0<1.6258353] yes=9,no=10,missing=10\\n\\t\\t\\t9:leaf=-0.0573189743\\n\\t\\t\\t10:leaf=-0.0651552156\\n\\t2:[f1<0.0438910052] yes=5,no=6,missing=6\\n\\t\\t5:[f0<1.9800812] yes=11,no=12,missing=12\\n\\t\\t\\t11:leaf=0.0976359397\\n\\t\\t\\t12:leaf=0.160329446\\n\\t\\t6:[f1<0.672248602] yes=13,no=14,missing=14\\n\\t\\t\\t13:leaf=0.0423277244\\n\\t\\t\\t14:leaf=-0.0305421986\\n',\n",
       " '0:[f2<-0.556766093] yes=1,no=2,missing=2\\n\\t1:[f1<1.927899] yes=3,no=4,missing=4\\n\\t\\t3:[f1<0.658023536] yes=7,no=8,missing=8\\n\\t\\t\\t7:leaf=0.125038639\\n\\t\\t\\t8:leaf=0.0684035271\\n\\t\\t4:[f2<-4.605546] yes=9,no=10,missing=10\\n\\t\\t\\t9:leaf=0.0418966562\\n\\t\\t\\t10:leaf=-0.0398552231\\n\\t2:[f0<1.16631067] yes=5,no=6,missing=6\\n\\t\\t5:[f2<-0.0294386204] yes=11,no=12,missing=12\\n\\t\\t\\t11:leaf=0.0598915517\\n\\t\\t\\t12:leaf=-0.0410347134\\n\\t\\t6:[f2<-0.137089863] yes=13,no=14,missing=14\\n\\t\\t\\t13:leaf=-0.0311994161\\n\\t\\t\\t14:leaf=-0.0629705414\\n',\n",
       " '0:[f2<-0.805716455] yes=1,no=2,missing=2\\n\\t1:[f1<11.7420912] yes=3,no=4,missing=4\\n\\t\\t3:[f1<2.76864147] yes=7,no=8,missing=8\\n\\t\\t\\t7:leaf=-0.0603474379\\n\\t\\t\\t8:leaf=-0.0065830755\\n\\t\\t4:[f2<-10.0307398] yes=9,no=10,missing=10\\n\\t\\t\\t9:leaf=0.020170806\\n\\t\\t\\t10:leaf=0.144695759\\n\\t2:[f1<0.0438910052] yes=5,no=6,missing=6\\n\\t\\t5:[f1<-0.419729859] yes=11,no=12,missing=12\\n\\t\\t\\t11:leaf=-0.061760392\\n\\t\\t\\t12:leaf=-0.00610685442\\n\\t\\t6:[f1<0.658023536] yes=13,no=14,missing=14\\n\\t\\t\\t13:leaf=0.0642329082\\n\\t\\t\\t14:leaf=0.122050002\\n',\n",
       " '0:[f2<-0.436357737] yes=1,no=2,missing=2\\n\\t1:[f1<0.266789138] yes=3,no=4,missing=4\\n\\t\\t3:[f1<-0.563808918] yes=7,no=8,missing=8\\n\\t\\t\\t7:leaf=-0.0540773161\\n\\t\\t\\t8:leaf=-0.0239256304\\n\\t\\t4:[f1<11.7420912] yes=9,no=10,missing=10\\n\\t\\t\\t9:leaf=0.0328058489\\n\\t\\t\\t10:leaf=-0.0212251898\\n\\t2:[f2<-0.259267956] yes=5,no=6,missing=6\\n\\t\\t5:[f0<1.87131393] yes=11,no=12,missing=12\\n\\t\\t\\t11:leaf=-0.0208168589\\n\\t\\t\\t12:leaf=-0.0602524057\\n\\t\\t6:leaf=-0.0635362789\\n',\n",
       " '0:[f2<0.443885833] yes=1,no=2,missing=2\\n\\t1:[f0<1.13413525] yes=3,no=4,missing=4\\n\\t\\t3:[f2<0.241670951] yes=7,no=8,missing=8\\n\\t\\t\\t7:leaf=-0.0400996879\\n\\t\\t\\t8:leaf=0.0303499755\\n\\t\\t4:[f0<1.6258353] yes=9,no=10,missing=10\\n\\t\\t\\t9:leaf=-0.0558338277\\n\\t\\t\\t10:leaf=-0.0638387427\\n\\t2:[f1<0.371119618] yes=5,no=6,missing=6\\n\\t\\t5:[f0<1.84007061] yes=11,no=12,missing=12\\n\\t\\t\\t11:leaf=0.0420010276\\n\\t\\t\\t12:leaf=0.129276663\\n\\t\\t6:[f1<1.36344683] yes=13,no=14,missing=14\\n\\t\\t\\t13:leaf=0.0019090079\\n\\t\\t\\t14:leaf=-0.0359832346\\n',\n",
       " '0:[f2<-0.556766093] yes=1,no=2,missing=2\\n\\t1:[f1<2.25039864] yes=3,no=4,missing=4\\n\\t\\t3:[f1<0.658023536] yes=7,no=8,missing=8\\n\\t\\t\\t7:leaf=0.110416435\\n\\t\\t\\t8:leaf=0.0596171096\\n\\t\\t4:[f2<-5.25460768] yes=9,no=10,missing=10\\n\\t\\t\\t9:leaf=0.0377088599\\n\\t\\t\\t10:leaf=-0.0434356555\\n\\t2:[f0<1.16631067] yes=5,no=6,missing=6\\n\\t\\t5:[f2<-0.0294386204] yes=11,no=12,missing=12\\n\\t\\t\\t11:leaf=0.0548161045\\n\\t\\t\\t12:leaf=-0.0400295109\\n\\t\\t6:[f2<0.0671385303] yes=13,no=14,missing=14\\n\\t\\t\\t13:leaf=-0.0358083881\\n\\t\\t\\t14:leaf=-0.062060684\\n',\n",
       " '0:[f2<-0.805716455] yes=1,no=2,missing=2\\n\\t1:[f1<10.3614864] yes=3,no=4,missing=4\\n\\t\\t3:[f1<2.76864147] yes=7,no=8,missing=8\\n\\t\\t\\t7:leaf=-0.0590106621\\n\\t\\t\\t8:leaf=-0.00846434664\\n\\t\\t4:[f2<-8.70008087] yes=9,no=10,missing=10\\n\\t\\t\\t9:leaf=0.0124113653\\n\\t\\t\\t10:leaf=0.130420014\\n\\t2:[f1<0.0438910052] yes=5,no=6,missing=6\\n\\t\\t5:[f1<-0.419729859] yes=11,no=12,missing=12\\n\\t\\t\\t11:leaf=-0.0605148263\\n\\t\\t\\t12:leaf=-0.00545882341\\n\\t\\t6:[f1<0.577101409] yes=13,no=14,missing=14\\n\\t\\t\\t13:leaf=0.053230565\\n\\t\\t\\t14:leaf=0.106947951\\n',\n",
       " '0:[f2<-0.436357737] yes=1,no=2,missing=2\\n\\t1:[f1<0.5440166] yes=3,no=4,missing=4\\n\\t\\t3:[f1<-0.563808918] yes=7,no=8,missing=8\\n\\t\\t\\t7:leaf=-0.0525314584\\n\\t\\t\\t8:leaf=-0.0181310531\\n\\t\\t4:[f2<-1.11932766] yes=9,no=10,missing=10\\n\\t\\t\\t9:leaf=0.0361420549\\n\\t\\t\\t10:leaf=-0.0163897295\\n\\t2:[f2<-0.259267956] yes=5,no=6,missing=6\\n\\t\\t5:[f0<1.87131393] yes=11,no=12,missing=12\\n\\t\\t\\t11:leaf=-0.019304255\\n\\t\\t\\t12:leaf=-0.0589575134\\n\\t\\t6:leaf=-0.0623188615\\n',\n",
       " '0:[f2<0.443885833] yes=1,no=2,missing=2\\n\\t1:[f0<1.13413525] yes=3,no=4,missing=4\\n\\t\\t3:[f2<0.241670951] yes=7,no=8,missing=8\\n\\t\\t\\t7:leaf=-0.0387897007\\n\\t\\t\\t8:leaf=0.0277684089\\n\\t\\t4:[f0<1.6258353] yes=9,no=10,missing=10\\n\\t\\t\\t9:leaf=-0.0543177538\\n\\t\\t\\t10:leaf=-0.0626636967\\n\\t2:[f1<0.371119618] yes=5,no=6,missing=6\\n\\t\\t5:[f1<-0.159134358] yes=11,no=12,missing=12\\n\\t\\t\\t11:leaf=0.121675543\\n\\t\\t\\t12:leaf=0.0570830181\\n\\t\\t6:[f1<1.36344683] yes=13,no=14,missing=14\\n\\t\\t\\t13:leaf=0.0024321496\\n\\t\\t\\t14:leaf=-0.0341925584\\n',\n",
       " '0:[f2<-0.312499106] yes=1,no=2,missing=2\\n\\t1:[f1<1.71261501] yes=3,no=4,missing=4\\n\\t\\t3:[f1<-0.0802244172] yes=7,no=8,missing=8\\n\\t\\t\\t7:leaf=0.105682433\\n\\t\\t\\t8:leaf=0.0683392808\\n\\t\\t4:[f2<-3.9096415] yes=9,no=10,missing=10\\n\\t\\t\\t9:leaf=0.0363828205\\n\\t\\t\\t10:leaf=-0.0395546816\\n\\t2:[f0<1.16631067] yes=5,no=6,missing=6\\n\\t\\t5:[f2<-0.0294386204] yes=11,no=12,missing=12\\n\\t\\t\\t11:leaf=0.0353183411\\n\\t\\t\\t12:leaf=-0.039002046\\n\\t\\t6:[f2<0.0671385303] yes=13,no=14,missing=14\\n\\t\\t\\t13:leaf=-0.0432909504\\n\\t\\t\\t14:leaf=-0.0609314702\\n',\n",
       " '0:[f2<-0.805716455] yes=1,no=2,missing=2\\n\\t1:[f1<11.7420912] yes=3,no=4,missing=4\\n\\t\\t3:[f1<2.76864147] yes=7,no=8,missing=8\\n\\t\\t\\t7:leaf=-0.0577637665\\n\\t\\t\\t8:leaf=-0.00671945093\\n\\t\\t4:[f2<-10.0307398] yes=9,no=10,missing=10\\n\\t\\t\\t9:leaf=0.0182925891\\n\\t\\t\\t10:leaf=0.118710458\\n\\t2:[f1<0.0232214276] yes=5,no=6,missing=6\\n\\t\\t5:[f1<-0.419729859] yes=11,no=12,missing=12\\n\\t\\t\\t11:leaf=-0.0592758358\\n\\t\\t\\t12:leaf=-0.00714131771\\n\\t\\t6:[f1<0.672248602] yes=13,no=14,missing=14\\n\\t\\t\\t13:leaf=0.0522083528\\n\\t\\t\\t14:leaf=0.0966413096\\n',\n",
       " '0:[f2<-0.436357737] yes=1,no=2,missing=2\\n\\t1:[f1<-0.0802244172] yes=3,no=4,missing=4\\n\\t\\t3:[f1<-0.940448999] yes=7,no=8,missing=8\\n\\t\\t\\t7:leaf=-0.0547690764\\n\\t\\t\\t8:leaf=-0.0324624144\\n\\t\\t4:[f1<0.658023536] yes=9,no=10,missing=10\\n\\t\\t\\t9:leaf=-0.00504145166\\n\\t\\t\\t10:leaf=0.0289612897\\n\\t2:[f2<-0.259267956] yes=5,no=6,missing=6\\n\\t\\t5:[f0<1.87131393] yes=11,no=12,missing=12\\n\\t\\t\\t11:leaf=-0.017886715\\n\\t\\t\\t12:leaf=-0.0577860884\\n\\t\\t6:leaf=-0.0612111874\\n',\n",
       " '0:[f2<0.443885833] yes=1,no=2,missing=2\\n\\t1:[f0<1.13413525] yes=3,no=4,missing=4\\n\\t\\t3:[f2<0.357219309] yes=7,no=8,missing=8\\n\\t\\t\\t7:leaf=-0.03059192\\n\\t\\t\\t8:leaf=0.0622040443\\n\\t\\t4:[f0<1.6258353] yes=9,no=10,missing=10\\n\\t\\t\\t9:leaf=-0.0529217236\\n\\t\\t\\t10:leaf=-0.0616000891\\n\\t2:[f1<0.577101409] yes=5,no=6,missing=6\\n\\t\\t5:[f1<-0.0802244172] yes=11,no=12,missing=12\\n\\t\\t\\t11:leaf=0.107018963\\n\\t\\t\\t12:leaf=0.0426081307\\n\\t\\t6:[f0<10.153264] yes=13,no=14,missing=14\\n\\t\\t\\t13:leaf=-0.0148710227\\n\\t\\t\\t14:leaf=-0.0496502705\\n',\n",
       " '0:[f2<-0.312499106] yes=1,no=2,missing=2\\n\\t1:[f1<2.63914466] yes=3,no=4,missing=4\\n\\t\\t3:[f2<-2.49312568] yes=7,no=8,missing=8\\n\\t\\t\\t7:leaf=0.0935583189\\n\\t\\t\\t8:leaf=0.0511095002\\n\\t\\t4:[f2<-6.11982012] yes=9,no=10,missing=10\\n\\t\\t\\t9:leaf=0.0298613887\\n\\t\\t\\t10:leaf=-0.0445491932\\n\\t2:[f0<1.16631067] yes=5,no=6,missing=6\\n\\t\\t5:[f2<-0.0294386204] yes=11,no=12,missing=12\\n\\t\\t\\t11:leaf=0.0326284505\\n\\t\\t\\t12:leaf=-0.0379838161\\n\\t\\t6:[f2<0.0671385303] yes=13,no=14,missing=14\\n\\t\\t\\t13:leaf=-0.0417954177\\n\\t\\t\\t14:leaf=-0.0599032603\\n',\n",
       " '0:[f2<-0.805716455] yes=1,no=2,missing=2\\n\\t1:[f1<4.7850976] yes=3,no=4,missing=4\\n\\t\\t3:[f2<-1.5421356] yes=7,no=8,missing=8\\n\\t\\t\\t7:leaf=-0.0587247387\\n\\t\\t\\t8:leaf=-0.0166363325\\n\\t\\t4:[f2<-4.19937801] yes=9,no=10,missing=10\\n\\t\\t\\t9:leaf=-0.00604009116\\n\\t\\t\\t10:leaf=0.127168372\\n\\t2:[f1<0.0232214276] yes=5,no=6,missing=6\\n\\t\\t5:[f1<-0.419729859] yes=11,no=12,missing=12\\n\\t\\t\\t11:leaf=-0.0581137128\\n\\t\\t\\t12:leaf=-0.0061293873\\n\\t\\t6:[f1<1.34180272] yes=13,no=14,missing=14\\n\\t\\t\\t13:leaf=0.0615553819\\n\\t\\t\\t14:leaf=0.0926483795\\n',\n",
       " '0:[f2<-0.436357737] yes=1,no=2,missing=2\\n\\t1:[f1<-0.0802244172] yes=3,no=4,missing=4\\n\\t\\t3:[f1<-0.940448999] yes=7,no=8,missing=8\\n\\t\\t\\t7:leaf=-0.0533551238\\n\\t\\t\\t8:leaf=-0.0304745827\\n\\t\\t4:[f1<0.658023536] yes=9,no=10,missing=10\\n\\t\\t\\t9:leaf=-0.00433532847\\n\\t\\t\\t10:leaf=0.0268262625\\n\\t2:[f2<-0.259267956] yes=5,no=6,missing=6\\n\\t\\t5:[f0<1.87131393] yes=11,no=12,missing=12\\n\\t\\t\\t11:leaf=-0.0159387644\\n\\t\\t\\t12:leaf=-0.0566681586\\n\\t\\t6:leaf=-0.0602068081\\n',\n",
       " '0:[f2<0.443885833] yes=1,no=2,missing=2\\n\\t1:[f0<1.13413525] yes=3,no=4,missing=4\\n\\t\\t3:[f2<0.277508199] yes=7,no=8,missing=8\\n\\t\\t\\t7:leaf=-0.0350358747\\n\\t\\t\\t8:leaf=0.0295628607\\n\\t\\t4:[f0<1.6258353] yes=9,no=10,missing=10\\n\\t\\t\\t9:leaf=-0.0515843406\\n\\t\\t\\t10:leaf=-0.0606435314\\n\\t2:[f1<0.371119618] yes=5,no=6,missing=6\\n\\t\\t5:[f0<1.90857232] yes=11,no=12,missing=12\\n\\t\\t\\t11:leaf=0.0299033504\\n\\t\\t\\t12:leaf=0.0958620831\\n\\t\\t6:[f1<1.36344683] yes=13,no=14,missing=14\\n\\t\\t\\t13:leaf=0.00404791674\\n\\t\\t\\t14:leaf=-0.0307507794\\n',\n",
       " '0:[f2<-0.312499106] yes=1,no=2,missing=2\\n\\t1:[f1<1.09841287] yes=3,no=4,missing=4\\n\\t\\t3:[f1<-0.0802244172] yes=7,no=8,missing=8\\n\\t\\t\\t7:leaf=0.0886940211\\n\\t\\t\\t8:leaf=0.0615033209\\n\\t\\t4:[f2<-3.9096415] yes=9,no=10,missing=10\\n\\t\\t\\t9:leaf=0.0429903641\\n\\t\\t\\t10:leaf=-0.0220967736\\n\\t2:[f0<1.16631067] yes=5,no=6,missing=6\\n\\t\\t5:[f2<-0.0294386204] yes=11,no=12,missing=12\\n\\t\\t\\t11:leaf=0.0303738024\\n\\t\\t\\t12:leaf=-0.0369131081\\n\\t\\t6:[f2<0.0671385303] yes=13,no=14,missing=14\\n\\t\\t\\t13:leaf=-0.0403530784\\n\\t\\t\\t14:leaf=-0.0589697957\\n',\n",
       " '0:[f2<-1.25935006] yes=1,no=2,missing=2\\n\\t1:[f1<11.7420912] yes=3,no=4,missing=4\\n\\t\\t3:[f1<2.83304381] yes=7,no=8,missing=8\\n\\t\\t\\t7:leaf=-0.0584236495\\n\\t\\t\\t8:leaf=-0.0220830776\\n\\t\\t4:[f2<-10.0307398] yes=9,no=10,missing=10\\n\\t\\t\\t9:leaf=0.0185049158\\n\\t\\t\\t10:leaf=0.104933858\\n\\t2:[f1<0.165205613] yes=5,no=6,missing=6\\n\\t\\t5:[f1<-0.299507201] yes=11,no=12,missing=12\\n\\t\\t\\t11:leaf=-0.0530674867\\n\\t\\t\\t12:leaf=0.00342057133\\n\\t\\t6:[f1<1.36344683] yes=13,no=14,missing=14\\n\\t\\t\\t13:leaf=0.0549735092\\n\\t\\t\\t14:leaf=0.0859759673\\n',\n",
       " '0:[f2<-0.37514019] yes=1,no=2,missing=2\\n\\t1:[f1<-0.0802244172] yes=3,no=4,missing=4\\n\\t\\t3:[f1<-0.940448999] yes=7,no=8,missing=8\\n\\t\\t\\t7:leaf=-0.052057147\\n\\t\\t\\t8:leaf=-0.0290397406\\n\\t\\t4:[f1<0.658023536] yes=9,no=10,missing=10\\n\\t\\t\\t9:leaf=-0.00297990791\\n\\t\\t\\t10:leaf=0.0245631263\\n\\t2:[f2<-0.259267956] yes=5,no=6,missing=6\\n\\t\\t5:[f0<1.16631067] yes=11,no=12,missing=12\\n\\t\\t\\t11:leaf=-0.00920424517\\n\\t\\t\\t12:leaf=-0.0491106324\\n\\t\\t6:leaf=-0.0592975616\\n',\n",
       " '0:[f2<0.443885833] yes=1,no=2,missing=2\\n\\t1:[f0<1.13413525] yes=3,no=4,missing=4\\n\\t\\t3:[f2<0.241670951] yes=7,no=8,missing=8\\n\\t\\t\\t7:leaf=-0.0353106596\\n\\t\\t\\t8:leaf=0.0233615171\\n\\t\\t4:[f0<1.6258353] yes=9,no=10,missing=10\\n\\t\\t\\t9:leaf=-0.0504412912\\n\\t\\t\\t10:leaf=-0.0597692132\\n\\t2:[f1<0.577101409] yes=5,no=6,missing=6\\n\\t\\t5:[f0<1.76898301] yes=11,no=12,missing=12\\n\\t\\t\\t11:leaf=0.01638625\\n\\t\\t\\t12:leaf=0.0819828808\\n\\t\\t6:[f0<10.153264] yes=13,no=14,missing=14\\n\\t\\t\\t13:leaf=-0.0116762668\\n\\t\\t\\t14:leaf=-0.0468230546\\n',\n",
       " '0:[f2<-0.312499106] yes=1,no=2,missing=2\\n\\t1:[f1<2.73197412] yes=3,no=4,missing=4\\n\\t\\t3:[f2<-2.49312568] yes=7,no=8,missing=8\\n\\t\\t\\t7:leaf=0.0797175393\\n\\t\\t\\t8:leaf=0.0418501049\\n\\t\\t4:[f2<-5.48692369] yes=9,no=10,missing=10\\n\\t\\t\\t9:leaf=0.016325457\\n\\t\\t\\t10:leaf=-0.0472195782\\n\\t2:[f0<1.16631067] yes=5,no=6,missing=6\\n\\t\\t5:[f2<-0.0294386204] yes=11,no=12,missing=12\\n\\t\\t\\t11:leaf=0.0279421043\\n\\t\\t\\t12:leaf=-0.0359773487\\n\\t\\t6:[f2<0.0671385303] yes=13,no=14,missing=14\\n\\t\\t\\t13:leaf=-0.0389212668\\n\\t\\t\\t14:leaf=-0.0581214391\\n',\n",
       " '0:[f2<-1.25935006] yes=1,no=2,missing=2\\n\\t1:[f1<10.3614864] yes=3,no=4,missing=4\\n\\t\\t3:[f1<2.83304381] yes=7,no=8,missing=8\\n\\t\\t\\t7:leaf=-0.0575489067\\n\\t\\t\\t8:leaf=-0.0235055648\\n\\t\\t4:[f2<-8.70008087] yes=9,no=10,missing=10\\n\\t\\t\\t9:leaf=0.0116198333\\n\\t\\t\\t10:leaf=0.0998111144\\n\\t2:[f1<0.165205613] yes=5,no=6,missing=6\\n\\t\\t5:[f1<-0.299507201] yes=11,no=12,missing=12\\n\\t\\t\\t11:leaf=-0.051916033\\n\\t\\t\\t12:leaf=0.00370175927\\n\\t\\t6:[f1<1.36344683] yes=13,no=14,missing=14\\n\\t\\t\\t13:leaf=0.0503805168\\n\\t\\t\\t14:leaf=0.0794312432\\n',\n",
       " '0:[f2<-0.37514019] yes=1,no=2,missing=2\\n\\t1:[f1<-0.0802244172] yes=3,no=4,missing=4\\n\\t\\t3:[f1<-0.940448999] yes=7,no=8,missing=8\\n\\t\\t\\t7:leaf=-0.0507317856\\n\\t\\t\\t8:leaf=-0.0270475391\\n\\t\\t4:[f1<0.658023536] yes=9,no=10,missing=10\\n\\t\\t\\t9:leaf=-0.00204748684\\n\\t\\t\\t10:leaf=0.0228556469\\n\\t2:[f2<-0.259267956] yes=5,no=6,missing=6\\n\\t\\t5:[f0<1.16631067] yes=11,no=12,missing=12\\n\\t\\t\\t11:leaf=-0.00807363074\\n\\t\\t\\t12:leaf=-0.0478049219\\n\\t\\t6:leaf=-0.0584753938\\n',\n",
       " '0:[f2<0.394757599] yes=1,no=2,missing=2\\n\\t1:[f0<1.13413525] yes=3,no=4,missing=4\\n\\t\\t3:[f1<0.116096742] yes=7,no=8,missing=8\\n\\t\\t\\t7:leaf=-0.00538278464\\n\\t\\t\\t8:leaf=-0.0487207621\\n\\t\\t4:[f0<1.6258353] yes=9,no=10,missing=10\\n\\t\\t\\t9:leaf=-0.0488467626\\n\\t\\t\\t10:leaf=-0.0589843169\\n\\t2:[f1<0.234930784] yes=5,no=6,missing=6\\n\\t\\t5:[f0<1.84007061] yes=11,no=12,missing=12\\n\\t\\t\\t11:leaf=0.03078801\\n\\t\\t\\t12:leaf=0.082862325\\n\\t\\t6:[f1<1.36344683] yes=13,no=14,missing=14\\n\\t\\t\\t13:leaf=0.00686668744\\n\\t\\t\\t14:leaf=-0.0272538122\\n',\n",
       " '0:[f2<-0.312499106] yes=1,no=2,missing=2\\n\\t1:[f1<0.706341684] yes=3,no=4,missing=4\\n\\t\\t3:[f1<-0.563808918] yes=7,no=8,missing=8\\n\\t\\t\\t7:leaf=0.0805770755\\n\\t\\t\\t8:leaf=0.062171597\\n\\t\\t4:[f1<3.68912482] yes=9,no=10,missing=10\\n\\t\\t\\t9:leaf=0.0302893408\\n\\t\\t\\t10:leaf=-0.0316248946\\n\\t2:[f0<1.16631067] yes=5,no=6,missing=6\\n\\t\\t5:[f2<-0.0294386204] yes=11,no=12,missing=12\\n\\t\\t\\t11:leaf=0.0259203892\\n\\t\\t\\t12:leaf=-0.0350826345\\n\\t\\t6:[f2<0.0671385303] yes=13,no=14,missing=14\\n\\t\\t\\t13:leaf=-0.037504632\\n\\t\\t\\t14:leaf=-0.0573431328\\n',\n",
       " '0:[f2<-1.25935006] yes=1,no=2,missing=2\\n\\t1:[f1<11.7420912] yes=3,no=4,missing=4\\n\\t\\t3:[f1<2.83304381] yes=7,no=8,missing=8\\n\\t\\t\\t7:leaf=-0.056700509\\n\\t\\t\\t8:leaf=-0.0207240712\\n\\t\\t4:[f2<-10.9109936] yes=9,no=10,missing=10\\n\\t\\t\\t9:leaf=0.0161633492\\n\\t\\t\\t10:leaf=0.0933773667\\n\\t2:[f1<0.0438910052] yes=5,no=6,missing=6\\n\\t\\t5:[f1<-0.419729859] yes=11,no=12,missing=12\\n\\t\\t\\t11:leaf=-0.0548231974\\n\\t\\t\\t12:leaf=-0.00764025608\\n\\t\\t6:[f1<0.927520752] yes=13,no=14,missing=14\\n\\t\\t\\t13:leaf=0.0370884798\\n\\t\\t\\t14:leaf=0.0708341599\\n',\n",
       " '0:[f2<-0.37514019] yes=1,no=2,missing=2\\n\\t1:[f1<-0.0802244172] yes=3,no=4,missing=4\\n\\t\\t3:[f1<-0.940448999] yes=7,no=8,missing=8\\n\\t\\t\\t7:leaf=-0.0495030656\\n\\t\\t\\t8:leaf=-0.0254485067\\n\\t\\t4:[f0<2.52357745] yes=9,no=10,missing=10\\n\\t\\t\\t9:leaf=0.0344560407\\n\\t\\t\\t10:leaf=0.010097079\\n\\t2:[f2<-0.259267956] yes=5,no=6,missing=6\\n\\t\\t5:[f0<1.16631067] yes=11,no=12,missing=12\\n\\t\\t\\t11:leaf=-0.00714529539\\n\\t\\t\\t12:leaf=-0.046523001\\n\\t\\t6:leaf=-0.0577244349\\n',\n",
       " '0:[f2<0.394757599] yes=1,no=2,missing=2\\n\\t1:[f0<1.13413525] yes=3,no=4,missing=4\\n\\t\\t3:[f1<0.116096742] yes=7,no=8,missing=8\\n\\t\\t\\t7:leaf=-0.00554818986\\n\\t\\t\\t8:leaf=-0.0474950038\\n\\t\\t4:[f0<1.6258353] yes=9,no=10,missing=10\\n\\t\\t\\t9:leaf=-0.0477707051\\n\\t\\t\\t10:leaf=-0.0582646914\\n\\t2:[f1<0.0438910052] yes=5,no=6,missing=6\\n\\t\\t5:[f0<1.9800812] yes=11,no=12,missing=12\\n\\t\\t\\t11:leaf=0.0464677885\\n\\t\\t\\t12:leaf=0.0813417211\\n\\t\\t6:[f1<0.773124099] yes=13,no=14,missing=14\\n\\t\\t\\t13:leaf=0.0220493767\\n\\t\\t\\t14:leaf=-0.0201250575\\n',\n",
       " '0:[f2<-0.312499106] yes=1,no=2,missing=2\\n\\t1:[f1<0.706341684] yes=3,no=4,missing=4\\n\\t\\t3:[f1<-0.563808918] yes=7,no=8,missing=8\\n\\t\\t\\t7:leaf=0.0756984949\\n\\t\\t\\t8:leaf=0.0580244325\\n\\t\\t4:[f2<-2.13835049] yes=9,no=10,missing=10\\n\\t\\t\\t9:leaf=0.0300674345\\n\\t\\t\\t10:leaf=-0.028758714\\n\\t2:[f0<1.16631067] yes=5,no=6,missing=6\\n\\t\\t5:[f2<-0.0294386204] yes=11,no=12,missing=12\\n\\t\\t\\t11:leaf=0.0242014434\\n\\t\\t\\t12:leaf=-0.0342066661\\n\\t\\t6:[f2<0.0671385303] yes=13,no=14,missing=14\\n\\t\\t\\t13:leaf=-0.0361057781\\n\\t\\t\\t14:leaf=-0.0566275008\\n',\n",
       " '0:[f2<-1.25935006] yes=1,no=2,missing=2\\n\\t1:[f1<6.14528322] yes=3,no=4,missing=4\\n\\t\\t3:[f2<-1.92589056] yes=7,no=8,missing=8\\n\\t\\t\\t7:leaf=-0.0566243231\\n\\t\\t\\t8:leaf=-0.02855899\\n\\t\\t4:[f2<-4.70722866] yes=9,no=10,missing=10\\n\\t\\t\\t9:leaf=0.00147900288\\n\\t\\t\\t10:leaf=0.104998484\\n\\t2:[f1<-0.035260763] yes=5,no=6,missing=6\\n\\t\\t5:[f1<-0.419729859] yes=11,no=12,missing=12\\n\\t\\t\\t11:leaf=-0.0538716689\\n\\t\\t\\t12:leaf=-0.0122691207\\n\\t\\t6:[f1<1.36344683] yes=13,no=14,missing=14\\n\\t\\t\\t13:leaf=0.0394555815\\n\\t\\t\\t14:leaf=0.0692310631\\n',\n",
       " '0:[f2<-0.37514019] yes=1,no=2,missing=2\\n\\t1:[f1<-0.0802244172] yes=3,no=4,missing=4\\n\\t\\t3:[f1<-0.940448999] yes=7,no=8,missing=8\\n\\t\\t\\t7:leaf=-0.0481906496\\n\\t\\t\\t8:leaf=-0.0236397628\\n\\t\\t4:[f0<2.52357745] yes=9,no=10,missing=10\\n\\t\\t\\t9:leaf=0.0334223844\\n\\t\\t\\t10:leaf=0.00939500239\\n\\t2:[f2<-0.259267956] yes=5,no=6,missing=6\\n\\t\\t5:[f0<1.16631067] yes=11,no=12,missing=12\\n\\t\\t\\t11:leaf=-0.00598910265\\n\\t\\t\\t12:leaf=-0.04524092\\n\\t\\t6:leaf=-0.0570375137\\n',\n",
       " '0:[f2<0.394757599] yes=1,no=2,missing=2\\n\\t1:[f0<1.13413525] yes=3,no=4,missing=4\\n\\t\\t3:[f1<0.116096742] yes=7,no=8,missing=8\\n\\t\\t\\t7:leaf=-0.00549790636\\n\\t\\t\\t8:leaf=-0.0463440754\\n\\t\\t4:[f0<1.6258353] yes=9,no=10,missing=10\\n\\t\\t\\t9:leaf=-0.0465543121\\n\\t\\t\\t10:leaf=-0.0576217882\\n\\t2:[f1<0.0438910052] yes=5,no=6,missing=6\\n\\t\\t5:[f0<1.9800812] yes=11,no=12,missing=12\\n\\t\\t\\t11:leaf=0.0419239998\\n\\t\\t\\t12:leaf=0.0766207427\\n\\t\\t6:[f1<0.773124099] yes=13,no=14,missing=14\\n\\t\\t\\t13:leaf=0.0207034256\\n\\t\\t\\t14:leaf=-0.0183299258\\n',\n",
       " '0:[f2<-0.312499106] yes=1,no=2,missing=2\\n\\t1:[f1<2.73197412] yes=3,no=4,missing=4\\n\\t\\t3:[f2<-2.49312568] yes=7,no=8,missing=8\\n\\t\\t\\t7:leaf=0.0656319484\\n\\t\\t\\t8:leaf=0.0327438824\\n\\t\\t4:[f2<-5.48692369] yes=9,no=10,missing=10\\n\\t\\t\\t9:leaf=0.0137786744\\n\\t\\t\\t10:leaf=-0.0460833982\\n\\t2:[f0<1.19470084] yes=5,no=6,missing=6\\n\\t\\t5:[f2<-0.0294386204] yes=11,no=12,missing=12\\n\\t\\t\\t11:leaf=0.0217391569\\n\\t\\t\\t12:leaf=-0.0348722152\\n\\t\\t6:[f2<0.0671385303] yes=13,no=14,missing=14\\n\\t\\t\\t13:leaf=-0.036144767\\n\\t\\t\\t14:leaf=-0.0560676046\\n',\n",
       " '0:[f2<-1.25935006] yes=1,no=2,missing=2\\n\\t1:[f1<10.3614864] yes=3,no=4,missing=4\\n\\t\\t3:[f1<2.83304381] yes=7,no=8,missing=8\\n\\t\\t\\t7:leaf=-0.0552501976\\n\\t\\t\\t8:leaf=-0.0213458501\\n\\t\\t4:[f2<-8.70008087] yes=9,no=10,missing=10\\n\\t\\t\\t9:leaf=0.00917861145\\n\\t\\t\\t10:leaf=0.0864728168\\n\\t2:[f1<0.252359748] yes=5,no=6,missing=6\\n\\t\\t5:[f1<-0.419729859] yes=11,no=12,missing=12\\n\\t\\t\\t11:leaf=-0.0529660359\\n\\t\\t\\t12:leaf=0.00353991729\\n\\t\\t6:[f1<1.36344683] yes=13,no=14,missing=14\\n\\t\\t\\t13:leaf=0.0404233597\\n\\t\\t\\t14:leaf=0.0650229082\\n',\n",
       " '0:[f2<-0.312499106] yes=1,no=2,missing=2\\n\\t1:[f1<-0.0802244172] yes=3,no=4,missing=4\\n\\t\\t3:[f1<-0.940448999] yes=7,no=8,missing=8\\n\\t\\t\\t7:leaf=-0.0469188876\\n\\t\\t\\t8:leaf=-0.0216956101\\n\\t\\t4:[f2<-1.01785076] yes=9,no=10,missing=10\\n\\t\\t\\t9:leaf=0.0178327598\\n\\t\\t\\t10:leaf=-0.0130035235\\n\\t2:[f0<1.06975985] yes=5,no=6,missing=6\\n\\t\\t5:[f2<-0.259267956] yes=11,no=12,missing=12\\n\\t\\t\\t11:leaf=0.0296137817\\n\\t\\t\\t12:leaf=-0.0418463051\\n\\t\\t6:leaf=-0.05660991\\n',\n",
       " '0:[f2<0.394757599] yes=1,no=2,missing=2\\n\\t1:[f0<1.13413525] yes=3,no=4,missing=4\\n\\t\\t3:[f1<0.116096742] yes=7,no=8,missing=8\\n\\t\\t\\t7:leaf=-0.00533922156\\n\\t\\t\\t8:leaf=-0.0451746807\\n\\t\\t4:[f0<1.6258353] yes=9,no=10,missing=10\\n\\t\\t\\t9:leaf=-0.0454339087\\n\\t\\t\\t10:leaf=-0.057038065\\n\\t2:[f1<0.0438910052] yes=5,no=6,missing=6\\n\\t\\t5:[f0<2.75736856] yes=11,no=12,missing=12\\n\\t\\t\\t11:leaf=0.0476255976\\n\\t\\t\\t12:leaf=0.0758668631\\n\\t\\t6:[f0<12.2579403] yes=13,no=14,missing=14\\n\\t\\t\\t13:leaf=0.000266374642\\n\\t\\t\\t14:leaf=-0.0444727913\\n',\n",
       " '0:[f2<-0.312499106] yes=1,no=2,missing=2\\n\\t1:[f1<1.13313949] yes=3,no=4,missing=4\\n\\t\\t3:[f1<-0.159134358] yes=7,no=8,missing=8\\n\\t\\t\\t7:leaf=0.065426968\\n\\t\\t\\t8:leaf=0.0435298271\\n\\t\\t4:[f2<-3.9096415] yes=9,no=10,missing=10\\n\\t\\t\\t9:leaf=0.0320081562\\n\\t\\t\\t10:leaf=-0.0252001714\\n\\t2:[f0<1.19470084] yes=5,no=6,missing=6\\n\\t\\t5:[f1<-0.344111413] yes=11,no=12,missing=12\\n\\t\\t\\t11:leaf=0.0609626062\\n\\t\\t\\t12:leaf=-0.0222025663\\n\\t\\t6:[f2<0.0671385303] yes=13,no=14,missing=14\\n\\t\\t\\t13:leaf=-0.0347773992\\n\\t\\t\\t14:leaf=-0.055469431\\n',\n",
       " '0:[f2<-1.4041034] yes=1,no=2,missing=2\\n\\t1:[f1<11.7420912] yes=3,no=4,missing=4\\n\\t\\t3:[f1<2.63914466] yes=7,no=8,missing=8\\n\\t\\t\\t7:leaf=-0.0553474091\\n\\t\\t\\t8:leaf=-0.0256521292\\n\\t\\t4:[f1<36.2684135] yes=9,no=10,missing=10\\n\\t\\t\\t9:leaf=0.0443552472\\n\\t\\t\\t10:leaf=0.116245702\\n\\t2:[f1<0.288978219] yes=5,no=6,missing=6\\n\\t\\t5:[f1<-0.299507201] yes=11,no=12,missing=12\\n\\t\\t\\t11:leaf=-0.0478673279\\n\\t\\t\\t12:leaf=0.00588800339\\n\\t\\t6:[f1<1.36344683] yes=13,no=14,missing=14\\n\\t\\t\\t13:leaf=0.0370632485\\n\\t\\t\\t14:leaf=0.0616818853\\n',\n",
       " '0:[f2<-0.312499106] yes=1,no=2,missing=2\\n\\t1:[f1<-0.159134358] yes=3,no=4,missing=4\\n\\t\\t3:[f1<-0.940448999] yes=7,no=8,missing=8\\n\\t\\t\\t7:leaf=-0.0457403995\\n\\t\\t\\t8:leaf=-0.0214689728\\n\\t\\t4:[f1<36.2684135] yes=9,no=10,missing=10\\n\\t\\t\\t9:leaf=0.0146970544\\n\\t\\t\\t10:leaf=-0.0554963835\\n\\t2:[f0<1.06975985] yes=5,no=6,missing=6\\n\\t\\t5:[f2<-0.259267956] yes=11,no=12,missing=12\\n\\t\\t\\t11:leaf=0.0286295265\\n\\t\\t\\t12:leaf=-0.0410685912\\n\\t\\t6:leaf=-0.0560473092\\n',\n",
       " '0:[f2<0.52006954] yes=1,no=2,missing=2\\n\\t1:[f0<1.13413525] yes=3,no=4,missing=4\\n\\t\\t3:[f2<0.241670951] yes=7,no=8,missing=8\\n\\t\\t\\t7:leaf=-0.0311068725\\n\\t\\t\\t8:leaf=0.0209345501\\n\\t\\t4:[f0<1.65924692] yes=9,no=10,missing=10\\n\\t\\t\\t9:leaf=-0.040990904\\n\\t\\t\\t10:leaf=-0.056535352\\n\\t2:[f1<0.577101409] yes=5,no=6,missing=6\\n\\t\\t5:[f0<3.08228731] yes=11,no=12,missing=12\\n\\t\\t\\t11:leaf=0.0275900401\\n\\t\\t\\t12:leaf=0.0724444538\\n\\t\\t6:[f0<10.153264] yes=13,no=14,missing=14\\n\\t\\t\\t13:leaf=-0.00332795642\\n\\t\\t\\t14:leaf=-0.0403571501\\n',\n",
       " '0:[f2<-0.312499106] yes=1,no=2,missing=2\\n\\t1:[f1<3.68912482] yes=3,no=4,missing=4\\n\\t\\t3:[f2<-3.53557229] yes=7,no=8,missing=8\\n\\t\\t\\t7:leaf=0.0628287271\\n\\t\\t\\t8:leaf=0.0307597276\\n\\t\\t4:[f2<-7.95249653] yes=9,no=10,missing=10\\n\\t\\t\\t9:leaf=0.00387382437\\n\\t\\t\\t10:leaf=-0.0499439314\\n\\t2:[f0<1.19470084] yes=5,no=6,missing=6\\n\\t\\t5:[f2<-0.0294386204] yes=11,no=12,missing=12\\n\\t\\t\\t11:leaf=0.0201096218\\n\\t\\t\\t12:leaf=-0.0335672982\\n\\t\\t6:[f2<0.0671385303] yes=13,no=14,missing=14\\n\\t\\t\\t13:leaf=-0.0334144384\\n\\t\\t\\t14:leaf=-0.0549185984\\n',\n",
       " '0:[f2<-1.4041034] yes=1,no=2,missing=2\\n\\t1:[f1<10.3614864] yes=3,no=4,missing=4\\n\\t\\t3:[f1<2.63914466] yes=7,no=8,missing=8\\n\\t\\t\\t7:leaf=-0.0547735095\\n\\t\\t\\t8:leaf=-0.0270275865\\n\\t\\t4:[f2<-8.70008087] yes=9,no=10,missing=10\\n\\t\\t\\t9:leaf=0.0062679234\\n\\t\\t\\t10:leaf=0.0806648135\\n\\t2:[f1<0.354701132] yes=5,no=6,missing=6\\n\\t\\t5:[f1<-0.419729859] yes=11,no=12,missing=12\\n\\t\\t\\t11:leaf=-0.0515027009\\n\\t\\t\\t12:leaf=0.00577778928\\n\\t\\t6:[f1<1.52430081] yes=13,no=14,missing=14\\n\\t\\t\\t13:leaf=0.0367575474\\n\\t\\t\\t14:leaf=0.0591644943\\n',\n",
       " '0:[f2<-0.312499106] yes=1,no=2,missing=2\\n\\t1:[f1<-0.0802244172] yes=3,no=4,missing=4\\n\\t\\t3:[f1<-0.940448999] yes=7,no=8,missing=8\\n\\t\\t\\t7:leaf=-0.0444865637\\n\\t\\t\\t8:leaf=-0.018289566\\n\\t\\t4:[f0<2.52357745] yes=9,no=10,missing=10\\n\\t\\t\\t9:leaf=0.0308703836\\n\\t\\t\\t10:leaf=0.00743988482\\n\\t2:[f0<1.06975985] yes=5,no=6,missing=6\\n\\t\\t5:[f2<-0.259267956] yes=11,no=12,missing=12\\n\\t\\t\\t11:leaf=0.0267884489\\n\\t\\t\\t12:leaf=-0.0403967761\\n\\t\\t6:leaf=-0.0555334687\\n',\n",
       " '0:[f2<0.394757599] yes=1,no=2,missing=2\\n\\t1:[f0<1.13413525] yes=3,no=4,missing=4\\n\\t\\t3:[f1<0.116096742] yes=7,no=8,missing=8\\n\\t\\t\\t7:leaf=-0.00460271537\\n\\t\\t\\t8:leaf=-0.0437625274\\n\\t\\t4:[f0<1.6258353] yes=9,no=10,missing=10\\n\\t\\t\\t9:leaf=-0.0434115902\\n\\t\\t\\t10:leaf=-0.0560161844\\n\\t2:[f1<0.0438910052] yes=5,no=6,missing=6\\n\\t\\t5:[f0<1.9800812] yes=11,no=12,missing=12\\n\\t\\t\\t11:leaf=0.0312641822\\n\\t\\t\\t12:leaf=0.0664353743\\n\\t\\t6:[f0<12.2579403] yes=13,no=14,missing=14\\n\\t\\t\\t13:leaf=0.00181029818\\n\\t\\t\\t14:leaf=-0.0415444709\\n',\n",
       " '0:[f2<-0.312499106] yes=1,no=2,missing=2\\n\\t1:[f1<0.706341684] yes=3,no=4,missing=4\\n\\t\\t3:[f1<-0.563808918] yes=7,no=8,missing=8\\n\\t\\t\\t7:leaf=0.0625388846\\n\\t\\t\\t8:leaf=0.0459079929\\n\\t\\t4:[f2<-2.66667581] yes=9,no=10,missing=10\\n\\t\\t\\t9:leaf=0.0260828864\\n\\t\\t\\t10:leaf=-0.0207536444\\n\\t2:[f2<0.0671385303] yes=5,no=6,missing=6\\n\\t\\t5:[f1<0.252359748] yes=11,no=12,missing=12\\n\\t\\t\\t11:leaf=0.0511490591\\n\\t\\t\\t12:leaf=-0.0426758565\\n\\t\\t6:[f0<1.19470084] yes=13,no=14,missing=14\\n\\t\\t\\t13:leaf=-0.0321804211\\n\\t\\t\\t14:leaf=-0.0544094704\\n',\n",
       " '0:[f2<-1.5421356] yes=1,no=2,missing=2\\n\\t1:[f1<10.3614864] yes=3,no=4,missing=4\\n\\t\\t3:[f1<4.51732445] yes=7,no=8,missing=8\\n\\t\\t\\t7:leaf=-0.0527907014\\n\\t\\t\\t8:leaf=-0.0200374555\\n\\t\\t4:[f2<-8.70008087] yes=9,no=10,missing=10\\n\\t\\t\\t9:leaf=0.00574775506\\n\\t\\t\\t10:leaf=0.0770438462\\n\\t2:[f1<0.577101409] yes=5,no=6,missing=6\\n\\t\\t5:[f1<-0.159134358] yes=11,no=12,missing=12\\n\\t\\t\\t11:leaf=-0.0399457701\\n\\t\\t\\t12:leaf=0.0130868498\\n\\t\\t6:[f1<1.54715884] yes=13,no=14,missing=14\\n\\t\\t\\t13:leaf=0.0361560993\\n\\t\\t\\t14:leaf=0.0566643253\\n',\n",
       " '0:[f2<-0.312499106] yes=1,no=2,missing=2\\n\\t1:[f1<-0.159134358] yes=3,no=4,missing=4\\n\\t\\t3:[f1<-0.940448999] yes=7,no=8,missing=8\\n\\t\\t\\t7:leaf=-0.0433046706\\n\\t\\t\\t8:leaf=-0.0180581715\\n\\t\\t4:[f0<2.52357745] yes=9,no=10,missing=10\\n\\t\\t\\t9:leaf=0.0276050325\\n\\t\\t\\t10:leaf=0.00741778454\\n\\t2:[f0<1.06975985] yes=5,no=6,missing=6\\n\\t\\t5:[f2<0.018516643] yes=11,no=12,missing=12\\n\\t\\t\\t11:leaf=-0.00178721698\\n\\t\\t\\t12:leaf=-0.0524103418\\n\\t\\t6:leaf=-0.0550652109\\n',\n",
       " '0:[f2<0.277508199] yes=1,no=2,missing=2\\n\\t1:[f0<1.13413525] yes=3,no=4,missing=4\\n\\t\\t3:[f1<-0.393710375] yes=7,no=8,missing=8\\n\\t\\t\\t7:leaf=0.0516103804\\n\\t\\t\\t8:leaf=-0.0337640643\\n\\t\\t4:[f0<1.6258353] yes=9,no=10,missing=10\\n\\t\\t\\t9:leaf=-0.0464387871\\n\\t\\t\\t10:leaf=-0.0555767789\\n\\t2:[f1<0.0438910052] yes=5,no=6,missing=6\\n\\t\\t5:[f0<2.75736856] yes=11,no=12,missing=12\\n\\t\\t\\t11:leaf=0.0389763229\\n\\t\\t\\t12:leaf=0.0671338141\\n\\t\\t6:[f0<12.2579403] yes=13,no=14,missing=14\\n\\t\\t\\t13:leaf=0.00162590749\\n\\t\\t\\t14:leaf=-0.0400497988\\n',\n",
       " '0:[f2<-0.137089863] yes=1,no=2,missing=2\\n\\t1:[f1<1.66840839] yes=3,no=4,missing=4\\n\\t\\t3:[f1<0.252359748] yes=7,no=8,missing=8\\n\\t\\t\\t7:leaf=0.0541161895\\n\\t\\t\\t8:leaf=0.0284232683\\n\\t\\t4:[f2<-4.605546] yes=9,no=10,missing=10\\n\\t\\t\\t9:leaf=0.0241995323\\n\\t\\t\\t10:leaf=-0.0347077101\\n\\t2:[f0<1.16631067] yes=5,no=6,missing=6\\n\\t\\t5:[f2<0.277508199] yes=11,no=12,missing=12\\n\\t\\t\\t11:leaf=-0.00228681439\\n\\t\\t\\t12:leaf=-0.0464143269\\n\\t\\t6:[f2<0.0671385303] yes=13,no=14,missing=14\\n\\t\\t\\t13:leaf=-0.0315469652\\n\\t\\t\\t14:leaf=-0.0538208149\\n',\n",
       " '0:[f2<-1.5421356] yes=1,no=2,missing=2\\n\\t1:[f1<11.7420912] yes=3,no=4,missing=4\\n\\t\\t3:[f1<4.51732445] yes=7,no=8,missing=8\\n\\t\\t\\t7:leaf=-0.0521498621\\n\\t\\t\\t8:leaf=-0.0159767922\\n\\t\\t4:[f1<36.2684135] yes=9,no=10,missing=10\\n\\t\\t\\t9:leaf=0.0358824655\\n\\t\\t\\t10:leaf=0.105864421\\n\\t2:[f1<0.577101409] yes=5,no=6,missing=6\\n\\t\\t5:[f1<-0.419729859] yes=11,no=12,missing=12\\n\\t\\t\\t11:leaf=-0.0501129329\\n\\t\\t\\t12:leaf=0.00856374856\\n\\t\\t6:[f1<1.54715884] yes=13,no=14,missing=14\\n\\t\\t\\t13:leaf=0.0334667005\\n\\t\\t\\t14:leaf=0.0538772531\\n',\n",
       " '0:[f2<-0.312499106] yes=1,no=2,missing=2\\n\\t1:[f1<0.252359748] yes=3,no=4,missing=4\\n\\t\\t3:[f1<-0.940448999] yes=7,no=8,missing=8\\n\\t\\t\\t7:leaf=-0.0419978574\\n\\t\\t\\t8:leaf=-0.0115692895\\n\\t\\t4:[f0<2.52357745] yes=9,no=10,missing=10\\n\\t\\t\\t9:leaf=0.0369036682\\n\\t\\t\\t10:leaf=0.00876845326\\n\\t2:[f0<1.06975985] yes=5,no=6,missing=6\\n\\t\\t5:[f2<0.018516643] yes=11,no=12,missing=12\\n\\t\\t\\t11:leaf=-0.00117003778\\n\\t\\t\\t12:leaf=-0.0519513749\\n\\t\\t6:leaf=-0.0546333902\\n',\n",
       " '0:[f2<0.277508199] yes=1,no=2,missing=2\\n\\t1:[f0<1.13413525] yes=3,no=4,missing=4\\n\\t\\t3:[f1<-0.393710375] yes=7,no=8,missing=8\\n\\t\\t\\t7:leaf=0.0498667397\\n\\t\\t\\t8:leaf=-0.0327937827\\n\\t\\t4:[f0<1.6258353] yes=9,no=10,missing=10\\n\\t\\t\\t9:leaf=-0.0454806089\\n\\t\\t\\t10:leaf=-0.0551753342\\n\\t2:[f1<0.0438910052] yes=5,no=6,missing=6\\n\\t\\t5:[f0<2.75736856] yes=11,no=12,missing=12\\n\\t\\t\\t11:leaf=0.0358332507\\n\\t\\t\\t12:leaf=0.0649039373\\n\\t\\t6:[f0<15.9370203] yes=13,no=14,missing=14\\n\\t\\t\\t13:leaf=0.00167019654\\n\\t\\t\\t14:leaf=-0.0435759351\\n',\n",
       " '0:[f2<-0.137089863] yes=1,no=2,missing=2\\n\\t1:[f1<3.68912482] yes=3,no=4,missing=4\\n\\t\\t3:[f2<-3.53557229] yes=7,no=8,missing=8\\n\\t\\t\\t7:leaf=0.0547437258\\n\\t\\t\\t8:leaf=0.0242904611\\n\\t\\t4:[f2<-7.95249653] yes=9,no=10,missing=10\\n\\t\\t\\t9:leaf=0.000912357704\\n\\t\\t\\t10:leaf=-0.0495108068\\n\\t2:[f2<0.394757599] yes=5,no=6,missing=6\\n\\t\\t5:[f1<-0.273640156] yes=11,no=12,missing=12\\n\\t\\t\\t11:leaf=0.0573469512\\n\\t\\t\\t12:leaf=-0.0371221863\\n\\t\\t6:leaf=-0.053825736\\n',\n",
       " '0:[f2<-1.5421356] yes=1,no=2,missing=2\\n\\t1:[f1<10.3614864] yes=3,no=4,missing=4\\n\\t\\t3:[f1<4.51732445] yes=7,no=8,missing=8\\n\\t\\t\\t7:leaf=-0.0515541732\\n\\t\\t\\t8:leaf=-0.0185267143\\n\\t\\t4:[f2<-8.70008087] yes=9,no=10,missing=10\\n\\t\\t\\t9:leaf=0.00373311574\\n\\t\\t\\t10:leaf=0.0731308982\\n\\t2:[f1<0.577101409] yes=5,no=6,missing=6\\n\\t\\t5:[f1<-0.419729859] yes=11,no=12,missing=12\\n\\t\\t\\t11:leaf=-0.0493260548\\n\\t\\t\\t12:leaf=0.00802686904\\n\\t\\t6:[f1<1.54715884] yes=13,no=14,missing=14\\n\\t\\t\\t13:leaf=0.0311448872\\n\\t\\t\\t14:leaf=0.0513074882\\n',\n",
       " '0:[f2<-0.312499106] yes=1,no=2,missing=2\\n\\t1:[f1<-0.159134358] yes=3,no=4,missing=4\\n\\t\\t3:[f1<-0.940448999] yes=7,no=8,missing=8\\n\\t\\t\\t7:leaf=-0.0407550745\\n\\t\\t\\t8:leaf=-0.0145758269\\n\\t\\t4:[f0<2.52357745] yes=9,no=10,missing=10\\n\\t\\t\\t9:leaf=0.0262596309\\n\\t\\t\\t10:leaf=0.00663986057\\n\\t2:[f0<1.06975985] yes=5,no=6,missing=6\\n\\t\\t5:[f2<-0.259267956] yes=11,no=12,missing=12\\n\\t\\t\\t11:leaf=0.0279846247\\n\\t\\t\\t12:leaf=-0.0384855717\\n\\t\\t6:leaf=-0.0542389341\\n',\n",
       " '0:[f2<0.52006954] yes=1,no=2,missing=2\\n\\t1:[f0<1.65924692] yes=3,no=4,missing=4\\n\\t\\t3:[f2<-0.0294386204] yes=7,no=8,missing=8\\n\\t\\t\\t7:leaf=-0.0476027541\\n\\t\\t\\t8:leaf=-0.00983321946\\n\\t\\t4:leaf=-0.054858204\\n\\t2:[f1<-0.0802244172] yes=5,no=6,missing=6\\n\\t\\t5:[f0<2.73259544] yes=9,no=10,missing=10\\n\\t\\t\\t9:leaf=0.0394197106\\n\\t\\t\\t10:leaf=0.0633631498\\n\\t\\t6:[f0<12.2579403] yes=11,no=12,missing=12\\n\\t\\t\\t11:leaf=0.00596594205\\n\\t\\t\\t12:leaf=-0.0370821171\\n',\n",
       " '0:[f2<-0.137089863] yes=1,no=2,missing=2\\n\\t1:[f1<2.25039864] yes=3,no=4,missing=4\\n\\t\\t3:[f2<-2.49312568] yes=7,no=8,missing=8\\n\\t\\t\\t7:leaf=0.0491567701\\n\\t\\t\\t8:leaf=0.0223789196\\n\\t\\t4:[f2<-5.25460768] yes=9,no=10,missing=10\\n\\t\\t\\t9:leaf=0.0164876133\\n\\t\\t\\t10:leaf=-0.041380465\\n\\t2:[f2<0.394757599] yes=5,no=6,missing=6\\n\\t\\t5:[f1<-0.273640156] yes=11,no=12,missing=12\\n\\t\\t\\t11:leaf=0.0522610061\\n\\t\\t\\t12:leaf=-0.0359952264\\n\\t\\t6:leaf=-0.0534365289\\n',\n",
       " '0:[f2<-0.750716686] yes=1,no=2,missing=2\\n\\t1:[f1<3.52153778] yes=3,no=4,missing=4\\n\\t\\t3:[f1<1.88787222] yes=7,no=8,missing=8\\n\\t\\t\\t7:leaf=-0.0516797267\\n\\t\\t\\t8:leaf=-0.01693522\\n\\t\\t4:[f2<-3.00665855] yes=9,no=10,missing=10\\n\\t\\t\\t9:leaf=-0.0139240343\\n\\t\\t\\t10:leaf=0.0980885625\\n\\t2:[f1<-0.159134358] yes=5,no=6,missing=6\\n\\t\\t5:[f1<-0.419729859] yes=11,no=12,missing=12\\n\\t\\t\\t11:leaf=-0.0489633828\\n\\t\\t\\t12:leaf=-0.00581322145\\n\\t\\t6:[f1<1.34180272] yes=13,no=14,missing=14\\n\\t\\t\\t13:leaf=0.026469145\\n\\t\\t\\t14:leaf=0.0464127474\\n',\n",
       " '0:[f2<-0.312499106] yes=1,no=2,missing=2\\n\\t1:[f1<-0.563808918] yes=3,no=4,missing=4\\n\\t\\t3:[f1<-0.940448999] yes=7,no=8,missing=8\\n\\t\\t\\t7:leaf=-0.0395481959\\n\\t\\t\\t8:leaf=-0.0198431592\\n\\t\\t4:[f1<0.5440166] yes=9,no=10,missing=10\\n\\t\\t\\t9:leaf=-0.00396186067\\n\\t\\t\\t10:leaf=0.0152475638\\n\\t2:[f0<1.06975985] yes=5,no=6,missing=6\\n\\t\\t5:[f2<0.018516643] yes=11,no=12,missing=12\\n\\t\\t\\t11:leaf=-0.000283467438\\n\\t\\t\\t12:leaf=-0.0509829707\\n\\t\\t6:leaf=-0.0538749099\\n',\n",
       " '0:[f2<0.277508199] yes=1,no=2,missing=2\\n\\t1:[f0<1.13413525] yes=3,no=4,missing=4\\n\\t\\t3:[f1<-0.393710375] yes=7,no=8,missing=8\\n\\t\\t\\t7:leaf=0.0502778403\\n\\t\\t\\t8:leaf=-0.030990351\\n\\t\\t4:[f0<1.6258353] yes=9,no=10,missing=10\\n\\t\\t\\t9:leaf=-0.0437147468\\n\\t\\t\\t10:leaf=-0.0544750653\\n\\t2:[f1<-0.159134358] yes=5,no=6,missing=6\\n\\t\\t5:[f2<1.6948483] yes=11,no=12,missing=12\\n\\t\\t\\t11:leaf=0.0347480588\\n\\t\\t\\t12:leaf=0.0609079488\\n\\t\\t6:[f0<15.9370203] yes=13,no=14,missing=14\\n\\t\\t\\t13:leaf=0.00445237709\\n\\t\\t\\t14:leaf=-0.0410589017\\n',\n",
       " '0:[f2<-0.137089863] yes=1,no=2,missing=2\\n\\t1:[f1<0.658023536] yes=3,no=4,missing=4\\n\\t\\t3:[f1<-0.563808918] yes=7,no=8,missing=8\\n\\t\\t\\t7:leaf=0.0542830229\\n\\t\\t\\t8:leaf=0.0366013758\\n\\t\\t4:[f2<-2.66667581] yes=9,no=10,missing=10\\n\\t\\t\\t9:leaf=0.0206217021\\n\\t\\t\\t10:leaf=-0.0202728193\\n\\t2:[f2<0.394757599] yes=5,no=6,missing=6\\n\\t\\t5:[f1<0.518995106] yes=11,no=12,missing=12\\n\\t\\t\\t11:leaf=0.00307855173\\n\\t\\t\\t12:leaf=-0.0456290953\\n\\t\\t6:leaf=-0.0530681089\\n',\n",
       " '0:[f2<-1.5421356] yes=1,no=2,missing=2\\n\\t1:[f1<11.7420912] yes=3,no=4,missing=4\\n\\t\\t3:[f2<-2.83561754] yes=7,no=8,missing=8\\n\\t\\t\\t7:leaf=-0.0537257083\\n\\t\\t\\t8:leaf=-0.0270276945\\n\\t\\t4:[f1<36.2684135] yes=9,no=10,missing=10\\n\\t\\t\\t9:leaf=0.0311177913\\n\\t\\t\\t10:leaf=0.100880682\\n\\t2:[f1<0.672248602] yes=5,no=6,missing=6\\n\\t\\t5:[f2<-0.259267956] yes=11,no=12,missing=12\\n\\t\\t\\t11:leaf=-0.0463868752\\n\\t\\t\\t12:leaf=0.00867269747\\n\\t\\t6:[f1<1.81572628] yes=13,no=14,missing=14\\n\\t\\t\\t13:leaf=0.0302463528\\n\\t\\t\\t14:leaf=0.0480433181\\n',\n",
       " '0:[f2<-0.259267956] yes=1,no=2,missing=2\\n\\t1:[f1<-0.563808918] yes=3,no=4,missing=4\\n\\t\\t3:[f1<-0.940448999] yes=7,no=8,missing=8\\n\\t\\t\\t7:leaf=-0.0383331105\\n\\t\\t\\t8:leaf=-0.018332826\\n\\t\\t4:[f2<-0.976567149] yes=9,no=10,missing=10\\n\\t\\t\\t9:leaf=0.0123306485\\n\\t\\t\\t10:leaf=-0.0133444667\\n\\t2:[f2<0.018516643] yes=5,no=6,missing=6\\n\\t\\t5:[f0<1.19470084] yes=11,no=12,missing=12\\n\\t\\t\\t11:leaf=-0.0167732388\\n\\t\\t\\t12:leaf=-0.051499635\\n\\t\\t6:leaf=-0.05370887\\n',\n",
       " '0:[f2<0.277508199] yes=1,no=2,missing=2\\n\\t1:[f0<1.13413525] yes=3,no=4,missing=4\\n\\t\\t3:[f1<-0.393710375] yes=7,no=8,missing=8\\n\\t\\t\\t7:leaf=0.0485267192\\n\\t\\t\\t8:leaf=-0.0300124567\\n\\t\\t4:[f2<-0.207257137] yes=9,no=10,missing=10\\n\\t\\t\\t9:leaf=-0.0540048257\\n\\t\\t\\t10:leaf=-0.0409592129\\n\\t2:[f1<-0.159134358] yes=5,no=6,missing=6\\n\\t\\t5:[f2<1.6948483] yes=11,no=12,missing=12\\n\\t\\t\\t11:leaf=0.0318786167\\n\\t\\t\\t12:leaf=0.0592826866\\n\\t\\t6:[f0<15.9370203] yes=13,no=14,missing=14\\n\\t\\t\\t13:leaf=0.00507271988\\n\\t\\t\\t14:leaf=-0.0397938155\\n',\n",
       " '0:[f2<0.018516643] yes=1,no=2,missing=2\\n\\t1:[f1<1.09841287] yes=3,no=4,missing=4\\n\\t\\t3:[f1<-0.159134358] yes=7,no=8,missing=8\\n\\t\\t\\t7:leaf=0.0488408618\\n\\t\\t\\t8:leaf=0.0276436787\\n\\t\\t4:[f2<-3.9096415] yes=9,no=10,missing=10\\n\\t\\t\\t9:leaf=0.0207243748\\n\\t\\t\\t10:leaf=-0.0255158897\\n\\t2:[f2<0.394757599] yes=5,no=6,missing=6\\n\\t\\t5:[f1<-0.273640156] yes=11,no=12,missing=12\\n\\t\\t\\t11:leaf=0.0361643173\\n\\t\\t\\t12:leaf=-0.0395510606\\n\\t\\t6:leaf=-0.0527260378\\n',\n",
       " '0:[f2<-1.5421356] yes=1,no=2,missing=2\\n\\t1:[f1<10.3614864] yes=3,no=4,missing=4\\n\\t\\t3:[f1<4.51732445] yes=7,no=8,missing=8\\n\\t\\t\\t7:leaf=-0.0499712974\\n\\t\\t\\t8:leaf=-0.0164872371\\n\\t\\t4:[f2<-8.70008087] yes=9,no=10,missing=10\\n\\t\\t\\t9:leaf=0.0029105423\\n\\t\\t\\t10:leaf=0.0688507184\\n\\t2:[f1<0.927520752] yes=5,no=6,missing=6\\n\\t\\t5:[f2<-0.556766093] yes=11,no=12,missing=12\\n\\t\\t\\t11:leaf=-0.0529795364\\n\\t\\t\\t12:leaf=0.0119564096\\n\\t\\t6:[f2<1.53902256] yes=13,no=14,missing=14\\n\\t\\t\\t13:leaf=0.0522755571\\n\\t\\t\\t14:leaf=0.0330338553\\n',\n",
       " '0:[f2<-0.259267956] yes=1,no=2,missing=2\\n\\t1:[f1<-0.563808918] yes=3,no=4,missing=4\\n\\t\\t3:[f1<-0.940448999] yes=7,no=8,missing=8\\n\\t\\t\\t7:leaf=-0.0369374827\\n\\t\\t\\t8:leaf=-0.016304601\\n\\t\\t4:[f2<-0.976567149] yes=9,no=10,missing=10\\n\\t\\t\\t9:leaf=0.0117712459\\n\\t\\t\\t10:leaf=-0.0122484304\\n\\t2:[f2<0.018516643] yes=5,no=6,missing=6\\n\\t\\t5:[f0<1.19470084] yes=11,no=12,missing=12\\n\\t\\t\\t11:leaf=-0.0160768088\\n\\t\\t\\t12:leaf=-0.0510303676\\n\\t\\t6:leaf=-0.0534080863\\n',\n",
       " '0:[f2<0.52006954] yes=1,no=2,missing=2\\n\\t1:[f0<1.65924692] yes=3,no=4,missing=4\\n\\t\\t3:[f2<-0.0294386204] yes=7,no=8,missing=8\\n\\t\\t\\t7:leaf=-0.0455740169\\n\\t\\t\\t8:leaf=-0.00891356915\\n\\t\\t4:leaf=-0.0539272539\\n\\t2:[f1<-0.0802244172] yes=5,no=6,missing=6\\n\\t\\t5:[f0<2.73259544] yes=9,no=10,missing=10\\n\\t\\t\\t9:leaf=0.032087069\\n\\t\\t\\t10:leaf=0.0590774491\\n\\t\\t6:[f0<15.9370203] yes=11,no=12,missing=12\\n\\t\\t\\t11:leaf=0.00684570754\\n\\t\\t\\t12:leaf=-0.0384057201\\n',\n",
       " '0:[f2<0.018516643] yes=1,no=2,missing=2\\n\\t1:[f1<3.68912482] yes=3,no=4,missing=4\\n\\t\\t3:[f2<-3.9096415] yes=7,no=8,missing=8\\n\\t\\t\\t7:leaf=0.04821942\\n\\t\\t\\t8:leaf=0.0182910934\\n\\t\\t4:[f2<-7.95249653] yes=9,no=10,missing=10\\n\\t\\t\\t9:leaf=-0.00235754531\\n\\t\\t\\t10:leaf=-0.0486990921\\n\\t2:[f2<0.394757599] yes=5,no=6,missing=6\\n\\t\\t5:[f1<-0.273640156] yes=11,no=12,missing=12\\n\\t\\t\\t11:leaf=0.0337251537\\n\\t\\t\\t12:leaf=-0.0384843759\\n\\t\\t6:leaf=-0.0524102151\\n',\n",
       " '0:[f2<-1.79634404] yes=1,no=2,missing=2\\n\\t1:[f1<11.7420912] yes=3,no=4,missing=4\\n\\t\\t3:[f1<5.34408474] yes=7,no=8,missing=8\\n\\t\\t\\t7:leaf=-0.0512254424\\n\\t\\t\\t8:leaf=-0.0128140496\\n\\t\\t4:[f1<36.2684135] yes=9,no=10,missing=10\\n\\t\\t\\t9:leaf=0.0267143436\\n\\t\\t\\t10:leaf=0.0966176242\\n\\t2:[f1<0.927520752] yes=5,no=6,missing=6\\n\\t\\t5:[f2<-0.556766093] yes=11,no=12,missing=12\\n\\t\\t\\t11:leaf=-0.0523444302\\n\\t\\t\\t12:leaf=0.0111822104\\n\\t\\t6:[f2<1.53902256] yes=13,no=14,missing=14\\n\\t\\t\\t13:leaf=0.050350558\\n\\t\\t\\t14:leaf=0.0310108121\\n',\n",
       " '0:[f2<-0.259267956] yes=1,no=2,missing=2\\n\\t1:[f1<-0.563808918] yes=3,no=4,missing=4\\n\\t\\t3:[f1<-0.940448999] yes=7,no=8,missing=8\\n\\t\\t\\t7:leaf=-0.0355716422\\n\\t\\t\\t8:leaf=-0.0144078108\\n\\t\\t4:[f1<36.2684135] yes=9,no=10,missing=10\\n\\t\\t\\t9:leaf=0.00984725356\\n\\t\\t\\t10:leaf=-0.0512645654\\n\\t2:[f2<0.018516643] yes=5,no=6,missing=6\\n\\t\\t5:[f0<1.19470084] yes=11,no=12,missing=12\\n\\t\\t\\t11:leaf=-0.015118192\\n\\t\\t\\t12:leaf=-0.0505130477\\n\\t\\t6:leaf=-0.0531326123\\n',\n",
       " '0:[f2<0.277508199] yes=1,no=2,missing=2\\n\\t1:[f2<-0.312499106] yes=3,no=4,missing=4\\n\\t\\t3:leaf=-0.0534455664\\n\\t\\t4:[f0<1.6258353] yes=7,no=8,missing=8\\n\\t\\t\\t7:leaf=-0.0201572515\\n\\t\\t\\t8:leaf=-0.0511897802\\n\\t2:[f1<-0.159134358] yes=5,no=6,missing=6\\n\\t\\t5:[f0<1.9800812] yes=9,no=10,missing=10\\n\\t\\t\\t9:leaf=0.0258833449\\n\\t\\t\\t10:leaf=0.0565078259\\n\\t\\t6:[f2<1.4227525] yes=11,no=12,missing=12\\n\\t\\t\\t11:leaf=-0.0166440792\\n\\t\\t\\t12:leaf=0.0101549746\\n',\n",
       " '0:[f2<0.018516643] yes=1,no=2,missing=2\\n\\t1:[f1<3.68912482] yes=3,no=4,missing=4\\n\\t\\t3:[f2<-3.99209666] yes=7,no=8,missing=8\\n\\t\\t\\t7:leaf=0.0464453362\\n\\t\\t\\t8:leaf=0.0170726422\\n\\t\\t4:[f2<-7.95249653] yes=9,no=10,missing=10\\n\\t\\t\\t9:leaf=-0.0020298555\\n\\t\\t\\t10:leaf=-0.0476835743\\n\\t2:[f2<0.394757599] yes=5,no=6,missing=6\\n\\t\\t5:[f1<-0.273640156] yes=11,no=12,missing=12\\n\\t\\t\\t11:leaf=0.0316625349\\n\\t\\t\\t12:leaf=-0.0374336839\\n\\t\\t6:leaf=-0.052115012\\n',\n",
       " '0:[f2<-1.79634404] yes=1,no=2,missing=2\\n\\t1:[f1<11.7420912] yes=3,no=4,missing=4\\n\\t\\t3:[f1<4.51732445] yes=7,no=8,missing=8\\n\\t\\t\\t7:leaf=-0.0514990576\\n\\t\\t\\t8:leaf=-0.0172517281\\n\\t\\t4:[f2<-10.0307398] yes=9,no=10,missing=10\\n\\t\\t\\t9:leaf=0.00357125746\\n\\t\\t\\t10:leaf=0.0677003264\\n\\t2:[f1<0.941983461] yes=5,no=6,missing=6\\n\\t\\t5:[f2<-0.556766093] yes=11,no=12,missing=12\\n\\t\\t\\t11:leaf=-0.0519983731\\n\\t\\t\\t12:leaf=0.0107020847\\n\\t\\t6:[f2<1.53902256] yes=13,no=14,missing=14\\n\\t\\t\\t13:leaf=0.0485325195\\n\\t\\t\\t14:leaf=0.0293711573\\n',\n",
       " '0:[f2<-0.259267956] yes=1,no=2,missing=2\\n\\t1:[f1<-0.563808918] yes=3,no=4,missing=4\\n\\t\\t3:[f1<-0.940448999] yes=7,no=8,missing=8\\n\\t\\t\\t7:leaf=-0.0342969894\\n\\t\\t\\t8:leaf=-0.0131717166\\n\\t\\t4:[f0<2.52357745] yes=9,no=10,missing=10\\n\\t\\t\\t9:leaf=0.019757323\\n\\t\\t\\t10:leaf=0.00468546757\\n\\t2:[f2<0.018516643] yes=5,no=6,missing=6\\n\\t\\t5:[f0<1.19470084] yes=11,no=12,missing=12\\n\\t\\t\\t11:leaf=-0.0142954206\\n\\t\\t\\t12:leaf=-0.0500167571\\n\\t\\t6:leaf=-0.0528803281\\n',\n",
       " '0:[f2<0.277508199] yes=1,no=2,missing=2\\n\\t1:[f2<-0.312499106] yes=3,no=4,missing=4\\n\\t\\t3:leaf=-0.0531893745\\n\\t\\t4:[f0<1.6258353] yes=7,no=8,missing=8\\n\\t\\t\\t7:leaf=-0.0191896316\\n\\t\\t\\t8:leaf=-0.0507593565\\n\\t2:[f1<-0.159134358] yes=5,no=6,missing=6\\n\\t\\t5:[f2<1.6948483] yes=9,no=10,missing=10\\n\\t\\t\\t9:leaf=0.0258453526\\n\\t\\t\\t10:leaf=0.0559436642\\n\\t\\t6:[f0<15.9370203] yes=11,no=12,missing=12\\n\\t\\t\\t11:leaf=0.00638523418\\n\\t\\t\\t12:leaf=-0.037112277\\n',\n",
       " '0:[f2<0.018516643] yes=1,no=2,missing=2\\n\\t1:[f1<0.5440166] yes=3,no=4,missing=4\\n\\t\\t3:[f1<-0.563808918] yes=7,no=8,missing=8\\n\\t\\t\\t7:leaf=0.0479645059\\n\\t\\t\\t8:leaf=0.0298240129\\n\\t\\t4:[f1<7.09986877] yes=9,no=10,missing=10\\n\\t\\t\\t9:leaf=0.00806495827\\n\\t\\t\\t10:leaf=-0.046809908\\n\\t2:[f2<0.394757599] yes=5,no=6,missing=6\\n\\t\\t5:[f1<-0.273640156] yes=11,no=12,missing=12\\n\\t\\t\\t11:leaf=0.0297724605\\n\\t\\t\\t12:leaf=-0.0363616012\\n\\t\\t6:leaf=-0.0518319122\\n',\n",
       " '0:[f2<-1.79634404] yes=1,no=2,missing=2\\n\\t1:[f1<11.7420912] yes=3,no=4,missing=4\\n\\t\\t3:[f1<5.34408474] yes=7,no=8,missing=8\\n\\t\\t\\t7:leaf=-0.0502811782\\n\\t\\t\\t8:leaf=-0.0126232831\\n\\t\\t4:[f1<36.2684135] yes=9,no=10,missing=10\\n\\t\\t\\t9:leaf=0.0225610714\\n\\t\\t\\t10:leaf=0.0907311514\\n\\t2:[f1<1.36344683] yes=5,no=6,missing=6\\n\\t\\t5:[f2<-0.556766093] yes=11,no=12,missing=12\\n\\t\\t\\t11:leaf=-0.0438721515\\n\\t\\t\\t12:leaf=0.0134858834\\n\\t\\t6:[f2<1.56385577] yes=13,no=14,missing=14\\n\\t\\t\\t13:leaf=0.0567292534\\n\\t\\t\\t14:leaf=0.0287422538\\n',\n",
       " '0:[f2<-0.259267956] yes=1,no=2,missing=2\\n\\t1:[f1<-0.22002387] yes=3,no=4,missing=4\\n\\t\\t3:[f1<-0.940448999] yes=7,no=8,missing=8\\n\\t\\t\\t7:leaf=-0.0330139101\\n\\t\\t\\t8:leaf=-0.00898162089\\n\\t\\t4:[f0<2.52357745] yes=9,no=10,missing=10\\n\\t\\t\\t9:leaf=0.0238108896\\n\\t\\t\\t10:leaf=0.00470108772\\n\\t2:[f2<0.018516643] yes=5,no=6,missing=6\\n\\t\\t5:[f0<1.19470084] yes=11,no=12,missing=12\\n\\t\\t\\t11:leaf=-0.0135038858\\n\\t\\t\\t12:leaf=-0.0495366566\\n\\t\\t6:leaf=-0.0526436977\\n',\n",
       " '0:[f2<0.277508199] yes=1,no=2,missing=2\\n\\t1:[f2<-0.312499106] yes=3,no=4,missing=4\\n\\t\\t3:leaf=-0.0529533103\\n\\t\\t4:[f0<1.6258353] yes=7,no=8,missing=8\\n\\t\\t\\t7:leaf=-0.0182579663\\n\\t\\t\\t8:leaf=-0.0503432415\\n\\t2:[f1<-0.299507201] yes=5,no=6,missing=6\\n\\t\\t5:[f2<1.60035586] yes=9,no=10,missing=10\\n\\t\\t\\t9:leaf=0.0244392343\\n\\t\\t\\t10:leaf=0.0574954264\\n\\t\\t6:[f0<15.9370203] yes=11,no=12,missing=12\\n\\t\\t\\t11:leaf=0.00720981602\\n\\t\\t\\t12:leaf=-0.035997726\\n',\n",
       " '0:[f2<0.018516643] yes=1,no=2,missing=2\\n\\t1:[f1<1.66840839] yes=3,no=4,missing=4\\n\\t\\t3:[f1<-0.159134358] yes=7,no=8,missing=8\\n\\t\\t\\t7:leaf=0.0421141088\\n\\t\\t\\t8:leaf=0.0195178576\\n\\t\\t4:[f2<-4.605546] yes=9,no=10,missing=10\\n\\t\\t\\t9:leaf=0.0172489621\\n\\t\\t\\t10:leaf=-0.034424115\\n\\t2:[f2<0.394757599] yes=5,no=6,missing=6\\n\\t\\t5:[f1<-0.273640156] yes=11,no=12,missing=12\\n\\t\\t\\t11:leaf=0.0280855931\\n\\t\\t\\t12:leaf=-0.0352640674\\n\\t\\t6:leaf=-0.0515634231\\n',\n",
       " '0:[f2<-1.92589056] yes=1,no=2,missing=2\\n\\t1:[f1<11.7420912] yes=3,no=4,missing=4\\n\\t\\t3:[f1<4.66123772] yes=7,no=8,missing=8\\n\\t\\t\\t7:leaf=-0.0516992323\\n\\t\\t\\t8:leaf=-0.018727323\\n\\t\\t4:[f2<-10.0307398] yes=9,no=10,missing=10\\n\\t\\t\\t9:leaf=-0.000442356395\\n\\t\\t\\t10:leaf=0.0645021796\\n\\t2:[f1<1.36344683] yes=5,no=6,missing=6\\n\\t\\t5:[f2<-0.556766093] yes=11,no=12,missing=12\\n\\t\\t\\t11:leaf=-0.0434348322\\n\\t\\t\\t12:leaf=0.0125800567\\n\\t\\t6:[f2<1.56385577] yes=13,no=14,missing=14\\n\\t\\t\\t13:leaf=0.0555187762\\n\\t\\t\\t14:leaf=0.0269322935\\n',\n",
       " '0:[f2<-0.259267956] yes=1,no=2,missing=2\\n\\t1:[f1<-0.586026371] yes=3,no=4,missing=4\\n\\t\\t3:[f1<-3.60766816] yes=7,no=8,missing=8\\n\\t\\t\\t7:leaf=-0.0498004891\\n\\t\\t\\t8:leaf=-0.0211925115\\n\\t\\t4:[f0<6.31146383] yes=9,no=10,missing=10\\n\\t\\t\\t9:leaf=0.0122550819\\n\\t\\t\\t10:leaf=-0.00252533983\\n\\t2:[f2<0.018516643] yes=5,no=6,missing=6\\n\\t\\t5:[f0<1.19470084] yes=11,no=12,missing=12\\n\\t\\t\\t11:leaf=-0.0125031294\\n\\t\\t\\t12:leaf=-0.0490419716\\n\\t\\t6:leaf=-0.052424442\\n',\n",
       " '0:[f2<0.277508199] yes=1,no=2,missing=2\\n\\t1:[f2<-0.312499106] yes=3,no=4,missing=4\\n\\t\\t3:leaf=-0.0527277105\\n\\t\\t4:[f0<1.6258353] yes=7,no=8,missing=8\\n\\t\\t\\t7:leaf=-0.0173415095\\n\\t\\t\\t8:leaf=-0.0499058962\\n\\t2:[f1<-0.299507201] yes=5,no=6,missing=6\\n\\t\\t5:[f2<1.60035586] yes=9,no=10,missing=10\\n\\t\\t\\t9:leaf=0.0227482971\\n\\t\\t\\t10:leaf=0.0567471571\\n\\t\\t6:[f2<1.4227525] yes=11,no=12,missing=12\\n\\t\\t\\t11:leaf=-0.0139741516\\n\\t\\t\\t12:leaf=0.0118096722\\n',\n",
       " '0:[f2<0.018516643] yes=1,no=2,missing=2\\n\\t1:[f1<3.68912482] yes=3,no=4,missing=4\\n\\t\\t3:[f2<-3.99209666] yes=7,no=8,missing=8\\n\\t\\t\\t7:leaf=0.0416845195\\n\\t\\t\\t8:leaf=0.0132901166\\n\\t\\t4:[f2<-7.95249653] yes=9,no=10,missing=10\\n\\t\\t\\t9:leaf=-0.00138995307\\n\\t\\t\\t10:leaf=-0.0466542952\\n\\t2:[f2<0.47385636] yes=5,no=6,missing=6\\n\\t\\t5:[f1<-0.419729859] yes=11,no=12,missing=12\\n\\t\\t\\t11:leaf=0.0544604063\\n\\t\\t\\t12:leaf=-0.0361390524\\n\\t\\t6:leaf=-0.0515521765\\n',\n",
       " '0:[f2<-1.92589056] yes=1,no=2,missing=2\\n\\t1:[f1<15.5156393] yes=3,no=4,missing=4\\n\\t\\t3:[f1<5.34408474] yes=7,no=8,missing=8\\n\\t\\t\\t7:leaf=-0.0506413355\\n\\t\\t\\t8:leaf=-0.0120348735\\n\\t\\t4:[f2<-12.816287] yes=9,no=10,missing=10\\n\\t\\t\\t9:leaf=0.00969436113\\n\\t\\t\\t10:leaf=0.0712555796\\n\\t2:[f1<0.672248602] yes=5,no=6,missing=6\\n\\t\\t5:[f2<-0.259267956] yes=11,no=12,missing=12\\n\\t\\t\\t11:leaf=-0.0433608554\\n\\t\\t\\t12:leaf=0.00472444808\\n\\t\\t6:[f1<1.81572628] yes=13,no=14,missing=14\\n\\t\\t\\t13:leaf=0.0188203864\\n\\t\\t\\t14:leaf=0.0388920233\\n',\n",
       " '0:[f2<-0.259267956] yes=1,no=2,missing=2\\n\\t1:[f1<-0.940448999] yes=3,no=4,missing=4\\n\\t\\t3:[f0<9.03982067] yes=7,no=8,missing=8\\n\\t\\t\\t7:leaf=-0.0216691252\\n\\t\\t\\t8:leaf=-0.0442122035\\n\\t\\t4:[f1<0.5440166] yes=9,no=10,missing=10\\n\\t\\t\\t9:leaf=-0.00210047071\\n\\t\\t\\t10:leaf=0.0117945587\\n\\t2:[f2<0.018516643] yes=5,no=6,missing=6\\n\\t\\t5:[f0<1.19470084] yes=11,no=12,missing=12\\n\\t\\t\\t11:leaf=-0.0115780467\\n\\t\\t\\t12:leaf=-0.0485592149\\n\\t\\t6:leaf=-0.0522224121\\n',\n",
       " '0:[f2<0.277508199] yes=1,no=2,missing=2\\n\\t1:[f2<-0.312499106] yes=3,no=4,missing=4\\n\\t\\t3:leaf=-0.0525189042\\n\\t\\t4:[f0<1.6258353] yes=7,no=8,missing=8\\n\\t\\t\\t7:leaf=-0.0164538845\\n\\t\\t\\t8:leaf=-0.0494796894\\n\\t2:[f1<-0.299507201] yes=5,no=6,missing=6\\n\\t\\t5:[f2<1.60035586] yes=9,no=10,missing=10\\n\\t\\t\\t9:leaf=0.0211378559\\n\\t\\t\\t10:leaf=0.056057781\\n\\t\\t6:[f2<1.56385577] yes=11,no=12,missing=12\\n\\t\\t\\t11:leaf=-0.0113464529\\n\\t\\t\\t12:leaf=0.0125127574\\n',\n",
       " '0:[f2<0.018516643] yes=1,no=2,missing=2\\n\\t1:[f1<2.73197412] yes=3,no=4,missing=4\\n\\t\\t3:[f2<-2.88929582] yes=7,no=8,missing=8\\n\\t\\t\\t7:leaf=0.0362691246\\n\\t\\t\\t8:leaf=0.0106864963\\n\\t\\t4:[f2<-6.11982012] yes=9,no=10,missing=10\\n\\t\\t\\t9:leaf=0.00778633216\\n\\t\\t\\t10:leaf=-0.0402193144\\n\\t2:[f2<0.47385636] yes=5,no=6,missing=6\\n\\t\\t5:[f1<-0.419729859] yes=11,no=12,missing=12\\n\\t\\t\\t11:leaf=0.0516598597\\n\\t\\t\\t12:leaf=-0.0352632999\\n\\t\\t6:leaf=-0.0513190143\\n',\n",
       " '0:[f2<-1.96029973] yes=1,no=2,missing=2\\n\\t1:[f1<15.5156393] yes=3,no=4,missing=4\\n\\t\\t3:[f1<5.85820484] yes=7,no=8,missing=8\\n\\t\\t\\t7:leaf=-0.0497450866\\n\\t\\t\\t8:leaf=-0.0118398666\\n\\t\\t4:[f1<36.2684135] yes=9,no=10,missing=10\\n\\t\\t\\t9:leaf=0.0239786692\\n\\t\\t\\t10:leaf=0.0852925405\\n\\t2:[f1<1.54715884] yes=5,no=6,missing=6\\n\\t\\t5:[f2<-0.556766093] yes=11,no=12,missing=12\\n\\t\\t\\t11:leaf=-0.0425487123\\n\\t\\t\\t12:leaf=0.01210602\\n\\t\\t6:[f2<1.87790096] yes=13,no=14,missing=14\\n\\t\\t\\t13:leaf=0.0560049899\\n\\t\\t\\t14:leaf=0.0226970036\\n',\n",
       " '0:[f2<-0.259267956] yes=1,no=2,missing=2\\n\\t1:[f1<-0.940448999] yes=3,no=4,missing=4\\n\\t\\t3:[f0<9.03982067] yes=7,no=8,missing=8\\n\\t\\t\\t7:leaf=-0.0203123372\\n\\t\\t\\t8:leaf=-0.0434152745\\n\\t\\t4:[f1<36.2684135] yes=9,no=10,missing=10\\n\\t\\t\\t9:leaf=0.00822689384\\n\\t\\t\\t10:leaf=-0.048329927\\n\\t2:[f2<0.018516643] yes=5,no=6,missing=6\\n\\t\\t5:[f0<1.19470084] yes=11,no=12,missing=12\\n\\t\\t\\t11:leaf=-0.0109758992\\n\\t\\t\\t12:leaf=-0.0481333807\\n\\t\\t6:leaf=-0.0520308912\\n',\n",
       " '0:[f2<0.277508199] yes=1,no=2,missing=2\\n\\t1:[f2<-0.312499106] yes=3,no=4,missing=4\\n\\t\\t3:leaf=-0.0523215719\\n\\t\\t4:[f0<1.6258353] yes=7,no=8,missing=8\\n\\t\\t\\t7:leaf=-0.0158021878\\n\\t\\t\\t8:leaf=-0.0491256677\\n\\t2:[f1<-0.450506568] yes=5,no=6,missing=6\\n\\t\\t5:[f2<0.665712416] yes=9,no=10,missing=10\\n\\t\\t\\t9:leaf=0.0214311574\\n\\t\\t\\t10:leaf=0.0539095774\\n\\t\\t6:[f2<1.56385577] yes=11,no=12,missing=12\\n\\t\\t\\t11:leaf=-0.0104423268\\n\\t\\t\\t12:leaf=0.0132956775\\n']"
      ]
     },
     "execution_count": 5,
     "metadata": {},
     "output_type": "execute_result"
    }
   ],
   "source": [
    "# Inspect the structure of the xgboost model\n",
    "\n",
    "clf.get_booster().get_dump()"
   ]
  },
  {
   "cell_type": "code",
   "execution_count": 49,
   "metadata": {},
   "outputs": [],
   "source": [
    "booster = clf.get_booster()"
   ]
  },
  {
   "cell_type": "code",
   "execution_count": 50,
   "metadata": {},
   "outputs": [
    {
     "data": {
      "text/html": [
       "<div>\n",
       "<style scoped>\n",
       "    .dataframe tbody tr th:only-of-type {\n",
       "        vertical-align: middle;\n",
       "    }\n",
       "\n",
       "    .dataframe tbody tr th {\n",
       "        vertical-align: top;\n",
       "    }\n",
       "\n",
       "    .dataframe thead th {\n",
       "        text-align: right;\n",
       "    }\n",
       "</style>\n",
       "<table border=\"1\" class=\"dataframe\">\n",
       "  <thead>\n",
       "    <tr style=\"text-align: right;\">\n",
       "      <th></th>\n",
       "      <th>Tree</th>\n",
       "      <th>Node</th>\n",
       "      <th>ID</th>\n",
       "      <th>Feature</th>\n",
       "      <th>Split</th>\n",
       "      <th>Yes</th>\n",
       "      <th>No</th>\n",
       "      <th>Missing</th>\n",
       "      <th>Gain</th>\n",
       "      <th>Cover</th>\n",
       "      <th>Category</th>\n",
       "    </tr>\n",
       "  </thead>\n",
       "  <tbody>\n",
       "    <tr>\n",
       "      <th>0</th>\n",
       "      <td>0</td>\n",
       "      <td>0</td>\n",
       "      <td>0-0</td>\n",
       "      <td>f1</td>\n",
       "      <td>-0.533402</td>\n",
       "      <td>0-1</td>\n",
       "      <td>0-2</td>\n",
       "      <td>0-2</td>\n",
       "      <td>29.307251</td>\n",
       "      <td>3000.000000</td>\n",
       "      <td>NaN</td>\n",
       "    </tr>\n",
       "    <tr>\n",
       "      <th>1</th>\n",
       "      <td>0</td>\n",
       "      <td>1</td>\n",
       "      <td>0-1</td>\n",
       "      <td>f2</td>\n",
       "      <td>-1.471681</td>\n",
       "      <td>0-3</td>\n",
       "      <td>0-4</td>\n",
       "      <td>0-4</td>\n",
       "      <td>24.694458</td>\n",
       "      <td>1264.875000</td>\n",
       "      <td>NaN</td>\n",
       "    </tr>\n",
       "    <tr>\n",
       "      <th>2</th>\n",
       "      <td>0</td>\n",
       "      <td>2</td>\n",
       "      <td>0-2</td>\n",
       "      <td>f2</td>\n",
       "      <td>-0.370468</td>\n",
       "      <td>0-5</td>\n",
       "      <td>0-6</td>\n",
       "      <td>0-6</td>\n",
       "      <td>2.032593</td>\n",
       "      <td>1735.125000</td>\n",
       "      <td>NaN</td>\n",
       "    </tr>\n",
       "    <tr>\n",
       "      <th>3</th>\n",
       "      <td>0</td>\n",
       "      <td>3</td>\n",
       "      <td>0-3</td>\n",
       "      <td>f2</td>\n",
       "      <td>-3.169234</td>\n",
       "      <td>0-7</td>\n",
       "      <td>0-8</td>\n",
       "      <td>0-8</td>\n",
       "      <td>3.050278</td>\n",
       "      <td>470.625000</td>\n",
       "      <td>NaN</td>\n",
       "    </tr>\n",
       "    <tr>\n",
       "      <th>4</th>\n",
       "      <td>0</td>\n",
       "      <td>4</td>\n",
       "      <td>0-4</td>\n",
       "      <td>f2</td>\n",
       "      <td>0.535078</td>\n",
       "      <td>0-9</td>\n",
       "      <td>0-10</td>\n",
       "      <td>0-10</td>\n",
       "      <td>24.587402</td>\n",
       "      <td>794.250000</td>\n",
       "      <td>NaN</td>\n",
       "    </tr>\n",
       "    <tr>\n",
       "      <th>...</th>\n",
       "      <td>...</td>\n",
       "      <td>...</td>\n",
       "      <td>...</td>\n",
       "      <td>...</td>\n",
       "      <td>...</td>\n",
       "      <td>...</td>\n",
       "      <td>...</td>\n",
       "      <td>...</td>\n",
       "      <td>...</td>\n",
       "      <td>...</td>\n",
       "      <td>...</td>\n",
       "    </tr>\n",
       "    <tr>\n",
       "      <th>1489</th>\n",
       "      <td>99</td>\n",
       "      <td>10</td>\n",
       "      <td>99-10</td>\n",
       "      <td>Leaf</td>\n",
       "      <td>NaN</td>\n",
       "      <td>NaN</td>\n",
       "      <td>NaN</td>\n",
       "      <td>NaN</td>\n",
       "      <td>-0.026594</td>\n",
       "      <td>35.408577</td>\n",
       "      <td>NaN</td>\n",
       "    </tr>\n",
       "    <tr>\n",
       "      <th>1490</th>\n",
       "      <td>99</td>\n",
       "      <td>11</td>\n",
       "      <td>99-11</td>\n",
       "      <td>Leaf</td>\n",
       "      <td>NaN</td>\n",
       "      <td>NaN</td>\n",
       "      <td>NaN</td>\n",
       "      <td>NaN</td>\n",
       "      <td>-0.058119</td>\n",
       "      <td>24.533184</td>\n",
       "      <td>NaN</td>\n",
       "    </tr>\n",
       "    <tr>\n",
       "      <th>1491</th>\n",
       "      <td>99</td>\n",
       "      <td>12</td>\n",
       "      <td>99-12</td>\n",
       "      <td>Leaf</td>\n",
       "      <td>NaN</td>\n",
       "      <td>NaN</td>\n",
       "      <td>NaN</td>\n",
       "      <td>NaN</td>\n",
       "      <td>0.049587</td>\n",
       "      <td>7.177583</td>\n",
       "      <td>NaN</td>\n",
       "    </tr>\n",
       "    <tr>\n",
       "      <th>1492</th>\n",
       "      <td>99</td>\n",
       "      <td>13</td>\n",
       "      <td>99-13</td>\n",
       "      <td>Leaf</td>\n",
       "      <td>NaN</td>\n",
       "      <td>NaN</td>\n",
       "      <td>NaN</td>\n",
       "      <td>NaN</td>\n",
       "      <td>0.095849</td>\n",
       "      <td>70.808792</td>\n",
       "      <td>NaN</td>\n",
       "    </tr>\n",
       "    <tr>\n",
       "      <th>1493</th>\n",
       "      <td>99</td>\n",
       "      <td>14</td>\n",
       "      <td>99-14</td>\n",
       "      <td>Leaf</td>\n",
       "      <td>NaN</td>\n",
       "      <td>NaN</td>\n",
       "      <td>NaN</td>\n",
       "      <td>NaN</td>\n",
       "      <td>-0.041303</td>\n",
       "      <td>19.958366</td>\n",
       "      <td>NaN</td>\n",
       "    </tr>\n",
       "  </tbody>\n",
       "</table>\n",
       "<p>1494 rows × 11 columns</p>\n",
       "</div>"
      ],
      "text/plain": [
       "      Tree  Node     ID Feature  ...  Missing       Gain        Cover Category\n",
       "0        0     0    0-0      f1  ...      0-2  29.307251  3000.000000      NaN\n",
       "1        0     1    0-1      f2  ...      0-4  24.694458  1264.875000      NaN\n",
       "2        0     2    0-2      f2  ...      0-6   2.032593  1735.125000      NaN\n",
       "3        0     3    0-3      f2  ...      0-8   3.050278   470.625000      NaN\n",
       "4        0     4    0-4      f2  ...     0-10  24.587402   794.250000      NaN\n",
       "...    ...   ...    ...     ...  ...      ...        ...          ...      ...\n",
       "1489    99    10  99-10    Leaf  ...      NaN  -0.026594    35.408577      NaN\n",
       "1490    99    11  99-11    Leaf  ...      NaN  -0.058119    24.533184      NaN\n",
       "1491    99    12  99-12    Leaf  ...      NaN   0.049587     7.177583      NaN\n",
       "1492    99    13  99-13    Leaf  ...      NaN   0.095849    70.808792      NaN\n",
       "1493    99    14  99-14    Leaf  ...      NaN  -0.041303    19.958366      NaN\n",
       "\n",
       "[1494 rows x 11 columns]"
      ]
     },
     "execution_count": 50,
     "metadata": {},
     "output_type": "execute_result"
    }
   ],
   "source": [
    "booster.trees_to_dataframe()"
   ]
  },
  {
   "cell_type": "markdown",
   "metadata": {},
   "source": [
    "## Editing model as JSON"
   ]
  },
  {
   "cell_type": "code",
   "execution_count": 51,
   "metadata": {},
   "outputs": [],
   "source": [
    "booster.save_model(\"xgb.json\")"
   ]
  },
  {
   "cell_type": "code",
   "execution_count": 9,
   "metadata": {},
   "outputs": [
    {
     "name": "stdout",
     "output_type": "stream",
     "text": [
      "dict_keys(['learner', 'version'])\n",
      "dict_keys(['attributes', 'feature_names', 'feature_types', 'gradient_booster', 'learner_model_param', 'objective'])\n",
      "dict_keys(['model', 'name'])\n",
      "dict_keys(['gbtree_model_param', 'iteration_indptr', 'tree_info', 'trees'])\n",
      "dict_keys(['base_weights', 'categories', 'categories_nodes', 'categories_segments', 'categories_sizes', 'default_left', 'id', 'left_children', 'loss_changes', 'parents', 'right_children', 'split_conditions', 'split_indices', 'split_type', 'sum_hessian', 'tree_param'])\n"
     ]
    }
   ],
   "source": [
    "# Edit the JSON file to tweak the thresholds, then reload\n",
    "import json\n",
    "from pprint import pprint\n",
    "\n",
    "with open(\"xgb.json\", \"r\") as f:\n",
    "    data = json.load(f)\n",
    "\n",
    "# What are the keys?\n",
    "pprint(data.keys())\n",
    "pprint(data[\"learner\"].keys())\n",
    "pprint(data[\"learner\"][\"gradient_booster\"].keys())\n",
    "pprint(data[\"learner\"][\"gradient_booster\"][\"model\"].keys())\n",
    "\n",
    "# Trees should be stored in \"gradient_booster\" -> \"model\" -> \"trees\"\n",
    "# Let's look at one of them\n",
    "pprint(data[\"learner\"][\"gradient_booster\"][\"model\"][\"trees\"][0].keys())"
   ]
  },
  {
   "cell_type": "code",
   "execution_count": 65,
   "metadata": {},
   "outputs": [
    {
     "name": "stdout",
     "output_type": "stream",
     "text": [
      "{'base_weights': [-0.51316226,\n",
      "                  -0.39676112,\n",
      "                  -0.5977392,\n",
      "                  -0.57831967,\n",
      "                  -0.2885885,\n",
      "                  -0.64993507,\n",
      "                  -0.57121295,\n",
      "                  -0.06465899,\n",
      "                  -0.047406435,\n",
      "                  -0.014033209,\n",
      "                  -0.04977238,\n",
      "                  -0.051063832,\n",
      "                  -0.06546601,\n",
      "                  -0.051215805,\n",
      "                  -0.064742476],\n",
      " 'categories': [],\n",
      " 'categories_nodes': [],\n",
      " 'categories_segments': [],\n",
      " 'categories_sizes': [],\n",
      " 'default_left': [0, 0, 0, 0, 0, 0, 0, 0, 0, 0, 0, 0, 0, 0, 0],\n",
      " 'id': 0,\n",
      " 'left_children': [1, 3, 5, 7, 9, 11, 13, -1, -1, -1, -1, -1, -1, -1, -1],\n",
      " 'loss_changes': [29.307251,\n",
      "                  24.694458,\n",
      "                  2.0325928,\n",
      "                  3.0502777,\n",
      "                  24.587402,\n",
      "                  0.045959473,\n",
      "                  4.886383,\n",
      "                  0.0,\n",
      "                  0.0,\n",
      "                  0.0,\n",
      "                  0.0,\n",
      "                  0.0,\n",
      "                  0.0,\n",
      "                  0.0,\n",
      "                  0.0],\n",
      " 'parents': [2147483647, 0, 0, 1, 1, 2, 2, 3, 3, 4, 4, 5, 5, 6, 6],\n",
      " 'right_children': [2, 4, 6, 8, 10, 12, 14, -1, -1, -1, -1, -1, -1, -1, -1],\n",
      " 'split_conditions': [-0.5334024,\n",
      "                      -1.4716806,\n",
      "                      -0.37046772,\n",
      "                      -3.169234,\n",
      "                      0.53507775,\n",
      "                      -0.4983053,\n",
      "                      0.27762553,\n",
      "                      -0.06465899,\n",
      "                      -0.047406435,\n",
      "                      -0.014033209,\n",
      "                      -0.04977238,\n",
      "                      -0.051063832,\n",
      "                      -0.06546601,\n",
      "                      -0.051215805,\n",
      "                      -0.064742476],\n",
      " 'split_indices': [1, 2, 2, 2, 2, 1, 1, 0, 0, 0, 0, 0, 0, 0, 0],\n",
      " 'split_type': [0, 0, 0, 0, 0, 0, 0, 0, 0, 0, 0, 0, 0, 0, 0],\n",
      " 'sum_hessian': [3000.0,\n",
      "                 1264.875,\n",
      "                 1735.125,\n",
      "                 470.625,\n",
      "                 794.25,\n",
      "                 576.75,\n",
      "                 1158.375,\n",
      "                 281.25,\n",
      "                 189.375,\n",
      "                 465.75,\n",
      "                 328.5,\n",
      "                 22.5,\n",
      "                 554.25,\n",
      "                 657.0,\n",
      "                 501.375],\n",
      " 'tree_param': {'num_deleted': '0',\n",
      "                'num_feature': '3',\n",
      "                'num_nodes': '15',\n",
      "                'size_leaf_vector': '1'}}\n"
     ]
    }
   ],
   "source": [
    "pprint(data[\"learner\"][\"gradient_booster\"][\"model\"][\"trees\"][0])"
   ]
  },
  {
   "cell_type": "code",
   "execution_count": 74,
   "metadata": {},
   "outputs": [
    {
     "name": "stdout",
     "output_type": "stream",
     "text": [
      "0.0\n"
     ]
    }
   ],
   "source": [
    "# Let's try to make an edited version of the JSON file and save it, then load it again\n",
    "\n",
    "data_modified = data.copy()\n",
    "\n",
    "for tree in data_modified[\"learner\"][\"gradient_booster\"][\"model\"][\"trees\"]:\n",
    "    tree[\"split_conditions\"] = [-t for t in tree[\"split_conditions\"]]\n",
    "\n",
    "with open(\"xgb_modified.json\", \"w\") as f:\n",
    "    json.dump(data_modified, f)\n",
    "\n",
    "clf2 = XGBClassifier(n_estimators=25, max_depth=3, learning_rate=0.1, validate_parameters=True)\n",
    "clf2.load_model(\"xgb_modified.json\")\n",
    "\n",
    "print(accuracy_score(y_test, clf2.predict(X_test)))"
   ]
  },
  {
   "cell_type": "code",
   "execution_count": 2,
   "metadata": {},
   "outputs": [
    {
     "name": "stdout",
     "output_type": "stream",
     "text": [
      "0.775\n"
     ]
    }
   ],
   "source": [
    "%load_ext autoreload\n",
    "%autoreload 2\n",
    "\n",
    "from sklearn.model_selection import train_test_split\n",
    "from hyperdt.toy_data import wrapped_normal_mixture\n",
    "from hyperdt.xgboost import HyperbolicXGBoostClassifier\n",
    "from sklearn.metrics import accuracy_score\n",
    "\n",
    "X, y = wrapped_normal_mixture(num_points=1_000, num_classes=4, num_dims=2)\n",
    "\n",
    "X_train, X_test, y_train, y_test = train_test_split(X, y, test_size=0.2)\n",
    "\n",
    "clf = HyperbolicXGBoostClassifier(n_estimators=25, max_depth=3, learning_rate=0.1, validate_parameters=True)\n",
    "clf.fit(X_train, y_train)\n",
    "print(accuracy_score(y_test, clf.predict(X_test)))\n"
   ]
  },
  {
   "cell_type": "code",
   "execution_count": 4,
   "metadata": {},
   "outputs": [
    {
     "name": "stdout",
     "output_type": "stream",
     "text": [
      "0.795\n"
     ]
    }
   ],
   "source": [
    "from sklearn.ensemble import RandomForestClassifier\n",
    "\n",
    "rf = RandomForestClassifier(n_estimators=25, max_depth=3)\n",
    "rf.fit(X_train, y_train)\n",
    "print(accuracy_score(y_test, rf.predict(X_test)))\n"
   ]
  },
  {
   "cell_type": "code",
   "execution_count": 5,
   "metadata": {},
   "outputs": [
    {
     "name": "stdout",
     "output_type": "stream",
     "text": [
      "0.79\n"
     ]
    }
   ],
   "source": [
    "from hyperdt.ensemble import HyperbolicRandomForestClassifier\n",
    "\n",
    "hrf = HyperbolicRandomForestClassifier(n_estimators=25, max_depth=3)\n",
    "hrf.fit(X_train, y_train)\n",
    "print(accuracy_score(y_test, hrf.predict(X_test)))"
   ]
  },
  {
   "cell_type": "markdown",
   "metadata": {},
   "source": [
    "## Auditing indices"
   ]
  },
  {
   "cell_type": "code",
   "execution_count": null,
   "metadata": {},
   "outputs": [],
   "source": []
  }
 ],
 "metadata": {
  "kernelspec": {
   "display_name": "base",
   "language": "python",
   "name": "python3"
  },
  "language_info": {
   "codemirror_mode": {
    "name": "ipython",
    "version": 3
   },
   "file_extension": ".py",
   "mimetype": "text/x-python",
   "name": "python",
   "nbconvert_exporter": "python",
   "pygments_lexer": "ipython3",
   "version": "3.12.2"
  }
 },
 "nbformat": 4,
 "nbformat_minor": 2
}
