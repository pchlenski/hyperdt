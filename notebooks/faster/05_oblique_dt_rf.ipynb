{
 "cells": [
  {
   "cell_type": "markdown",
   "metadata": {},
   "source": [
    "# Oblique decision trees and random forests\n",
    "> This should also be a wrapper, I think"
   ]
  },
  {
   "cell_type": "markdown",
   "metadata": {},
   "source": [
    "## Import and install packages"
   ]
  },
  {
   "cell_type": "code",
   "execution_count": 1,
   "metadata": {},
   "outputs": [],
   "source": [
    "%load_ext autoreload\n",
    "%autoreload 2\n"
   ]
  },
  {
   "cell_type": "code",
   "execution_count": 2,
   "metadata": {},
   "outputs": [
    {
     "name": "stdout",
     "output_type": "stream",
     "text": [
      "Requirement already satisfied: numba in /home/phil/miniconda3/lib/python3.12/site-packages (0.61.0)\n",
      "Requirement already satisfied: llvmlite<0.45,>=0.44.0dev0 in /home/phil/miniconda3/lib/python3.12/site-packages (from numba) (0.44.0)\n",
      "Requirement already satisfied: numpy<2.2,>=1.24 in /home/phil/miniconda3/lib/python3.12/site-packages (from numba) (1.26.4)\n",
      "Requirement already satisfied: scikit-obliquetree in /home/phil/miniconda3/lib/python3.12/site-packages (0.1.4)\n",
      "Requirement already satisfied: rich<10.0.0,>=9.8.2 in /home/phil/miniconda3/lib/python3.12/site-packages (from scikit-obliquetree) (9.13.0)\n",
      "Requirement already satisfied: typer<0.4.0,>=0.3.2 in /home/phil/miniconda3/lib/python3.12/site-packages (from typer[all]<0.4.0,>=0.3.2->scikit-obliquetree) (0.3.2)\n",
      "Requirement already satisfied: colorama<0.5.0,>=0.4.0 in /home/phil/miniconda3/lib/python3.12/site-packages (from rich<10.0.0,>=9.8.2->scikit-obliquetree) (0.4.6)\n",
      "Requirement already satisfied: commonmark<0.10.0,>=0.9.0 in /home/phil/miniconda3/lib/python3.12/site-packages (from rich<10.0.0,>=9.8.2->scikit-obliquetree) (0.9.1)\n",
      "Requirement already satisfied: pygments<3.0.0,>=2.6.0 in /home/phil/miniconda3/lib/python3.12/site-packages (from rich<10.0.0,>=9.8.2->scikit-obliquetree) (2.19.1)\n",
      "Requirement already satisfied: typing-extensions<4.0.0,>=3.7.4 in /home/phil/miniconda3/lib/python3.12/site-packages (from rich<10.0.0,>=9.8.2->scikit-obliquetree) (3.10.0.2)\n",
      "Requirement already satisfied: click<7.2.0,>=7.1.1 in /home/phil/miniconda3/lib/python3.12/site-packages (from typer<0.4.0,>=0.3.2->typer[all]<0.4.0,>=0.3.2->scikit-obliquetree) (7.1.2)\n",
      "Requirement already satisfied: shellingham<2.0.0,>=1.3.0 in /home/phil/miniconda3/lib/python3.12/site-packages (from typer[all]<0.4.0,>=0.3.2->scikit-obliquetree) (1.5.4)\n"
     ]
    }
   ],
   "source": [
    "!pip install numba\n",
    "!pip install scikit-obliquetree"
   ]
  },
  {
   "cell_type": "code",
   "execution_count": 3,
   "metadata": {},
   "outputs": [
    {
     "name": "stdout",
     "output_type": "stream",
     "text": [
      "0.1.4\n",
      "0.61.0\n"
     ]
    }
   ],
   "source": [
    "import scikit_obliquetree\n",
    "import numba\n",
    "\n",
    "print(scikit_obliquetree.__version__)\n",
    "print(numba.__version__)"
   ]
  },
  {
   "cell_type": "code",
   "execution_count": 4,
   "metadata": {},
   "outputs": [],
   "source": [
    "# There are 3 oblique algorihms: BUTIF, HHCART, and CO2\n",
    "# Let's grab all of them\n",
    "from scikit_obliquetree.BUTIF import BUTIF\n",
    "\n",
    "from scikit_obliquetree.HHCART import HouseHolderCART\n",
    "from scikit_obliquetree.segmentor import MeanSegmentor, MSE\n",
    "\n",
    "from scikit_obliquetree.CO2 import ContinuouslyOptimizedObliqueRegressionTree"
   ]
  },
  {
   "cell_type": "markdown",
   "metadata": {},
   "source": [
    "## Inspect HHCart"
   ]
  },
  {
   "cell_type": "code",
   "execution_count": 5,
   "metadata": {},
   "outputs": [
    {
     "name": "stdout",
     "output_type": "stream",
     "text": [
      "0.825\n"
     ]
    }
   ],
   "source": [
    "from hyperdt.toy_data import wrapped_normal_mixture\n",
    "from sklearn.model_selection import train_test_split\n",
    "from sklearn.metrics import accuracy_score\n",
    "\n",
    "data, labels = wrapped_normal_mixture(num_dims=2, num_classes=2, num_points=1000, seed=42, noise_std=2)\n",
    "X_train, X_test, y_train, y_test = train_test_split(data, labels, test_size=0.2, random_state=42)\n",
    "\n",
    "# Fit a BUTIF tree\n",
    "hhcart = HouseHolderCART(task=\"classification\", impurity=MSE(), segmentor=MeanSegmentor())\n",
    "hhcart.fit(X_train, y_train)\n",
    "print(accuracy_score(y_test, hhcart.predict(X_test)))"
   ]
  },
  {
   "cell_type": "code",
   "execution_count": 6,
   "metadata": {},
   "outputs": [
    {
     "data": {
      "text/plain": [
       "{'depth': 0,\n",
       " 'labels': array([1, 1, 1, 1, 0, 1, 1, 0, 1, 0, 0, 1, 1, 1, 1, 1, 0, 1, 0, 0, 0, 1,\n",
       "        1, 1, 1, 1, 0, 0, 1, 1, 1, 1, 1, 0, 1, 0, 1, 1, 1, 1, 0, 0, 1, 1,\n",
       "        1, 1, 1, 1, 0, 1, 0, 1, 1, 1, 0, 1, 0, 0, 0, 0, 1, 1, 1, 1, 0, 1,\n",
       "        1, 1, 1, 1, 1, 1, 1, 0, 1, 1, 1, 0, 0, 0, 1, 1, 1, 1, 1, 1, 0, 1,\n",
       "        1, 1, 0, 1, 0, 1, 0, 0, 1, 1, 1, 0, 1, 0, 1, 0, 1, 0, 1, 1, 0, 0,\n",
       "        1, 1, 0, 1, 0, 1, 1, 0, 1, 1, 1, 0, 1, 1, 1, 1, 1, 1, 0, 0, 0, 0,\n",
       "        1, 1, 1, 0, 1, 1, 1, 1, 0, 0, 0, 0, 1, 1, 1, 1, 0, 0, 1, 1, 1, 1,\n",
       "        0, 0, 0, 1, 1, 1, 1, 0, 1, 0, 1, 0, 1, 1, 1, 1, 1, 1, 0, 1, 1, 1,\n",
       "        1, 1, 1, 1, 1, 1, 1, 1, 1, 1, 1, 1, 0, 1, 1, 0, 0, 1, 0, 1, 1, 0,\n",
       "        0, 1, 0, 1, 0, 1, 1, 1, 0, 0, 1, 1, 1, 0, 1, 1, 1, 0, 1, 0, 1, 1,\n",
       "        0, 1, 1, 0, 1, 1, 1, 0, 0, 0, 1, 1, 0, 1, 1, 1, 1, 0, 0, 1, 1, 0,\n",
       "        0, 1, 0, 0, 1, 0, 1, 1, 0, 1, 1, 0, 1, 1, 1, 0, 1, 0, 1, 0, 0, 1,\n",
       "        1, 0, 0, 1, 1, 1, 1, 0, 1, 1, 0, 1, 1, 1, 1, 1, 0, 1, 0, 1, 1, 0,\n",
       "        1, 0, 1, 0, 1, 1, 1, 1, 1, 1, 1, 0, 0, 0, 0, 0, 1, 0, 1, 1, 0, 1,\n",
       "        0, 1, 1, 0, 0, 1, 0, 0, 1, 1, 1, 0, 0, 1, 0, 1, 0, 0, 1, 1, 1, 0,\n",
       "        0, 1, 0, 1, 1, 1, 0, 1, 1, 1, 0, 1, 0, 0, 0, 1, 1, 1, 1, 0, 1, 1,\n",
       "        1, 1, 1, 0, 0, 1, 0, 1, 0, 1, 0, 0, 0, 1, 0, 1, 1, 1, 0, 1, 1, 0,\n",
       "        0, 0, 1, 1, 0, 0, 1, 0, 0, 1, 0, 1, 1, 0, 0, 1, 1, 0, 1, 0, 1, 1,\n",
       "        1, 0, 0, 0, 1, 0, 1, 1, 1, 0, 0, 0, 0, 1, 1, 0, 1, 0, 0, 0, 0, 1,\n",
       "        1, 0, 1, 0, 1, 0, 1, 1, 0, 1, 0, 1, 1, 1, 1, 1, 0, 1, 0, 1, 1, 1,\n",
       "        1, 1, 1, 0, 1, 0, 1, 1, 0, 0, 1, 1, 0, 1, 1, 1, 0, 1, 0, 0, 1, 0,\n",
       "        1, 1, 1, 0, 0, 1, 0, 1, 0, 0, 1, 0, 1, 0, 1, 1, 1, 0, 0, 1, 1, 0,\n",
       "        1, 1, 0, 0, 1, 1, 0, 0, 0, 0, 1, 1, 0, 1, 1, 0, 1, 1, 0, 1, 1, 1,\n",
       "        1, 0, 1, 1, 1, 1, 1, 1, 1, 1, 0, 0, 1, 1, 1, 0, 1, 0, 0, 1, 1, 0,\n",
       "        1, 0, 1, 0, 1, 0, 1, 1, 1, 1, 0, 1, 1, 1, 0, 1, 0, 1, 1, 0, 1, 1,\n",
       "        0, 1, 1, 0, 1, 0, 0, 0, 0, 0, 1, 1, 0, 0, 1, 0, 1, 1, 1, 1, 1, 0,\n",
       "        0, 0, 0, 0, 1, 1, 1, 0, 1, 0, 0, 0, 1, 1, 1, 0, 1, 1, 1, 0, 1, 0,\n",
       "        1, 0, 1, 0, 0, 1, 1, 0, 1, 1, 1, 1, 1, 1, 0, 1, 1, 1, 0, 0, 0, 1,\n",
       "        0, 1, 1, 1, 1, 0, 0, 0, 1, 1, 1, 0, 0, 0, 1, 0, 0, 1, 0, 1, 0, 1,\n",
       "        1, 1, 0, 1, 0, 1, 0, 1, 1, 0, 1, 1, 1, 1, 1, 1, 0, 1, 0, 1, 1, 0,\n",
       "        1, 1, 0, 1, 0, 0, 1, 1, 1, 1, 0, 1, 0, 1, 0, 0, 0, 0, 0, 1, 0, 1,\n",
       "        1, 0, 1, 0, 0, 1, 0, 1, 1, 1, 1, 1, 1, 0, 0, 1, 1, 1, 0, 0, 1, 1,\n",
       "        0, 1, 1, 1, 1, 1, 1, 1, 0, 0, 0, 0, 1, 0, 0, 0, 1, 1, 1, 1, 1, 0,\n",
       "        1, 0, 1, 1, 1, 1, 0, 0, 0, 0, 1, 1, 0, 0, 1, 0, 0, 1, 0, 1, 1, 1,\n",
       "        1, 1, 1, 1, 0, 1, 1, 1, 0, 1, 0, 1, 0, 1, 0, 1, 1, 1, 1, 1, 1, 0,\n",
       "        0, 0, 1, 1, 1, 1, 1, 1, 1, 1, 0, 0, 0, 0, 1, 0, 0, 1, 1, 1, 1, 1,\n",
       "        1, 0, 1, 0, 0, 0, 1, 1]),\n",
       " 'is_leaf': False,\n",
       " '_split_rules': (0, 2.067013533140263),\n",
       " '_weights': array([ 0.14252353, -0.39110126,  0.90924521,  2.06701353]),\n",
       " '_left_child': <scikit_obliquetree.HHCART.HHCARTNode at 0x76971ab27ce0>,\n",
       " '_right_child': <scikit_obliquetree.HHCART.HHCARTNode at 0x7696929fa900>}"
      ]
     },
     "execution_count": 6,
     "metadata": {},
     "output_type": "execute_result"
    }
   ],
   "source": [
    "hhcart._root.__dict__"
   ]
  },
  {
   "cell_type": "markdown",
   "metadata": {},
   "source": [
    "The decision rule for HHCart is:\n",
    "\n",
    "```\n",
    "X @ weights[:-1] < weights[-1]\n",
    "```"
   ]
  },
  {
   "cell_type": "markdown",
   "metadata": {},
   "source": [
    "## Testing our implementation"
   ]
  },
  {
   "cell_type": "code",
   "execution_count": 7,
   "metadata": {},
   "outputs": [
    {
     "name": "stdout",
     "output_type": "stream",
     "text": [
      "0.81\n"
     ]
    }
   ],
   "source": [
    "from hyperdt.oblique import HyperbolicHouseHolderClassifier\n",
    "\n",
    "h_hhcart = HyperbolicHouseHolderClassifier()\n",
    "h_hhcart.fit(X_train, y_train)\n",
    "print(accuracy_score(y_test, h_hhcart.predict(X_test)))"
   ]
  },
  {
   "cell_type": "markdown",
   "metadata": {},
   "source": [
    "## Same thing for CO2"
   ]
  },
  {
   "cell_type": "code",
   "execution_count": 8,
   "metadata": {},
   "outputs": [
    {
     "name": "stdout",
     "output_type": "stream",
     "text": [
      "0.845\n"
     ]
    }
   ],
   "source": [
    "co2 = ContinuouslyOptimizedObliqueRegressionTree(impurity=MSE(), segmentor=MeanSegmentor(), task=\"classification\")\n",
    "co2.fit(X_train, y_train)\n",
    "y_pred = (co2.predict(X_test) > 0.5).astype(int)\n",
    "print(accuracy_score(y_test, y_pred))"
   ]
  },
  {
   "cell_type": "code",
   "execution_count": 18,
   "metadata": {},
   "outputs": [
    {
     "name": "stdout",
     "output_type": "stream",
     "text": [
      "0.83\n"
     ]
    }
   ],
   "source": [
    "from hyperdt.oblique import HyperbolicContinuouslyOptimizedClassifier\n",
    "\n",
    "h_co2 = HyperbolicContinuouslyOptimizedClassifier(midpoint_method=\"naive\")\n",
    "h_co2.fit(X_train, y_train)\n",
    "y_pred = h_co2.predict(X_test)\n",
    "print(accuracy_score(y_test, y_pred))"
   ]
  },
  {
   "cell_type": "code",
   "execution_count": 27,
   "metadata": {},
   "outputs": [
    {
     "name": "stdout",
     "output_type": "stream",
     "text": [
      "0.11212182968717822\n"
     ]
    }
   ],
   "source": [
    "# Test the regressor\n",
    "\n",
    "from hyperdt.oblique import HyperbolicContinuouslyOptimizedRegressor\n",
    "from sklearn.metrics import mean_squared_error\n",
    "\n",
    "h_co2 = HyperbolicContinuouslyOptimizedRegressor(midpoint_method=\"naive\")\n",
    "h_co2.fit(X_train, y_train.astype(float))\n",
    "y_pred = h_co2.predict(X_test)\n",
    "print(mean_squared_error(y_test.astype(float), y_pred))"
   ]
  },
  {
   "cell_type": "code",
   "execution_count": 35,
   "metadata": {},
   "outputs": [],
   "source": [
    "def hyperbolic_data():\n",
    "    \"\"\"Generate hyperbolic data for testing.\"\"\"\n",
    "    # Generate data that satisfies hyperboloid constraints\n",
    "    n_samples = 100\n",
    "    n_features = 5\n",
    "    manifold_dim = n_features - 1\n",
    "\n",
    "    # Use the wrapped_normal_mixture function from toy_data\n",
    "    X, y_class = wrapped_normal_mixture(num_points=n_samples, num_classes=3, num_dims=manifold_dim, seed=42)\n",
    "\n",
    "    # Create regression targets\n",
    "    y_reg = np.sin(X[:, 1]) + np.cos(X[:, 2]) + 0.1 * np.random.randn(len(X))\n",
    "\n",
    "    return X, y_class, y_reg\n",
    "\n",
    "\n",
    "# def test_co2_classifier(hyperbolic_data):\n",
    "#     \"\"\"Test that HyperbolicContinuouslyOptimizedClassifier works.\"\"\"\n",
    "#     X, y_class, _ = hyperbolic_data\n",
    "\n",
    "#     # Test CO2 classifier\n",
    "#     co2_clf = HyperbolicContinuouslyOptimizedClassifier(\n",
    "#         max_depth=3, curvature=1.0, timelike_dim=0, validate_input_geometry=False\n",
    "#     )\n",
    "#     co2_clf.fit(X, y_class)\n",
    "#     co2_y_pred = co2_clf.predict(X)\n",
    "\n",
    "#     assert co2_y_pred.shape == y_class.shape\n",
    "\n",
    "X, y_class, y_reg = hyperbolic_data()\n",
    "\n",
    "binary_y = (y_class <= 1).astype(int)  # Convert to binary: class 0 and classes 1,2 combined\n",
    "\n",
    "# Test CO2 classifier\n",
    "co2_clf = HyperbolicContinuouslyOptimizedClassifier(\n",
    "    max_depth=3, curvature=1.0, timelike_dim=0, validate_input_geometry=False\n",
    ")\n",
    "co2_clf.fit(X, binary_y)\n",
    "co2_y_pred = co2_clf.predict(X)\n",
    "\n",
    "assert co2_y_pred.shape == binary_y.shape\n",
    "\n",
    "co2_reg = HyperbolicContinuouslyOptimizedRegressor(\n",
    "    max_depth=3, curvature=1.0, timelike_dim=0, validate_input_geometry=False\n",
    ")\n",
    "co2_reg.fit(X, y_reg)\n",
    "co2_y_pred_reg = co2_reg.predict(X)\n",
    "\n",
    "assert co2_y_pred_reg.shape == y_reg.shape"
   ]
  },
  {
   "cell_type": "code",
   "execution_count": null,
   "metadata": {},
   "outputs": [],
   "source": []
  }
 ],
 "metadata": {
  "kernelspec": {
   "display_name": "base",
   "language": "python",
   "name": "python3"
  },
  "language_info": {
   "codemirror_mode": {
    "name": "ipython",
    "version": 3
   },
   "file_extension": ".py",
   "mimetype": "text/x-python",
   "name": "python",
   "nbconvert_exporter": "python",
   "pygments_lexer": "ipython3",
   "version": "3.12.2"
  }
 },
 "nbformat": 4,
 "nbformat_minor": 2
}
