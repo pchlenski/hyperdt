{
 "cells": [
  {
   "cell_type": "code",
   "execution_count": 1,
   "id": "97f5cb60",
   "metadata": {},
   "outputs": [],
   "source": [
    "%load_ext autoreload\n",
    "%autoreload 2"
   ]
  },
  {
   "cell_type": "code",
   "execution_count": 2,
   "id": "a2b7323e",
   "metadata": {},
   "outputs": [],
   "source": [
    "from hyperdt.tree import HyperbolicDecisionTreeClassifier, HyperbolicDecisionTreeRegressor\n",
    "from hyperdt.ensemble import HyperbolicRandomForestClassifier, HyperbolicRandomForestRegressor\n",
    "from hyperdt.xgboost import HyperbolicXGBoostClassifier, HyperbolicXGBoostRegressor\n",
    "from hyperdt.oblique import HyperbolicContinuouslyOptimizedClassifier, HyperbolicHouseHolderClassifier, HyperbolicContinuouslyOptimizedRegressor, HyperbolicHouseHolderRegressor\n",
    "\n",
    "from sklearn.tree import DecisionTreeClassifier, DecisionTreeRegressor\n",
    "from sklearn.ensemble import RandomForestClassifier, RandomForestRegressor"
   ]
  },
  {
   "cell_type": "markdown",
   "id": "2d68753f",
   "metadata": {},
   "source": [
    "# Benchmark table"
   ]
  },
  {
   "cell_type": "code",
   "execution_count": null,
   "id": "5744ec92",
   "metadata": {},
   "outputs": [],
   "source": [
    "import numpy as np\n",
    "import pandas as pd\n",
    "\n",
    "from hyperdt.toy_data import wrapped_normal_mixture\n",
    "from sklearn.model_selection import train_test_split\n",
    "from sklearn.metrics import accuracy_score, mean_squared_error\n",
    "\n",
    "from tqdm import tqdm\n",
    "\n",
    "N_CLASSES = 8\n",
    "N_POINTS = 1000\n",
    "N_TRIALS = 100\n",
    "DIMS = [2, 4, 8, 16, 32, 64, 128]\n",
    "\n",
    "# Hyperparameters\n",
    "MAX_DEPTH = 3\n",
    "N_ESTIMATORS = 12"
   ]
  },
  {
   "cell_type": "markdown",
   "id": "99ea030e",
   "metadata": {},
   "source": [
    "## Classification"
   ]
  },
  {
   "cell_type": "code",
   "execution_count": 44,
   "id": "4555ea3f",
   "metadata": {},
   "outputs": [
    {
     "name": "stderr",
     "output_type": "stream",
     "text": [
      "  0%|          | 0/6300 [00:00<?, ?it/s]"
     ]
    },
    {
     "name": "stderr",
     "output_type": "stream",
     "text": [
      "100%|██████████| 6300/6300 [36:42<00:00,  2.86it/s]\n",
      "100%|█████████▉| 6299/6300 [18:07<00:00,  2.35it/s]"
     ]
    }
   ],
   "source": [
    "MODELS = {\n",
    "    \"LorentzDT\": (DecisionTreeClassifier, {\"max_depth\": MAX_DEPTH, \"min_samples_split\": 2, \"min_samples_leaf\": 1}),\n",
    "    \"LorentzRF\": (RandomForestClassifier, {\"max_depth\": MAX_DEPTH, \"min_samples_split\": 2, \"min_samples_leaf\": 1, \"n_estimators\": N_ESTIMATORS, \"n_jobs\": -1}),\n",
    "    \"KleinDT\":   (HyperbolicDecisionTreeClassifier, {\"max_depth\": MAX_DEPTH, \"min_samples_split\": 2, \"min_samples_leaf\": 1, \"midpoint_method\": \"naive\", \"validate_input_geometry\": False}),\n",
    "    \"KleinRF\": (HyperbolicRandomForestClassifier, {\"max_depth\": MAX_DEPTH, \"min_samples_split\": 2, \"min_samples_leaf\": 1, \"n_estimators\": N_ESTIMATORS, \"n_jobs\": -1, \"midpoint_method\": \"naive\", \"validate_input_geometry\": False}),\n",
    "    \"HyperDT\": (HyperbolicDecisionTreeClassifier, {\"max_depth\": MAX_DEPTH, \"min_samples_split\": 2, \"min_samples_leaf\": 1, \"validate_input_geometry\": False}),\n",
    "    \"HyperRF\": (HyperbolicRandomForestClassifier, {\"max_depth\": MAX_DEPTH, \"min_samples_split\": 2, \"min_samples_leaf\": 1, \"n_estimators\": N_ESTIMATORS, \"n_jobs\": -1, \"validate_input_geometry\": False}),\n",
    "    \"XGBoost\": (HyperbolicXGBoostClassifier, {\"max_depth\": MAX_DEPTH, \"n_estimators\": N_ESTIMATORS, \"n_jobs\": -1, \"validate_input_geometry\": False}),\n",
    "    \"HyperCO2\": (HyperbolicContinuouslyOptimizedClassifier, {\"max_depth\": MAX_DEPTH, \"min_samples_split\": 2, \"n_estimators\": N_ESTIMATORS, \"validate_input_geometry\": False}),\n",
    "    \"HyperHHC\": (HyperbolicHouseHolderClassifier, {\"max_depth\": MAX_DEPTH, \"min_samples_split\": 2, \"n_estimators\": N_ESTIMATORS, \"validate_input_geometry\": False}),\n",
    "}\n",
    "\n",
    "seed = -1\n",
    "results = pd.DataFrame(columns=[\"dim\", \"seed\", \"model\", \"accuracy\"])\n",
    "my_tqdm = tqdm(total=len(MODELS) * N_TRIALS * len(DIMS))\n",
    "for dim in DIMS:\n",
    "    for trial in range(N_TRIALS):\n",
    "        seed += 1\n",
    "        split_passes = False\n",
    "        while not split_passes:\n",
    "            try:\n",
    "                X, y = wrapped_normal_mixture(num_points=N_POINTS, num_dims=dim, seed=seed, num_classes=N_CLASSES)\n",
    "                y = np.unique(y, return_inverse=True)[1]\n",
    "                X_train, X_test, y_train, y_test = train_test_split(X, y, test_size=0.2, random_state=seed, stratify=y)\n",
    "                split_passes = True\n",
    "            except Exception as e:\n",
    "                # print(e)\n",
    "                seed += 1\n",
    "                split_passes = False \n",
    "\n",
    "        for model_name, (model, params) in MODELS.items():\n",
    "            try:\n",
    "                m = model(**params)\n",
    "                m.fit(X_train, y_train)\n",
    "                acc = accuracy_score(y_test, m.predict(X_test))\n",
    "\n",
    "                results.loc[len(results)] = [dim, trial, model_name, acc]\n",
    "            except Exception as e:\n",
    "                print(f\"Error with model {model_name} on trial {trial}: {e}\")\n",
    "\n",
    "            my_tqdm.update(1)"
   ]
  },
  {
   "cell_type": "code",
   "execution_count": 45,
   "id": "6fe70b08",
   "metadata": {},
   "outputs": [],
   "source": [
    "results.to_csv(\"classification_benchmarks.csv\")"
   ]
  },
  {
   "cell_type": "markdown",
   "id": "a98f9d1e",
   "metadata": {},
   "source": [
    "## Regression"
   ]
  },
  {
   "cell_type": "code",
   "execution_count": 26,
   "id": "0c6edbae",
   "metadata": {},
   "outputs": [
    {
     "name": "stderr",
     "output_type": "stream",
     "text": [
      "100%|██████████| 6300/6300 [18:15<00:00,  5.75it/s]"
     ]
    },
    {
     "name": "stderr",
     "output_type": "stream",
     "text": [
      "\n"
     ]
    },
    {
     "name": "stdout",
     "output_type": "stream",
     "text": [
      "Error with model XGBoost on trial 1; seed 1: zero-size array to reduction operation minimum which has no identity\n"
     ]
    },
    {
     "name": "stderr",
     "output_type": "stream",
     "text": []
    },
    {
     "name": "stdout",
     "output_type": "stream",
     "text": [
      "Error with model XGBoost on trial 10; seed 10: zero-size array to reduction operation minimum which has no identity\n"
     ]
    },
    {
     "name": "stderr",
     "output_type": "stream",
     "text": []
    },
    {
     "name": "stdout",
     "output_type": "stream",
     "text": [
      "Error with model XGBoost on trial 15; seed 15: zero-size array to reduction operation minimum which has no identity\n"
     ]
    },
    {
     "name": "stderr",
     "output_type": "stream",
     "text": []
    },
    {
     "name": "stdout",
     "output_type": "stream",
     "text": [
      "Error with model XGBoost on trial 16; seed 16: zero-size array to reduction operation minimum which has no identity\n"
     ]
    },
    {
     "name": "stderr",
     "output_type": "stream",
     "text": []
    },
    {
     "name": "stdout",
     "output_type": "stream",
     "text": [
      "Error with model XGBoost on trial 22; seed 22: zero-size array to reduction operation maximum which has no identity\n"
     ]
    },
    {
     "name": "stderr",
     "output_type": "stream",
     "text": []
    },
    {
     "name": "stdout",
     "output_type": "stream",
     "text": [
      "Error with model XGBoost on trial 27; seed 27: zero-size array to reduction operation minimum which has no identity\n"
     ]
    },
    {
     "name": "stderr",
     "output_type": "stream",
     "text": []
    },
    {
     "name": "stdout",
     "output_type": "stream",
     "text": [
      "Error with model XGBoost on trial 28; seed 28: zero-size array to reduction operation minimum which has no identity\n"
     ]
    },
    {
     "name": "stderr",
     "output_type": "stream",
     "text": []
    },
    {
     "name": "stdout",
     "output_type": "stream",
     "text": [
      "Error with model XGBoost on trial 36; seed 36: zero-size array to reduction operation minimum which has no identity\n"
     ]
    },
    {
     "name": "stderr",
     "output_type": "stream",
     "text": []
    },
    {
     "name": "stdout",
     "output_type": "stream",
     "text": [
      "Error with model XGBoost on trial 37; seed 37: zero-size array to reduction operation minimum which has no identity\n"
     ]
    },
    {
     "name": "stderr",
     "output_type": "stream",
     "text": []
    },
    {
     "name": "stdout",
     "output_type": "stream",
     "text": [
      "Error with model XGBoost on trial 48; seed 48: zero-size array to reduction operation minimum which has no identity\n"
     ]
    },
    {
     "name": "stderr",
     "output_type": "stream",
     "text": []
    },
    {
     "name": "stdout",
     "output_type": "stream",
     "text": [
      "Error with model XGBoost on trial 57; seed 57: zero-size array to reduction operation maximum which has no identity\n"
     ]
    },
    {
     "name": "stderr",
     "output_type": "stream",
     "text": []
    },
    {
     "name": "stdout",
     "output_type": "stream",
     "text": [
      "Error with model XGBoost on trial 70; seed 70: zero-size array to reduction operation minimum which has no identity\n"
     ]
    },
    {
     "name": "stderr",
     "output_type": "stream",
     "text": []
    },
    {
     "name": "stdout",
     "output_type": "stream",
     "text": [
      "Error with model XGBoost on trial 72; seed 72: zero-size array to reduction operation maximum which has no identity\n"
     ]
    },
    {
     "name": "stderr",
     "output_type": "stream",
     "text": []
    },
    {
     "name": "stdout",
     "output_type": "stream",
     "text": [
      "Error with model XGBoost on trial 74; seed 74: zero-size array to reduction operation minimum which has no identity\n"
     ]
    },
    {
     "name": "stderr",
     "output_type": "stream",
     "text": []
    },
    {
     "name": "stdout",
     "output_type": "stream",
     "text": [
      "Error with model XGBoost on trial 98; seed 98: zero-size array to reduction operation minimum which has no identity\n"
     ]
    },
    {
     "name": "stderr",
     "output_type": "stream",
     "text": []
    },
    {
     "name": "stdout",
     "output_type": "stream",
     "text": [
      "Error with model XGBoost on trial 99; seed 99: zero-size array to reduction operation maximum which has no identity\n"
     ]
    },
    {
     "name": "stderr",
     "output_type": "stream",
     "text": []
    },
    {
     "name": "stdout",
     "output_type": "stream",
     "text": [
      "Error with model XGBoost on trial 9; seed 109: zero-size array to reduction operation maximum which has no identity\n"
     ]
    },
    {
     "name": "stderr",
     "output_type": "stream",
     "text": []
    },
    {
     "name": "stdout",
     "output_type": "stream",
     "text": [
      "Error with model XGBoost on trial 28; seed 128: zero-size array to reduction operation minimum which has no identity\n"
     ]
    },
    {
     "name": "stderr",
     "output_type": "stream",
     "text": []
    },
    {
     "name": "stdout",
     "output_type": "stream",
     "text": [
      "Error with model XGBoost on trial 30; seed 130: zero-size array to reduction operation minimum which has no identity\n"
     ]
    },
    {
     "name": "stderr",
     "output_type": "stream",
     "text": []
    },
    {
     "name": "stdout",
     "output_type": "stream",
     "text": [
      "Error with model XGBoost on trial 46; seed 146: zero-size array to reduction operation maximum which has no identity\n"
     ]
    },
    {
     "name": "stderr",
     "output_type": "stream",
     "text": []
    },
    {
     "name": "stdout",
     "output_type": "stream",
     "text": [
      "Error with model XGBoost on trial 80; seed 180: zero-size array to reduction operation minimum which has no identity\n"
     ]
    },
    {
     "name": "stderr",
     "output_type": "stream",
     "text": []
    },
    {
     "name": "stdout",
     "output_type": "stream",
     "text": [
      "Error with model XGBoost on trial 5; seed 205: zero-size array to reduction operation minimum which has no identity\n"
     ]
    },
    {
     "name": "stderr",
     "output_type": "stream",
     "text": []
    },
    {
     "name": "stdout",
     "output_type": "stream",
     "text": [
      "Error with model XGBoost on trial 14; seed 214: zero-size array to reduction operation maximum which has no identity\n"
     ]
    },
    {
     "name": "stderr",
     "output_type": "stream",
     "text": []
    },
    {
     "name": "stdout",
     "output_type": "stream",
     "text": [
      "Error with model XGBoost on trial 19; seed 219: zero-size array to reduction operation minimum which has no identity\n"
     ]
    },
    {
     "name": "stderr",
     "output_type": "stream",
     "text": []
    },
    {
     "name": "stdout",
     "output_type": "stream",
     "text": [
      "Error with model XGBoost on trial 40; seed 240: zero-size array to reduction operation minimum which has no identity\n"
     ]
    },
    {
     "name": "stderr",
     "output_type": "stream",
     "text": []
    },
    {
     "name": "stdout",
     "output_type": "stream",
     "text": [
      "Error with model XGBoost on trial 57; seed 257: zero-size array to reduction operation minimum which has no identity\n"
     ]
    },
    {
     "name": "stderr",
     "output_type": "stream",
     "text": []
    },
    {
     "name": "stdout",
     "output_type": "stream",
     "text": [
      "Error with model XGBoost on trial 76; seed 276: zero-size array to reduction operation maximum which has no identity\n"
     ]
    },
    {
     "name": "stderr",
     "output_type": "stream",
     "text": []
    },
    {
     "name": "stdout",
     "output_type": "stream",
     "text": [
      "Error with model XGBoost on trial 89; seed 289: zero-size array to reduction operation minimum which has no identity\n"
     ]
    },
    {
     "name": "stderr",
     "output_type": "stream",
     "text": []
    },
    {
     "name": "stdout",
     "output_type": "stream",
     "text": [
      "Error with model XGBoost on trial 16; seed 316: zero-size array to reduction operation minimum which has no identity\n"
     ]
    },
    {
     "name": "stderr",
     "output_type": "stream",
     "text": []
    },
    {
     "name": "stdout",
     "output_type": "stream",
     "text": [
      "Error with model XGBoost on trial 43; seed 343: zero-size array to reduction operation maximum which has no identity\n"
     ]
    },
    {
     "name": "stderr",
     "output_type": "stream",
     "text": []
    },
    {
     "name": "stdout",
     "output_type": "stream",
     "text": [
      "Error with model XGBoost on trial 56; seed 456: zero-size array to reduction operation minimum which has no identity\n"
     ]
    },
    {
     "name": "stderr",
     "output_type": "stream",
     "text": []
    },
    {
     "name": "stdout",
     "output_type": "stream",
     "text": [
      "Error with model XGBoost on trial 18; seed 618: zero-size array to reduction operation maximum which has no identity\n"
     ]
    },
    {
     "name": "stderr",
     "output_type": "stream",
     "text": []
    }
   ],
   "source": [
    "MODELS = {\n",
    "    \"LorentzDT\": (DecisionTreeRegressor, {\"max_depth\": MAX_DEPTH, \"min_samples_split\": 2, \"min_samples_leaf\": 1}),\n",
    "    \"LorentzRF\": (RandomForestRegressor, {\"max_depth\": MAX_DEPTH, \"min_samples_split\": 2, \"min_samples_leaf\": 1, \"n_estimators\": N_ESTIMATORS, \"n_jobs\": -1}),\n",
    "    \"KleinDT\":   (HyperbolicDecisionTreeRegressor, {\"max_depth\": MAX_DEPTH, \"min_samples_split\": 2, \"min_samples_leaf\": 1, \"midpoint_method\": \"naive\", \"validate_input_geometry\": False}),\n",
    "    \"KleinRF\": (HyperbolicRandomForestRegressor, {\"max_depth\": MAX_DEPTH, \"min_samples_split\": 2, \"min_samples_leaf\": 1, \"n_estimators\": N_ESTIMATORS, \"n_jobs\": -1, \"midpoint_method\": \"naive\", \"validate_input_geometry\": False}),\n",
    "    \"HyperDT\": (HyperbolicDecisionTreeRegressor, {\"max_depth\": MAX_DEPTH, \"min_samples_split\": 2, \"min_samples_leaf\": 1, \"validate_input_geometry\": False}),\n",
    "    \"HyperRF\": (HyperbolicRandomForestRegressor, {\"max_depth\": MAX_DEPTH, \"min_samples_split\": 2, \"min_samples_leaf\": 1, \"n_estimators\": N_ESTIMATORS, \"n_jobs\": -1, \"validate_input_geometry\": False}),\n",
    "    \"XGBoost\": (HyperbolicXGBoostRegressor, {\"max_depth\": MAX_DEPTH, \"n_estimators\": N_ESTIMATORS, \"n_jobs\": -1, \"validate_input_geometry\": False}),\n",
    "    \"HyperCO2\": (HyperbolicContinuouslyOptimizedRegressor, {\"max_depth\": MAX_DEPTH, \"min_samples_split\": 2, \"n_estimators\": N_ESTIMATORS, \"validate_input_geometry\": False}),\n",
    "    \"HyperHHC\": (HyperbolicHouseHolderRegressor, {\"max_depth\": MAX_DEPTH, \"min_samples_split\": 2, \"n_estimators\": N_ESTIMATORS, \"validate_input_geometry\": False}),\n",
    "}\n",
    "\n",
    "seed = -1\n",
    "results = pd.DataFrame(columns=[\"dim\", \"seed\", \"model\", \"accuracy\"])\n",
    "my_tqdm = tqdm(total=len(MODELS) * N_TRIALS * len(DIMS))\n",
    "for dim in DIMS:\n",
    "    for trial in range(N_TRIALS):\n",
    "        seed += 1\n",
    "        X, y = wrapped_normal_mixture(num_points=N_POINTS, num_dims=dim, seed=seed, num_classes=2, regression=True)\n",
    "        X_train, X_test, y_train, y_test = train_test_split(X, y, test_size=0.2, random_state=seed)\n",
    "\n",
    "        for model_name, (model, params) in MODELS.items():\n",
    "            try:\n",
    "                m = model(**params)\n",
    "                m.fit(X_train, y_train)\n",
    "                # acc = accuracy_score(y_test, m.predict(X_test))\n",
    "                acc = mean_squared_error(y_test, m.predict(X_test))\n",
    "\n",
    "                results.loc[len(results)] = [dim, trial, model_name, acc]\n",
    "            except Exception as e:\n",
    "                print(f\"Error with model {model_name} on trial {trial}; seed {seed}: {e}\")\n",
    "\n",
    "            my_tqdm.update(1)"
   ]
  },
  {
   "cell_type": "code",
   "execution_count": 43,
   "id": "6929fb7a",
   "metadata": {},
   "outputs": [],
   "source": [
    "results.to_csv(\"regression_benchmarks.csv\")"
   ]
  },
  {
   "cell_type": "markdown",
   "id": "eabdae34",
   "metadata": {},
   "source": [
    "## Table generation"
   ]
  },
  {
   "cell_type": "code",
   "execution_count": 47,
   "id": "2aaaba3a",
   "metadata": {},
   "outputs": [
    {
     "data": {
      "text/html": [
       "<style type=\"text/css\">\n",
       "#T_bcb18_row0_col0, #T_bcb18_row0_col2, #T_bcb18_row1_col0, #T_bcb18_row1_col2, #T_bcb18_row2_col0, #T_bcb18_row2_col2, #T_bcb18_row3_col0, #T_bcb18_row3_col2, #T_bcb18_row4_col0, #T_bcb18_row4_col2, #T_bcb18_row5_col0, #T_bcb18_row5_col2, #T_bcb18_row6_col0, #T_bcb18_row6_col2, #T_bcb18_row6_col6 {\n",
       "  background-color: #f7fcf5;\n",
       "  color: #000000;\n",
       "}\n",
       "#T_bcb18_row0_col1, #T_bcb18_row0_col4 {\n",
       "  background-color: #238b45;\n",
       "  color: #f1f1f1;\n",
       "}\n",
       "#T_bcb18_row0_col3 {\n",
       "  background-color: #067230;\n",
       "  color: #f1f1f1;\n",
       "}\n",
       "#T_bcb18_row0_col5 {\n",
       "  background-color: #05712f;\n",
       "  color: #f1f1f1;\n",
       "}\n",
       "#T_bcb18_row0_col6 {\n",
       "  background-color: #2f984f;\n",
       "  color: #f1f1f1;\n",
       "}\n",
       "#T_bcb18_row0_col7, #T_bcb18_row1_col5 {\n",
       "  background-color: #2b934b;\n",
       "  color: #f1f1f1;\n",
       "}\n",
       "#T_bcb18_row0_col8, #T_bcb18_row1_col8, #T_bcb18_row2_col8, #T_bcb18_row3_col8, #T_bcb18_row4_col8, #T_bcb18_row5_col8, #T_bcb18_row6_col8 {\n",
       "  background-color: #00441b;\n",
       "  color: #f1f1f1;\n",
       "}\n",
       "#T_bcb18_row1_col1, #T_bcb18_row1_col4 {\n",
       "  background-color: #6abf71;\n",
       "  color: #000000;\n",
       "}\n",
       "#T_bcb18_row1_col3 {\n",
       "  background-color: #2a924a;\n",
       "  color: #f1f1f1;\n",
       "}\n",
       "#T_bcb18_row1_col6 {\n",
       "  background-color: #7ac77b;\n",
       "  color: #000000;\n",
       "}\n",
       "#T_bcb18_row1_col7 {\n",
       "  background-color: #45ad5f;\n",
       "  color: #f1f1f1;\n",
       "}\n",
       "#T_bcb18_row2_col1, #T_bcb18_row2_col4 {\n",
       "  background-color: #a0d99b;\n",
       "  color: #000000;\n",
       "}\n",
       "#T_bcb18_row2_col3, #T_bcb18_row2_col5 {\n",
       "  background-color: #46ae60;\n",
       "  color: #f1f1f1;\n",
       "}\n",
       "#T_bcb18_row2_col6 {\n",
       "  background-color: #a7dba0;\n",
       "  color: #000000;\n",
       "}\n",
       "#T_bcb18_row2_col7 {\n",
       "  background-color: #65bd6f;\n",
       "  color: #f1f1f1;\n",
       "}\n",
       "#T_bcb18_row3_col1, #T_bcb18_row3_col4 {\n",
       "  background-color: #c8e9c1;\n",
       "  color: #000000;\n",
       "}\n",
       "#T_bcb18_row3_col3 {\n",
       "  background-color: #70c274;\n",
       "  color: #000000;\n",
       "}\n",
       "#T_bcb18_row3_col5 {\n",
       "  background-color: #72c375;\n",
       "  color: #000000;\n",
       "}\n",
       "#T_bcb18_row3_col6, #T_bcb18_row5_col7 {\n",
       "  background-color: #c9eac2;\n",
       "  color: #000000;\n",
       "}\n",
       "#T_bcb18_row3_col7 {\n",
       "  background-color: #94d390;\n",
       "  color: #000000;\n",
       "}\n",
       "#T_bcb18_row4_col1, #T_bcb18_row4_col4 {\n",
       "  background-color: #dbf1d6;\n",
       "  color: #000000;\n",
       "}\n",
       "#T_bcb18_row4_col3 {\n",
       "  background-color: #8bcf89;\n",
       "  color: #000000;\n",
       "}\n",
       "#T_bcb18_row4_col5 {\n",
       "  background-color: #90d18d;\n",
       "  color: #000000;\n",
       "}\n",
       "#T_bcb18_row4_col6 {\n",
       "  background-color: #def2d9;\n",
       "  color: #000000;\n",
       "}\n",
       "#T_bcb18_row4_col7 {\n",
       "  background-color: #aedea7;\n",
       "  color: #000000;\n",
       "}\n",
       "#T_bcb18_row5_col1, #T_bcb18_row6_col4 {\n",
       "  background-color: #eff9ec;\n",
       "  color: #000000;\n",
       "}\n",
       "#T_bcb18_row5_col3 {\n",
       "  background-color: #acdea6;\n",
       "  color: #000000;\n",
       "}\n",
       "#T_bcb18_row5_col4, #T_bcb18_row6_col1 {\n",
       "  background-color: #f0f9ec;\n",
       "  color: #000000;\n",
       "}\n",
       "#T_bcb18_row5_col5 {\n",
       "  background-color: #abdda5;\n",
       "  color: #000000;\n",
       "}\n",
       "#T_bcb18_row5_col6 {\n",
       "  background-color: #f1faee;\n",
       "  color: #000000;\n",
       "}\n",
       "#T_bcb18_row6_col3 {\n",
       "  background-color: #b8e3b2;\n",
       "  color: #000000;\n",
       "}\n",
       "#T_bcb18_row6_col5 {\n",
       "  background-color: #b6e2af;\n",
       "  color: #000000;\n",
       "}\n",
       "#T_bcb18_row6_col7 {\n",
       "  background-color: #daf0d4;\n",
       "  color: #000000;\n",
       "}\n",
       "</style>\n",
       "<table id=\"T_bcb18\">\n",
       "  <thead>\n",
       "    <tr>\n",
       "      <th class=\"index_name level0\" >model</th>\n",
       "      <th id=\"T_bcb18_level0_col0\" class=\"col_heading level0 col0\" >HyperCO2</th>\n",
       "      <th id=\"T_bcb18_level0_col1\" class=\"col_heading level0 col1\" >HyperDT</th>\n",
       "      <th id=\"T_bcb18_level0_col2\" class=\"col_heading level0 col2\" >HyperHHC</th>\n",
       "      <th id=\"T_bcb18_level0_col3\" class=\"col_heading level0 col3\" >HyperRF</th>\n",
       "      <th id=\"T_bcb18_level0_col4\" class=\"col_heading level0 col4\" >KleinDT</th>\n",
       "      <th id=\"T_bcb18_level0_col5\" class=\"col_heading level0 col5\" >KleinRF</th>\n",
       "      <th id=\"T_bcb18_level0_col6\" class=\"col_heading level0 col6\" >LorentzDT</th>\n",
       "      <th id=\"T_bcb18_level0_col7\" class=\"col_heading level0 col7\" >LorentzRF</th>\n",
       "      <th id=\"T_bcb18_level0_col8\" class=\"col_heading level0 col8\" >XGBoost</th>\n",
       "    </tr>\n",
       "    <tr>\n",
       "      <th class=\"index_name level0\" >dim</th>\n",
       "      <th class=\"blank col0\" >&nbsp;</th>\n",
       "      <th class=\"blank col1\" >&nbsp;</th>\n",
       "      <th class=\"blank col2\" >&nbsp;</th>\n",
       "      <th class=\"blank col3\" >&nbsp;</th>\n",
       "      <th class=\"blank col4\" >&nbsp;</th>\n",
       "      <th class=\"blank col5\" >&nbsp;</th>\n",
       "      <th class=\"blank col6\" >&nbsp;</th>\n",
       "      <th class=\"blank col7\" >&nbsp;</th>\n",
       "      <th class=\"blank col8\" >&nbsp;</th>\n",
       "    </tr>\n",
       "  </thead>\n",
       "  <tbody>\n",
       "    <tr>\n",
       "      <th id=\"T_bcb18_level0_row0\" class=\"row_heading level0 row0\" >2</th>\n",
       "      <td id=\"T_bcb18_row0_col0\" class=\"data row0 col0\" >0.180650</td>\n",
       "      <td id=\"T_bcb18_row0_col1\" class=\"data row0 col1\" >0.507500</td>\n",
       "      <td id=\"T_bcb18_row0_col2\" class=\"data row0 col2\" >0.114400</td>\n",
       "      <td id=\"T_bcb18_row0_col3\" class=\"data row0 col3\" >0.543400</td>\n",
       "      <td id=\"T_bcb18_row0_col4\" class=\"data row0 col4\" >0.507500</td>\n",
       "      <td id=\"T_bcb18_row0_col5\" class=\"data row0 col5\" >0.545950</td>\n",
       "      <td id=\"T_bcb18_row0_col6\" class=\"data row0 col6\" >0.489850</td>\n",
       "      <td id=\"T_bcb18_row0_col7\" class=\"data row0 col7\" >0.496300</td>\n",
       "      <td id=\"T_bcb18_row0_col8\" class=\"data row0 col8\" >0.594400</td>\n",
       "    </tr>\n",
       "    <tr>\n",
       "      <th id=\"T_bcb18_level0_row1\" class=\"row_heading level0 row1\" >4</th>\n",
       "      <td id=\"T_bcb18_row1_col0\" class=\"data row1 col0\" >0.166850</td>\n",
       "      <td id=\"T_bcb18_row1_col1\" class=\"data row1 col1\" >0.432400</td>\n",
       "      <td id=\"T_bcb18_row1_col2\" class=\"data row1 col2\" >0.136350</td>\n",
       "      <td id=\"T_bcb18_row1_col3\" class=\"data row1 col3\" >0.499900</td>\n",
       "      <td id=\"T_bcb18_row1_col4\" class=\"data row1 col4\" >0.432400</td>\n",
       "      <td id=\"T_bcb18_row1_col5\" class=\"data row1 col5\" >0.497700</td>\n",
       "      <td id=\"T_bcb18_row1_col6\" class=\"data row1 col6\" >0.417550</td>\n",
       "      <td id=\"T_bcb18_row1_col7\" class=\"data row1 col7\" >0.463500</td>\n",
       "      <td id=\"T_bcb18_row1_col8\" class=\"data row1 col8\" >0.596000</td>\n",
       "    </tr>\n",
       "    <tr>\n",
       "      <th id=\"T_bcb18_level0_row2\" class=\"row_heading level0 row2\" >8</th>\n",
       "      <td id=\"T_bcb18_row2_col0\" class=\"data row2 col0\" >0.155850</td>\n",
       "      <td id=\"T_bcb18_row2_col1\" class=\"data row2 col1\" >0.374050</td>\n",
       "      <td id=\"T_bcb18_row2_col2\" class=\"data row2 col2\" >0.118800</td>\n",
       "      <td id=\"T_bcb18_row2_col3\" class=\"data row2 col3\" >0.452250</td>\n",
       "      <td id=\"T_bcb18_row2_col4\" class=\"data row2 col4\" >0.374100</td>\n",
       "      <td id=\"T_bcb18_row2_col5\" class=\"data row2 col5\" >0.452100</td>\n",
       "      <td id=\"T_bcb18_row2_col6\" class=\"data row2 col6\" >0.367550</td>\n",
       "      <td id=\"T_bcb18_row2_col7\" class=\"data row2 col7\" >0.427600</td>\n",
       "      <td id=\"T_bcb18_row2_col8\" class=\"data row2 col8\" >0.580650</td>\n",
       "    </tr>\n",
       "    <tr>\n",
       "      <th id=\"T_bcb18_level0_row3\" class=\"row_heading level0 row3\" >16</th>\n",
       "      <td id=\"T_bcb18_row3_col0\" class=\"data row3 col0\" >0.138450</td>\n",
       "      <td id=\"T_bcb18_row3_col1\" class=\"data row3 col1\" >0.322700</td>\n",
       "      <td id=\"T_bcb18_row3_col2\" class=\"data row3 col2\" >0.134650</td>\n",
       "      <td id=\"T_bcb18_row3_col3\" class=\"data row3 col3\" >0.398300</td>\n",
       "      <td id=\"T_bcb18_row3_col4\" class=\"data row3 col4\" >0.322900</td>\n",
       "      <td id=\"T_bcb18_row3_col5\" class=\"data row3 col5\" >0.398200</td>\n",
       "      <td id=\"T_bcb18_row3_col6\" class=\"data row3 col6\" >0.321500</td>\n",
       "      <td id=\"T_bcb18_row3_col7\" class=\"data row3 col7\" >0.370800</td>\n",
       "      <td id=\"T_bcb18_row3_col8\" class=\"data row3 col8\" >0.542000</td>\n",
       "    </tr>\n",
       "    <tr>\n",
       "      <th id=\"T_bcb18_level0_row4\" class=\"row_heading level0 row4\" >32</th>\n",
       "      <td id=\"T_bcb18_row4_col0\" class=\"data row4 col0\" >0.123850</td>\n",
       "      <td id=\"T_bcb18_row4_col1\" class=\"data row4 col1\" >0.289000</td>\n",
       "      <td id=\"T_bcb18_row4_col2\" class=\"data row4 col2\" >0.125800</td>\n",
       "      <td id=\"T_bcb18_row4_col3\" class=\"data row4 col3\" >0.352900</td>\n",
       "      <td id=\"T_bcb18_row4_col4\" class=\"data row4 col4\" >0.289100</td>\n",
       "      <td id=\"T_bcb18_row4_col5\" class=\"data row4 col5\" >0.350650</td>\n",
       "      <td id=\"T_bcb18_row4_col6\" class=\"data row4 col6\" >0.286600</td>\n",
       "      <td id=\"T_bcb18_row4_col7\" class=\"data row4 col7\" >0.329250</td>\n",
       "      <td id=\"T_bcb18_row4_col8\" class=\"data row4 col8\" >0.486700</td>\n",
       "    </tr>\n",
       "    <tr>\n",
       "      <th id=\"T_bcb18_level0_row5\" class=\"row_heading level0 row5\" >64</th>\n",
       "      <td id=\"T_bcb18_row5_col0\" class=\"data row5 col0\" >0.131000</td>\n",
       "      <td id=\"T_bcb18_row5_col1\" class=\"data row5 col1\" >0.258800</td>\n",
       "      <td id=\"T_bcb18_row5_col2\" class=\"data row5 col2\" >0.122250</td>\n",
       "      <td id=\"T_bcb18_row5_col3\" class=\"data row5 col3\" >0.304150</td>\n",
       "      <td id=\"T_bcb18_row5_col4\" class=\"data row5 col4\" >0.258550</td>\n",
       "      <td id=\"T_bcb18_row5_col5\" class=\"data row5 col5\" >0.304550</td>\n",
       "      <td id=\"T_bcb18_row5_col6\" class=\"data row5 col6\" >0.257350</td>\n",
       "      <td id=\"T_bcb18_row5_col7\" class=\"data row5 col7\" >0.288950</td>\n",
       "      <td id=\"T_bcb18_row5_col8\" class=\"data row5 col8\" >0.410150</td>\n",
       "    </tr>\n",
       "    <tr>\n",
       "      <th id=\"T_bcb18_level0_row6\" class=\"row_heading level0 row6\" >128</th>\n",
       "      <td id=\"T_bcb18_row6_col0\" class=\"data row6 col0\" >0.136900</td>\n",
       "      <td id=\"T_bcb18_row6_col1\" class=\"data row6 col1\" >0.255550</td>\n",
       "      <td id=\"T_bcb18_row6_col2\" class=\"data row6 col2\" >0.128650</td>\n",
       "      <td id=\"T_bcb18_row6_col3\" class=\"data row6 col3\" >0.280650</td>\n",
       "      <td id=\"T_bcb18_row6_col4\" class=\"data row6 col4\" >0.255650</td>\n",
       "      <td id=\"T_bcb18_row6_col5\" class=\"data row6 col5\" >0.281100</td>\n",
       "      <td id=\"T_bcb18_row6_col6\" class=\"data row6 col6\" >0.246600</td>\n",
       "      <td id=\"T_bcb18_row6_col7\" class=\"data row6 col7\" >0.267550</td>\n",
       "      <td id=\"T_bcb18_row6_col8\" class=\"data row6 col8\" >0.352050</td>\n",
       "    </tr>\n",
       "  </tbody>\n",
       "</table>\n"
      ],
      "text/plain": [
       "<pandas.io.formats.style.Styler at 0x7742f1932d20>"
      ]
     },
     "execution_count": 47,
     "metadata": {},
     "output_type": "execute_result"
    }
   ],
   "source": [
    "from IPython.display import display\n",
    "\n",
    "# Pivot by model, group by seed; report mean of accuracy\n",
    "results_agg = results.groupby(['model', 'dim'])['accuracy'].mean().unstack().T\n",
    "\n",
    "# Conditional formatting: higher = greener\n",
    "# styled_results = results_agg.style.background_gradient(cmap='Greens_r', vmax=0.03, axis=1)\n",
    "styled_results = results_agg.style.background_gradient(cmap='Greens', vmin=0.25, axis=1)\n",
    "styled_results"
   ]
  },
  {
   "cell_type": "code",
   "execution_count": 51,
   "id": "423a472c",
   "metadata": {},
   "outputs": [
    {
     "name": "stdout",
     "output_type": "stream",
     "text": [
      "\\begin{tabular}{lrrrrrrrrr}\n",
      " & \\multicolumn{5}{r}{Decision Trees} & \\multicolumn{4}{r}{Random Forests} \\\\\n",
      " & LorentzDT & KleinDT & HyperDT & HyperCO2 & HyperHHC & LorentzRF & KleinRF & HyperRF & XGBoost \\\\\n",
      "dim &  &  &  &  &  &  &  &  &  \\\\\n",
      "2 & {\\cellcolor[HTML]{2F984F}} \\color[HTML]{F1F1F1} 48.98 & {\\cellcolor[HTML]{238B45}} \\color[HTML]{F1F1F1} 50.75 & {\\cellcolor[HTML]{238B45}} \\color[HTML]{F1F1F1} 50.75 & {\\cellcolor[HTML]{F7FCF5}} \\color[HTML]{000000} 18.07 & {\\cellcolor[HTML]{F7FCF5}} \\color[HTML]{000000} 11.44 & {\\cellcolor[HTML]{2B934B}} \\color[HTML]{F1F1F1} 49.63 & {\\cellcolor[HTML]{05712F}} \\color[HTML]{F1F1F1} 54.59 & {\\cellcolor[HTML]{067230}} \\color[HTML]{F1F1F1} 54.34 & {\\cellcolor[HTML]{00441B}} \\color[HTML]{F1F1F1} 59.44 \\\\\n",
      "4 & {\\cellcolor[HTML]{7AC77B}} \\color[HTML]{000000} 41.76 & {\\cellcolor[HTML]{6ABF71}} \\color[HTML]{000000} 43.24 & {\\cellcolor[HTML]{6ABF71}} \\color[HTML]{000000} 43.24 & {\\cellcolor[HTML]{F7FCF5}} \\color[HTML]{000000} 16.68 & {\\cellcolor[HTML]{F7FCF5}} \\color[HTML]{000000} 13.63 & {\\cellcolor[HTML]{45AD5F}} \\color[HTML]{F1F1F1} 46.35 & {\\cellcolor[HTML]{2B934B}} \\color[HTML]{F1F1F1} 49.77 & {\\cellcolor[HTML]{2A924A}} \\color[HTML]{F1F1F1} 49.99 & {\\cellcolor[HTML]{00441B}} \\color[HTML]{F1F1F1} 59.60 \\\\\n",
      "8 & {\\cellcolor[HTML]{A7DBA0}} \\color[HTML]{000000} 36.76 & {\\cellcolor[HTML]{A0D99B}} \\color[HTML]{000000} 37.41 & {\\cellcolor[HTML]{A0D99B}} \\color[HTML]{000000} 37.41 & {\\cellcolor[HTML]{F7FCF5}} \\color[HTML]{000000} 15.59 & {\\cellcolor[HTML]{F7FCF5}} \\color[HTML]{000000} 11.88 & {\\cellcolor[HTML]{65BD6F}} \\color[HTML]{F1F1F1} 42.76 & {\\cellcolor[HTML]{46AE60}} \\color[HTML]{F1F1F1} 45.21 & {\\cellcolor[HTML]{46AE60}} \\color[HTML]{F1F1F1} 45.23 & {\\cellcolor[HTML]{00441B}} \\color[HTML]{F1F1F1} 58.06 \\\\\n",
      "16 & {\\cellcolor[HTML]{C9EAC2}} \\color[HTML]{000000} 32.15 & {\\cellcolor[HTML]{C8E9C1}} \\color[HTML]{000000} 32.29 & {\\cellcolor[HTML]{C8E9C1}} \\color[HTML]{000000} 32.27 & {\\cellcolor[HTML]{F7FCF5}} \\color[HTML]{000000} 13.85 & {\\cellcolor[HTML]{F7FCF5}} \\color[HTML]{000000} 13.46 & {\\cellcolor[HTML]{94D390}} \\color[HTML]{000000} 37.08 & {\\cellcolor[HTML]{72C375}} \\color[HTML]{000000} 39.82 & {\\cellcolor[HTML]{70C274}} \\color[HTML]{000000} 39.83 & {\\cellcolor[HTML]{00441B}} \\color[HTML]{F1F1F1} 54.20 \\\\\n",
      "32 & {\\cellcolor[HTML]{DEF2D9}} \\color[HTML]{000000} 28.66 & {\\cellcolor[HTML]{DBF1D6}} \\color[HTML]{000000} 28.91 & {\\cellcolor[HTML]{DBF1D6}} \\color[HTML]{000000} 28.90 & {\\cellcolor[HTML]{F7FCF5}} \\color[HTML]{000000} 12.38 & {\\cellcolor[HTML]{F7FCF5}} \\color[HTML]{000000} 12.58 & {\\cellcolor[HTML]{AEDEA7}} \\color[HTML]{000000} 32.92 & {\\cellcolor[HTML]{90D18D}} \\color[HTML]{000000} 35.06 & {\\cellcolor[HTML]{8BCF89}} \\color[HTML]{000000} 35.29 & {\\cellcolor[HTML]{00441B}} \\color[HTML]{F1F1F1} 48.67 \\\\\n",
      "64 & {\\cellcolor[HTML]{F1FAEE}} \\color[HTML]{000000} 25.73 & {\\cellcolor[HTML]{F0F9EC}} \\color[HTML]{000000} 25.86 & {\\cellcolor[HTML]{EFF9EC}} \\color[HTML]{000000} 25.88 & {\\cellcolor[HTML]{F7FCF5}} \\color[HTML]{000000} 13.10 & {\\cellcolor[HTML]{F7FCF5}} \\color[HTML]{000000} 12.22 & {\\cellcolor[HTML]{C9EAC2}} \\color[HTML]{000000} 28.89 & {\\cellcolor[HTML]{ABDDA5}} \\color[HTML]{000000} 30.45 & {\\cellcolor[HTML]{ACDEA6}} \\color[HTML]{000000} 30.41 & {\\cellcolor[HTML]{00441B}} \\color[HTML]{F1F1F1} 41.02 \\\\\n",
      "128 & {\\cellcolor[HTML]{F7FCF5}} \\color[HTML]{000000} 24.66 & {\\cellcolor[HTML]{EFF9EC}} \\color[HTML]{000000} 25.56 & {\\cellcolor[HTML]{F0F9EC}} \\color[HTML]{000000} 25.55 & {\\cellcolor[HTML]{F7FCF5}} \\color[HTML]{000000} 13.69 & {\\cellcolor[HTML]{F7FCF5}} \\color[HTML]{000000} 12.87 & {\\cellcolor[HTML]{DAF0D4}} \\color[HTML]{000000} 26.76 & {\\cellcolor[HTML]{B6E2AF}} \\color[HTML]{000000} 28.11 & {\\cellcolor[HTML]{B8E3B2}} \\color[HTML]{000000} 28.07 & {\\cellcolor[HTML]{00441B}} \\color[HTML]{F1F1F1} 35.20 \\\\\n",
      "\\end{tabular}\n",
      "\n"
     ]
    }
   ],
   "source": [
    "# Group columns\n",
    "dt_cols = [\"LorentzDT\", \"KleinDT\", \"HyperDT\", \"HyperCO2\", \"HyperHHC\"]\n",
    "rf_cols = [\"LorentzRF\", \"KleinRF\", \"HyperRF\", \"XGBoost\"]\n",
    "\n",
    "# Reorder columns\n",
    "# results_agg_grouped = results_agg[euclidean_cols + hyperbolic_cols]\n",
    "results_agg_grouped = results_agg[dt_cols + rf_cols]\n",
    "\n",
    "# Add multi-index for column grouping\n",
    "results_agg_grouped.columns = pd.MultiIndex.from_tuples(\n",
    "    # [('Euclidean', col) if col in euclidean_cols else ('Hyperbolic', col) for col in results_agg_grouped.columns]\n",
    "    [(\"Decision Trees\", col) if col in dt_cols else (\"Random Forests\", col) for col in results_agg_grouped.columns]\n",
    ")\n",
    "results_agg_grouped *= 100\n",
    "\n",
    "# Export to LaTeX with styling\n",
    "latex_table = results_agg_grouped.style.background_gradient(\n",
    "    # cmap='Greens_r', axis=1, vmax=0.03\n",
    "    cmap=\"Greens\", axis=1, vmin=25\n",
    "    ).format(\n",
    "        \"{:.2f}\"\n",
    "    ).to_latex(convert_css=True)\n",
    "\n",
    "# Save to file or display\n",
    "with open(\"images/benchmark_results_table_regression.tex\", \"w\") as f:\n",
    "    f.write(latex_table)\n",
    "\n",
    "print(latex_table)"
   ]
  },
  {
   "cell_type": "markdown",
   "id": "9e2690ea",
   "metadata": {},
   "source": [
    "# Timing benchmarks"
   ]
  },
  {
   "cell_type": "code",
   "execution_count": null,
   "id": "5cfb1ab5",
   "metadata": {},
   "outputs": [
    {
     "name": "stderr",
     "output_type": "stream",
     "text": [
      "Processing 32768 samples: 100%|██████████| 150/150 [32:32<00:00, 131.66s/it]"
     ]
    }
   ],
   "source": [
    "# Timing benchmarks\n",
    "from hyperdt.legacy.tree import HyperbolicDecisionTreeClassifier as OldHyperDT\n",
    "from hyperdt.toy_data import wrapped_normal_mixture\n",
    "from time import time\n",
    "import matplotlib.pyplot as plt\n",
    "from tqdm import tqdm\n",
    "import pandas as pd\n",
    "\n",
    "N_TRIALS = 10\n",
    "\n",
    "times = pd.DataFrame(columns=[\"model\", \"n_samples\", \"trial\", \"time\"])\n",
    "samples_arr = [2, 4, 8, 16, 32, 64, 128, 256, 512, 1_024, 2_048, 4_096, 8_192, 16_384, 32_768]\n",
    "my_tqdm = tqdm(total=len(samples_arr) * N_TRIALS)\n",
    "\n",
    "for n_samples in samples_arr:\n",
    "    # print(n_samples, end=\" \")\n",
    "    my_tqdm.set_description(f\"Processing {n_samples} samples\")\n",
    "    for trial in range(N_TRIALS):\n",
    "        hdt = OldHyperDT(max_depth=3)\n",
    "        fhdt = HyperbolicDecisionTreeClassifier(max_depth=3)\n",
    "\n",
    "        X, y = wrapped_normal_mixture(n_samples)\n",
    "\n",
    "        t1 = time()\n",
    "        fhdt.fit(X, y)\n",
    "        t2 = time() - t1\n",
    "        times.loc[len(times)] = [\"Fast-HyperDT\", n_samples, trial, t2]\n",
    "\n",
    "        t3 = time()\n",
    "        hdt.fit(X, y)\n",
    "        t4 = time() - t3\n",
    "        times.loc[len(times)] = [\"HyperDT\", n_samples, trial, t4]\n",
    "\n",
    "        my_tqdm.update(1)"
   ]
  },
  {
   "cell_type": "code",
   "execution_count": null,
   "id": "0c7e4da7",
   "metadata": {},
   "outputs": [
    {
     "data": {
      "image/png": "[encoded data removed]",
      "text/plain": [
       "<Figure size 1200x300 with 2 Axes>"
      ]
     },
     "metadata": {},
     "output_type": "display_data"
    }
   ],
   "source": [
    "import numpy as np\n",
    "\n",
    "# times.to_csv(\"times.csv\")\n",
    "times = pd.read_csv(\"times.csv\")\n",
    "\n",
    "times_agg = times.groupby([\"model\", \"n_samples\"]).mean()\n",
    "times_ci = 1.96 * times.groupby([\"model\", \"n_samples\"])[\"time\"].std() / (times.groupby([\"model\", \"n_samples\"])[\"time\"].count() ** 0.5)\n",
    "\n",
    "fig, (ax0, ax1) = plt.subplots(1, 2, figsize=(12, 3))\n",
    "ax0.plot(times_agg.xs(\"Fast-HyperDT\", level=\"model\").index, times_agg.xs(\"Fast-HyperDT\", level=\"model\")[\"time\"], label='Fast-HyperDT', lw=2)\n",
    "ax0.fill_between(\n",
    "    times_agg.xs(\"Fast-HyperDT\", level=\"model\").index,\n",
    "    times_agg.xs(\"Fast-HyperDT\", level=\"model\")[\"time\"] - times_ci.xs(\"Fast-HyperDT\", level=\"model\"),\n",
    "    times_agg.xs(\"Fast-HyperDT\", level=\"model\")[\"time\"] + times_ci.xs(\"Fast-HyperDT\", level=\"model\"),\n",
    "    alpha=0.5, edgecolor=\"none\"\n",
    ")\n",
    "ax0.plot(times_agg.xs(\"HyperDT\", level=\"model\").index, times_agg.xs(\"HyperDT\", level=\"model\")[\"time\"], label='HyperDT', lw=2)\n",
    "ax0.fill_between(\n",
    "    times_agg.xs(\"HyperDT\", level=\"model\").index,\n",
    "    times_agg.xs(\"HyperDT\", level=\"model\")[\"time\"] - times_ci.xs(\"HyperDT\", level=\"model\"),\n",
    "    times_agg.xs(\"HyperDT\", level=\"model\")[\"time\"] + times_ci.xs(\"HyperDT\", level=\"model\"),\n",
    "    alpha=0.5, edgecolor=\"none\"\n",
    ")\n",
    "ax0.set_xlabel('Number of Samples')\n",
    "ax0.set_ylabel('Time to Train (sec)')\n",
    "ax0.set_yscale(\"log\")\n",
    "ax0.set_xscale(\"log\")\n",
    "ax0.set_xticks([2, 8, 32, 128, 512, 2048, 8192, 32768])\n",
    "ax0.set_xticklabels([\"2\", \"8\", \"32\", \"128\", \"512\", \"2,048\", \"8,192\", \"32,768\"])\n",
    "ax0.set_yticks([0.001, 0.01, 0.1, 1, 10, 100])\n",
    "ax0.set_yticklabels([\"0.001\", \"0.01\", \"0.1\", \"1\", \"10\", \"100\"])\n",
    "ax0.set_title('Training Time Comparison')\n",
    "\n",
    "# Calculate speedup and its confidence interval using error propagation\n",
    "hyper_times = times_agg.xs(\"HyperDT\", level=\"model\")[\"time\"]\n",
    "fast_times = times_agg.xs(\"Fast-HyperDT\", level=\"model\")[\"time\"]\n",
    "times_speedup = hyper_times / fast_times\n",
    "\n",
    "hyper_std = times_ci.xs(\"HyperDT\", level=\"model\")\n",
    "fast_std = times_ci.xs(\"Fast-HyperDT\", level=\"model\")\n",
    "# Error propagation formula for division\n",
    "times_speedup_ci = times_speedup * np.sqrt((hyper_std/hyper_times)**2 + (fast_std/fast_times)**2)\n",
    "\n",
    "ax1.plot(times_speedup.index, times_speedup, label='Speedup', lw=2, c=\"C2\")\n",
    "ax1.fill_between(\n",
    "    times_speedup.index,\n",
    "    times_speedup - times_speedup_ci,\n",
    "    times_speedup + times_speedup_ci,\n",
    "    alpha=0.5,\n",
    "    color='C2', edgecolor=\"none\", \n",
    ")\n",
    "ax1.set_title('Speedup')\n",
    "ax1.set_xlabel('Number of Samples')\n",
    "ax1.set_ylabel('Fast-HyperDT Speedup Factor')\n",
    "ax1.axhline(y=1, color='r', linestyle='--', label='No Speedup', lw=1)\n",
    "ax1.set_xscale(\"log\")\n",
    "ax1.set_yscale(\"log\")\n",
    "ax1.set_xticks([2, 8, 32, 128, 512, 2048, 8192, 32768])\n",
    "ax1.set_xticklabels([\"2\", \"8\", \"32\", \"128\", \"512\", \"2,048\", \"8,192\", \"32,768\"])\n",
    "ax1.set_ylabel('Speedup Factor (log scale)')\n",
    "ax1.set_yticks([1, 10, 100, 1000, 10000])\n",
    "ax1.set_yticklabels([\"1x\", \"10x\", \"100x\", \"1,000x\", \"10,000x\"])\n",
    "\n",
    "for ax in [ax0, ax1]:\n",
    "    ax.spines['top'].set_visible(False)\n",
    "    ax.spines['right'].set_visible(False)\n",
    "\n",
    "# collect all handles/labels from both axes\n",
    "handles, labels = [], []\n",
    "for ax in (ax0, ax1):\n",
    "    h, l = ax.get_legend_handles_labels()\n",
    "    handles += h\n",
    "    labels += l\n",
    "\n",
    "# place a single legend at the right\n",
    "ax1.legend(handles, labels, loc='center right', shadow=False, frameon=False, bbox_to_anchor=(1.3, 0.5))\n",
    "\n",
    "plt.tight_layout()\n",
    "plt.savefig(\"images/speed_comparison.pdf\", bbox_inches='tight', dpi=300)\n",
    "plt.show()"
   ]
  },
  {
   "cell_type": "code",
   "execution_count": null,
   "id": "87c8af3c",
   "metadata": {},
   "outputs": [],
   "source": []
  }
 ],
 "metadata": {
  "kernelspec": {
   "display_name": "base",
   "language": "python",
   "name": "python3"
  },
  "language_info": {
   "codemirror_mode": {
    "name": "ipython",
    "version": 3
   },
   "file_extension": ".py",
   "mimetype": "text/x-python",
   "name": "python",
   "nbconvert_exporter": "python",
   "pygments_lexer": "ipython3",
   "version": "undefined.undefined.undefined"
  }
 },
 "nbformat": 4,
 "nbformat_minor": 5
}
